{
 "cells": [
  {
   "cell_type": "code",
   "execution_count": null,
   "metadata": {},
   "outputs": [],
   "source": [
    "import smtplib\n",
    "import glob\n",
    "import docx\n",
    "import pyodbc\n",
    "import os \n",
    "import pandas as pd\n",
    "import openpyxl as op\n",
    "import re\n",
    "import numpy as np\n",
    "import seaborn as sns\n",
    "import sys\n",
    "import time\n",
    "from datetime import datetime\n",
    "from email.mime.text import MIMEText\n",
    "from email.mime.multipart import MIMEMultipart\n",
    "from email.mime.base import MIMEBase\n",
    "from email.encoders import encode_base64\n",
    "from email import encoders\n",
    "import gspread\n",
    "from oauth2client.service_account import ServiceAccountCredentials\n"
   ]
  },
  {
   "cell_type": "code",
   "execution_count": null,
   "metadata": {},
   "outputs": [],
   "source": [
    "#Current Month Variable for Pivot Column Name Change\n",
    "current_month_text = datetime.now().strftime('%B')\n",
    "current_month_text"
   ]
  },
  {
   "cell_type": "code",
   "execution_count": null,
   "metadata": {},
   "outputs": [],
   "source": [
    "#Current Month Variable for Pivot Word Doc labels\n",
    "current_month_year_text = datetime.now().strftime('%B %Y')\n",
    "current_month_year_text"
   ]
  },
  {
   "cell_type": "code",
   "execution_count": null,
   "metadata": {},
   "outputs": [],
   "source": [
    "#Use current path were import file is stored\n",
    "os.chdir(\"/Users/Jeffrey.Lu@ibm.com/Desktop/\")"
   ]
  },
  {
   "cell_type": "code",
   "execution_count": null,
   "metadata": {},
   "outputs": [],
   "source": [
    "# When importing data, save the file to your cwd with the below formatted title\n",
    "df=pd.read_csv(time.strftime('Pacing Report %m-%d-%Y'))"
   ]
  },
  {
   "cell_type": "code",
   "execution_count": null,
   "metadata": {},
   "outputs": [],
   "source": [
    "#Removing Unnecessary Columns\n",
    "df.drop(['Ad_Computed_Status', 'Month_Goal_Amount','Month_Captured_Amount',\\\n",
    "        'Total_Captured_Amount','Current_Month_Overdelivery_Amount','Total_Overdelivery_Amount'],\\\n",
    "       axis = 1, inplace = True)"
   ]
  },
  {
   "cell_type": "code",
   "execution_count": null,
   "metadata": {},
   "outputs": [],
   "source": [
    "#Convert UD Column DType to float\n",
    "df['Current_Month_Estimated_Underdelivery_Amount'] = \\\n",
    "df['Current_Month_Estimated_Underdelivery_Amount'].str.replace(',','').astype(float)\n",
    "\n",
    "df['Estimated_Underdelivery_Amount'] = \\\n",
    "df['Estimated_Underdelivery_Amount'].str.replace(',','').astype(float)\n"
   ]
  },
  {
   "cell_type": "code",
   "execution_count": null,
   "metadata": {},
   "outputs": [],
   "source": [
    "# Printing and Dropping Bad AV lines\n",
    "\n",
    "Bad_AV_Lines = df['Ad_Name'][(df['Ad_Name'].str.contains('_AV', regex = True))&\\\n",
    "              (df['Current_Month_Estimated_Underdelivery_Amount']!= 0)]\n",
    "\n",
    "if df['Ad_Name'][(df['Ad_Name'].str.contains('_AV', regex = True))&\\\n",
    "              (df['Current_Month_Estimated_Underdelivery_Amount']!= 0)].count() > 0:\n",
    "    Bad_AV_IndexNames = Bad_AV_Lines.index\n",
    "    df.drop(Bad_AV_IndexNames , inplace=True)\n",
    "    print('The following lines have been dropped: ' + Bad_AV_Lines)\n",
    "else: \n",
    "    print('_AV lines are good, none show underdelivery')\n",
    "    "
   ]
  },
  {
   "cell_type": "code",
   "execution_count": null,
   "metadata": {},
   "outputs": [],
   "source": [
    "#Priting and Dropping Bad MG lines\n",
    "\n",
    "Bad_MG_Lines = df['Ad_Name'][(df['Ad_Name'].str.contains('_MG', regex = True))&\\\n",
    "              (df['Current_Month_Estimated_Underdelivery_Amount']!= 0)]\n",
    "\n",
    "if df['Ad_Name'][(df['Ad_Name'].str.contains('_MG', regex = True))&\\\n",
    "              (df['Current_Month_Estimated_Underdelivery_Amount']!= 0)].count() > 0:\n",
    "    Bad_MG_IndexNames = Bad_MG_Lines.index\n",
    "    df.drop(Bad_MG_IndexNames , inplace=True)\n",
    "    print('The following lines have been dropped: ' + Bad_MG_Lines)\n",
    "else: \n",
    "    print('_MG lines are good, none show underdelivery')"
   ]
  },
  {
   "cell_type": "code",
   "execution_count": null,
   "metadata": {},
   "outputs": [],
   "source": [
    "#Total amount of revenue that actualized for the current month\n",
    "Completed = df['Current_Month_Estimated_Underdelivery_Amount'].where(df['Ad_Status']=='complete').fillna(0).sum()\n",
    "Completed"
   ]
  },
  {
   "cell_type": "code",
   "execution_count": null,
   "metadata": {},
   "outputs": [],
   "source": [
    "#Total amount of revenue that is curently suspended\n",
    "Suspended = df['Current_Month_Estimated_Underdelivery_Amount'].where(df['Ad_Status']=='suspended').fillna(0).sum()\n",
    "Suspended"
   ]
  },
  {
   "cell_type": "code",
   "execution_count": null,
   "metadata": {},
   "outputs": [],
   "source": [
    "#Advertiser Pivot\n",
    "df_pivot_advertiser= pd.pivot_table(df, index= 'Advertiser', values= ['Current_Month_Estimated_Underdelivery_Amount','Estimated_Underdelivery_Amount'], aggfunc= np.sum)\n",
    "df_pivot_advertiser= df_pivot_advertiser[df_pivot_advertiser.values != [0,0]].sort_values('Current_Month_Estimated_Underdelivery_Amount', ascending = False)\n",
    "df_pivot_advertiser = df_pivot_advertiser.drop_duplicates()\n",
    "df_pivot_advertiser['Notes for Campaigns with $10k + Risk for the Current Month']=(\"\")\n",
    "df_pivot_advertiser.rename(columns={'Current_Month_Estimated_Underdelivery_Amount': current_month_text +' Risk'}, inplace=True)\n",
    "df_pivot_advertiser.rename(columns={'Estimated_Underdelivery_Amount': 'Total Risk'}, inplace=True)\n",
    "\n",
    "\n",
    "df_pivot_advertiser"
   ]
  },
  {
   "cell_type": "code",
   "execution_count": null,
   "metadata": {},
   "outputs": [],
   "source": [
    "#Changing Pivot column title to have dynamic month label\n",
    "df_pivot_advertiser[current_month_text + ' Risk']=df_pivot_advertiser[current_month_text + ' Risk'].apply(lambda x: '${:,.2f}'.format(x))"
   ]
  },
  {
   "cell_type": "code",
   "execution_count": null,
   "metadata": {},
   "outputs": [],
   "source": [
    "#Incorporating currency formatting\n",
    "df_pivot_advertiser['Total Risk']=df_pivot_advertiser['Total Risk'].apply(lambda x: '${:,.2f}'.format(x))"
   ]
  },
  {
   "cell_type": "code",
   "execution_count": null,
   "metadata": {},
   "outputs": [],
   "source": [
    "df_pivot_advertiser"
   ]
  },
  {
   "cell_type": "code",
   "execution_count": null,
   "metadata": {},
   "outputs": [],
   "source": [
    "##### Late Creative Section #####"
   ]
  },
  {
   "cell_type": "code",
   "execution_count": null,
   "metadata": {},
   "outputs": [],
   "source": [
    "#Late Creative file should be saved to cwd with the below formatting structure\n",
    "df2=pd.read_csv(time.strftime('Late Creative %m-%d-%Y'), skipinitialspace=True)"
   ]
  },
  {
   "cell_type": "code",
   "execution_count": null,
   "metadata": {},
   "outputs": [],
   "source": [
    "df2.head()"
   ]
  },
  {
   "cell_type": "code",
   "execution_count": null,
   "metadata": {},
   "outputs": [],
   "source": [
    "#Deleting UK Lines\n",
    "df2= df2[~df2.Region.isin(['UK', 'United Kingdom', '-'])]"
   ]
  },
  {
   "cell_type": "code",
   "execution_count": null,
   "metadata": {},
   "outputs": [],
   "source": [
    "#Deleting Bidopt Lines\n",
    "df2= df2[~df2.Name.str.contains('bidopt')]"
   ]
  },
  {
   "cell_type": "code",
   "execution_count": null,
   "metadata": {},
   "outputs": [],
   "source": [
    "df2.reset_index(inplace = True)"
   ]
  },
  {
   "cell_type": "code",
   "execution_count": null,
   "metadata": {},
   "outputs": [],
   "source": [
    "#Stripping CSV whitespace in column\n",
    "df2['Revenue_Impact']=df2['Revenue_Impact'].str.strip()\n"
   ]
  },
  {
   "cell_type": "code",
   "execution_count": null,
   "metadata": {},
   "outputs": [],
   "source": [
    "# Converting Money series to float series\n",
    "df2['Revenue_Impact'] = df2['Revenue_Impact'].replace( '[\\$,)]','', regex=True ).astype(float)"
   ]
  },
  {
   "cell_type": "code",
   "execution_count": null,
   "metadata": {},
   "outputs": [],
   "source": [
    "#Stripping CSV whitespace in column\n",
    "df2['Total_Month_Dollars']=df2['Total_Month_Dollars'].str.strip()\n",
    "df2['Total_Month_Dollars'] = df2['Total_Month_Dollars'].replace( '[\\$,)]','', regex=True ).astype(float)"
   ]
  },
  {
   "cell_type": "code",
   "execution_count": null,
   "metadata": {},
   "outputs": [],
   "source": [
    "df2['Total_Month_Dollars'][0]"
   ]
  },
  {
   "cell_type": "code",
   "execution_count": null,
   "metadata": {},
   "outputs": [],
   "source": [
    "#Late Creative Pivot\n",
    "late_creative_pivot = pd.pivot_table(df2, index= ['Account_Executive', 'Advertiser'],values = ['Name','Total_Month_Dollars','Revenue_Impact'],aggfunc = {'Name': pd.Series.nunique, 'Total_Month_Dollars': np.sum, 'Revenue_Impact':np.sum}, margins = True)\n",
    "late_creative_pivot"
   ]
  },
  {
   "cell_type": "code",
   "execution_count": null,
   "metadata": {},
   "outputs": [],
   "source": [
    "#Adding in currency formatting to revenue_impact column\n",
    "late_creative_pivot['Revenue_Impact'] = late_creative_pivot['Revenue_Impact'].apply(lambda x: '${:,.2f}'.format(x))"
   ]
  },
  {
   "cell_type": "code",
   "execution_count": null,
   "metadata": {},
   "outputs": [],
   "source": [
    "#Adding in subtotal formatting for the Account_Executive column\n",
    "late_creative_pivot_final = df2.groupby('Account_Executive').apply(lambda sub: sub.pivot_table(\n",
    "    index=['Account_Executive', 'Advertiser'],\n",
    "    values=['Name','Revenue_Impact','Total_Month_Dollars'],\n",
    "    aggfunc={'Name': pd.Series.nunique, 'Total_Month_Dollars': np.sum, 'Revenue_Impact':np.sum},\n",
    "    margins=True,\n",
    "    margins_name= 'SubTotal',\n",
    "))"
   ]
  },
  {
   "cell_type": "code",
   "execution_count": null,
   "metadata": {},
   "outputs": [],
   "source": [
    "late_creative_pivot_final"
   ]
  },
  {
   "cell_type": "code",
   "execution_count": null,
   "metadata": {},
   "outputs": [],
   "source": [
    "late_creative_pivot_final.loc[('', 'Total', '')] = late_creative_pivot_final.sum()"
   ]
  },
  {
   "cell_type": "code",
   "execution_count": null,
   "metadata": {},
   "outputs": [],
   "source": [
    "#Removing duplicate Account_Executive column\n",
    "late_creative_pivot_final.index = late_creative_pivot_final.index.droplevel(0)"
   ]
  },
  {
   "cell_type": "code",
   "execution_count": null,
   "metadata": {},
   "outputs": [],
   "source": [
    "late_creative_pivot_final"
   ]
  },
  {
   "cell_type": "code",
   "execution_count": null,
   "metadata": {},
   "outputs": [],
   "source": [
    "#Formatting\n",
    "late_creative_pivot_final['Total_Month_Dollars']=late_creative_pivot_final['Total_Month_Dollars'].apply(lambda x: '${:,.2f}'.format(x))"
   ]
  },
  {
   "cell_type": "code",
   "execution_count": null,
   "metadata": {},
   "outputs": [],
   "source": [
    "late_creative_pivot_final['Revenue_Impact']=late_creative_pivot_final['Revenue_Impact'].apply(lambda x: '${:,.2f}'.format(x))"
   ]
  },
  {
   "cell_type": "code",
   "execution_count": null,
   "metadata": {},
   "outputs": [],
   "source": [
    "late_creative_pivot_final['Name']=late_creative_pivot_final['Name'].apply(lambda x: '{0:.3g}'.format(x))"
   ]
  },
  {
   "cell_type": "code",
   "execution_count": null,
   "metadata": {},
   "outputs": [],
   "source": [
    "#Adding in notes column \n",
    "late_creative_pivot_final['Notes']=\"\""
   ]
  },
  {
   "cell_type": "code",
   "execution_count": null,
   "metadata": {},
   "outputs": [],
   "source": [
    "late_creative_pivot_final.rename(columns={'Revenue_Impact': 'Pending '+ current_month_text +\" Revenue\"}, inplace=True)"
   ]
  },
  {
   "cell_type": "code",
   "execution_count": null,
   "metadata": {},
   "outputs": [],
   "source": [
    "late_creative_pivot_final.rename(columns={'Total_Month_Dollars': 'Est. Revenue Impact'}, inplace=True)\n"
   ]
  },
  {
   "cell_type": "code",
   "execution_count": null,
   "metadata": {},
   "outputs": [],
   "source": [
    "late_creative_pivot_final=late_creative_pivot_final.reset_index()"
   ]
  },
  {
   "cell_type": "code",
   "execution_count": null,
   "metadata": {},
   "outputs": [],
   "source": [
    "late_creative_pivot_final"
   ]
  },
  {
   "cell_type": "code",
   "execution_count": null,
   "metadata": {},
   "outputs": [],
   "source": [
    "#Creating list of account executives; We need to append account executive names to their respective subtotal\n",
    "list1= list(late_creative_pivot_final['Account_Executive'])\n",
    "list1"
   ]
  },
  {
   "cell_type": "code",
   "execution_count": null,
   "metadata": {},
   "outputs": [],
   "source": [
    "#Creating function that extracts all \"subtotal\" strings from list1\n",
    "def list_duplicates_of(seq,item):\n",
    "    start_at = -1\n",
    "    locs = []\n",
    "    while True:\n",
    "        try:\n",
    "            loc = seq.index(item,start_at+1)\n",
    "        except ValueError:\n",
    "            break\n",
    "        else:\n",
    "            locs.append(loc)\n",
    "            start_at = loc\n",
    "    return locs\n",
    "\n",
    "source = list1\n",
    "index_subtotal = list_duplicates_of(source, 'SubTotal')"
   ]
  },
  {
   "cell_type": "code",
   "execution_count": null,
   "metadata": {},
   "outputs": [],
   "source": [
    "#Concatenates subtotal string to the above account executive\n",
    "for i in index_subtotal:\n",
    "    list1[i]=list1[i-1]+\" \" +list1[i]"
   ]
  },
  {
   "cell_type": "code",
   "execution_count": null,
   "metadata": {},
   "outputs": [],
   "source": [
    "list1"
   ]
  },
  {
   "cell_type": "code",
   "execution_count": null,
   "metadata": {},
   "outputs": [],
   "source": [
    "late_creative_pivot_final['Account_Executive'] = list1"
   ]
  },
  {
   "cell_type": "code",
   "execution_count": null,
   "metadata": {},
   "outputs": [],
   "source": [
    "late_creative_pivot_final"
   ]
  },
  {
   "cell_type": "code",
   "execution_count": null,
   "metadata": {},
   "outputs": [],
   "source": [
    "#Variable currency conversions"
   ]
  },
  {
   "cell_type": "code",
   "execution_count": null,
   "metadata": {},
   "outputs": [],
   "source": [
    "Late_Creative = df2['Revenue_Impact'].sum()\n",
    "Late_Creative"
   ]
  },
  {
   "cell_type": "code",
   "execution_count": null,
   "metadata": {},
   "outputs": [],
   "source": [
    "Late_Creative_str = '${:,.0f}'.format(Late_Creative)\n",
    "Late_Creative_str"
   ]
  },
  {
   "cell_type": "code",
   "execution_count": null,
   "metadata": {},
   "outputs": [],
   "source": [
    "##Calculating Total Underdelivery and formatting into currency"
   ]
  },
  {
   "cell_type": "code",
   "execution_count": null,
   "metadata": {},
   "outputs": [],
   "source": [
    "Current_Month_Estimated_UD = df['Current_Month_Estimated_Underdelivery_Amount'].sum()\n",
    "Current_Month_Estimated_UD"
   ]
  },
  {
   "cell_type": "code",
   "execution_count": null,
   "metadata": {},
   "outputs": [],
   "source": [
    "Current_Month_Estimated_UD_str = '${:,.0f}'.format(Current_Month_Estimated_UD)\n",
    "Current_Month_Estimated_UD_str"
   ]
  },
  {
   "cell_type": "code",
   "execution_count": null,
   "metadata": {},
   "outputs": [],
   "source": [
    "Late_Creative_Rev_Impact=df2['Revenue_Impact'].sum()\n",
    "Late_Creative_Rev_Impact"
   ]
  },
  {
   "cell_type": "code",
   "execution_count": null,
   "metadata": {},
   "outputs": [],
   "source": [
    "Late_Creative_Rev_Impact_str = '${:,.0f}'.format(Late_Creative_Rev_Impact)\n",
    "Late_Creative_Rev_Impact_str"
   ]
  },
  {
   "cell_type": "code",
   "execution_count": null,
   "metadata": {},
   "outputs": [],
   "source": [
    "Total_Underdelivery = Current_Month_Estimated_UD + Late_Creative_Rev_Impact\n",
    "Total_Underdelivery"
   ]
  },
  {
   "cell_type": "code",
   "execution_count": null,
   "metadata": {},
   "outputs": [],
   "source": [
    "Total_Underdelivery_str = '${:,.0f}'.format(Total_Underdelivery)\n",
    "Total_Underdelivery_str"
   ]
  },
  {
   "cell_type": "code",
   "execution_count": null,
   "metadata": {},
   "outputs": [],
   "source": [
    "Active_Revenue_At_Risk=df['Current_Month_Estimated_Underdelivery_Amount'].where((df['Ad_Status']=='active')).sum()\n",
    "Active_Revenue_At_Risk"
   ]
  },
  {
   "cell_type": "code",
   "execution_count": null,
   "metadata": {},
   "outputs": [],
   "source": [
    "Active_Revenue_At_Risk_str = '${:,.0f}'.format(Active_Revenue_At_Risk)\n",
    "Active_Revenue_At_Risk_str"
   ]
  },
  {
   "cell_type": "code",
   "execution_count": null,
   "metadata": {},
   "outputs": [],
   "source": [
    "#Creating week-over-week calculations\n",
    "#Step 1: Create formatted aggregate variables"
   ]
  },
  {
   "cell_type": "code",
   "execution_count": null,
   "metadata": {},
   "outputs": [],
   "source": [
    "Not_Live = Suspended + Completed + Late_Creative\n",
    "Not_Live"
   ]
  },
  {
   "cell_type": "code",
   "execution_count": null,
   "metadata": {},
   "outputs": [],
   "source": [
    "Not_Live_str = '${:,.0f}'.format(Not_Live)\n",
    "Not_Live_str"
   ]
  },
  {
   "cell_type": "code",
   "execution_count": null,
   "metadata": {},
   "outputs": [],
   "source": [
    "Suspended_str = '${:,.0f}'.format(Suspended)\n",
    "Suspended_str"
   ]
  },
  {
   "cell_type": "code",
   "execution_count": null,
   "metadata": {},
   "outputs": [],
   "source": [
    "Completed_str = '${:,.0f}'.format(Completed)\n",
    "Completed_str"
   ]
  },
  {
   "cell_type": "code",
   "execution_count": null,
   "metadata": {},
   "outputs": [],
   "source": [
    "#Printing Last File\n",
    "\n",
    "list_of_files = glob.iglob('/Users/Jeffrey.Lu@ibm.com/Desktop/Pacing_Reports/*.xlsx')\n",
    "latest_file = max(list_of_files, key=os.path.getctime)\n",
    "print(latest_file)"
   ]
  },
  {
   "cell_type": "code",
   "execution_count": null,
   "metadata": {},
   "outputs": [],
   "source": [
    "#Importing files from previous Pacing Report and going into calculations summary (May need to change directory)"
   ]
  },
  {
   "cell_type": "code",
   "execution_count": null,
   "metadata": {},
   "outputs": [],
   "source": [
    "os.chdir('/Users/Jeffrey.Lu@ibm.com/Desktop/Pacing_Reports')"
   ]
  },
  {
   "cell_type": "code",
   "execution_count": null,
   "metadata": {},
   "outputs": [],
   "source": [
    "df3=pd.read_excel(latest_file, sheet_name ='Calculations Summary')"
   ]
  },
  {
   "cell_type": "code",
   "execution_count": null,
   "metadata": {
    "scrolled": true
   },
   "outputs": [],
   "source": [
    "df3.head()"
   ]
  },
  {
   "cell_type": "code",
   "execution_count": null,
   "metadata": {},
   "outputs": [],
   "source": [
    "#Create Calculation for the Previous Pacing Report:\n",
    "\n",
    "prev_Active_Revenue_At_Risk = df3['Underdelivery Amount'][0]\n",
    "\n",
    "prev_Active_Not_Live = df3['Underdelivery Amount'][1]\n",
    "\n",
    "prev_Suspended = df3['Underdelivery Amount'][2]\n",
    "\n",
    "prev_Completed = df3['Underdelivery Amount'][3]\n",
    "\n",
    "prev_Late_Creative = df3['Underdelivery Amount'][4]\n"
   ]
  },
  {
   "cell_type": "code",
   "execution_count": null,
   "metadata": {},
   "outputs": [],
   "source": [
    "#Create a calculations sheet for the current report:\n",
    "\n",
    "d = {'Underdelivery Breakout': ['Current: Active_Revenue_At_Risk','Current: Active_Not_Live','Current: Suspended',\\\n",
    "                                'Current: Completed','Current: Late Creative'],'Underdelivery Amount':\\\n",
    "     [Active_Revenue_At_Risk, Not_Live, Suspended, Completed,Late_Creative_Rev_Impact]}\n",
    "df_calculations_sheet = pd.DataFrame(data = d)"
   ]
  },
  {
   "cell_type": "code",
   "execution_count": null,
   "metadata": {},
   "outputs": [],
   "source": [
    "df_calculations_sheet"
   ]
  },
  {
   "cell_type": "code",
   "execution_count": null,
   "metadata": {},
   "outputs": [],
   "source": [
    "#Percentage Change Variable Calculations\n",
    "Percentage_Change_Active_Revenue_At_Risk = ((Active_Revenue_At_Risk - prev_Active_Revenue_At_Risk)-1)*100\n",
    "Percentage_Change_Active_Revenue_At_Risk_str = str((int(Percentage_Change_Active_Revenue_At_Risk))) + '%'\n",
    "Percentage_Change_Active_Revenue_At_Risk_str"
   ]
  },
  {
   "cell_type": "code",
   "execution_count": null,
   "metadata": {},
   "outputs": [],
   "source": [
    "Percentage_Active_Not_Live = ((Not_Live - prev_Active_Not_Live)-1)*100\n",
    "Percentage_Active_Not_Live_str = str((int(Percentage_Change_Active_Revenue_At_Risk))) + '%'\n",
    "Percentage_Active_Not_Live_str"
   ]
  },
  {
   "cell_type": "code",
   "execution_count": null,
   "metadata": {},
   "outputs": [],
   "source": [
    "#Exporting Dataframes, Pivots, and Calculation Sheets to Excel Report\n",
    "\n",
    "writer = pd.ExcelWriter(time.strftime('Pacing_Report %m-%d-%Y.xlsx'))\n",
    "\n",
    "df.to_excel(writer,sheet_name='Pacing')\n",
    "df_pivot_advertiser.to_excel(writer,sheet_name='Advertiser Breakout')\n",
    "df2.to_excel(writer,sheet_name='Late Creative')\n",
    "late_creative_pivot_final.to_excel(writer,sheet_name='LC Pivot')\n",
    "df_calculations_sheet.to_excel(writer, sheet_name = 'Calculations Summary')\n",
    "\n",
    "\n",
    "writer.save()"
   ]
  },
  {
   "cell_type": "code",
   "execution_count": null,
   "metadata": {},
   "outputs": [],
   "source": [
    "#Completed List to Word Format Manipulation\n",
    "\n",
    "Completed_df = df[['Current_Month_Estimated_Underdelivery_Amount','Advertiser']].where((df['Ad_Status']=='complete')&(df['Current_Month_Estimated_Underdelivery_Amount']!=0))\n",
    "\n",
    "Completed_df = Completed_df.groupby(['Advertiser']).sum()\n",
    "\n",
    "Completed_df['Current_Month_Estimated_Underdelivery_Amount'] = Completed_df['Current_Month_Estimated_Underdelivery_Amount'].apply(lambda x: '${:,.0f}'.format(x))\n",
    "\n",
    "Completed_df = Completed_df.reset_index()\n",
    "\n",
    "Completed_df['Advertiser-Current_Month_UD'] = Completed_df['Advertiser'] +\"- \"+ Completed_df['Current_Month_Estimated_Underdelivery_Amount'].map(str)\n",
    "\n",
    "Completed_df\n"
   ]
  },
  {
   "cell_type": "code",
   "execution_count": null,
   "metadata": {},
   "outputs": [],
   "source": [
    "#Completed List\n",
    "\n",
    "list_Completed = []\n",
    "\n",
    "for i in Completed_df['Advertiser-Current_Month_UD']:\n",
    "    list_Completed.append(i)\n",
    "\n",
    "if list_Completed == []:\n",
    "    print('Completed lines are at $0 UD')\n",
    "else:\n",
    "    print(list_Completed)"
   ]
  },
  {
   "cell_type": "code",
   "execution_count": null,
   "metadata": {},
   "outputs": [],
   "source": [
    "#Suspended List to Word Format Manipulation\n",
    "\n",
    "Suspended_df = df[['Current_Month_Estimated_Underdelivery_Amount','Advertiser']].where((df['Ad_Status']=='suspended')&(df['Current_Month_Estimated_Underdelivery_Amount']!=0))\n",
    "\n",
    "Suspended_df = Suspended_df.groupby(['Advertiser']).sum()\n",
    "\n",
    "Suspended_df['Current_Month_Estimated_Underdelivery_Amount'] = Suspended_df['Current_Month_Estimated_Underdelivery_Amount'].apply(lambda x: '${:,.0f}'.format(x))\n",
    "\n",
    "Suspended_df = Suspended_df.reset_index()\n",
    "\n",
    "Suspended_df['Advertiser-Current_Month_UD'] = Suspended_df['Advertiser'] +\"- \"+ Suspended_df['Current_Month_Estimated_Underdelivery_Amount'].map(str)\n",
    "\n",
    "Suspended_df\n",
    "\n",
    "\n",
    "\n"
   ]
  },
  {
   "cell_type": "code",
   "execution_count": null,
   "metadata": {},
   "outputs": [],
   "source": [
    "#Suspended List\n",
    "\n",
    "list_Suspended = []\n",
    "\n",
    "for i in Suspended_df['Advertiser-Current_Month_UD']:\n",
    "    list_Suspended.append(i)\n",
    "\n",
    "if list_Suspended == []:\n",
    "    print('Suspended lines are at $0 UD')\n",
    "else:\n",
    "    print(list_Suspended)"
   ]
  },
  {
   "cell_type": "code",
   "execution_count": null,
   "metadata": {},
   "outputs": [],
   "source": [
    "#WFX List to Word Format Manipulation\n",
    "df1 = df[~df['Product_Name'].str.contains('Preroll', na = False)]\\\n",
    "                              [df['Ad_Type'].str.contains('STANDARD|HOUSE|AD_EXCHANGE', na = False)]\\\n",
    "                              .where((df['Ad_Status']=='active')&(df['Product_Category']=='WEATHRFX')&(df['Current_Month_Estimated_Underdelivery_Amount']!=0))\n",
    "\n",
    "\n",
    "WFX_df = df1[['Current_Month_Estimated_Underdelivery_Amount','Advertiser']]\n",
    "\n",
    "WFX_df = WFX_df.groupby(['Advertiser']).sum()\n",
    "\n",
    "WFX_df['Current_Month_Estimated_Underdelivery_Amount'] = WFX_df['Current_Month_Estimated_Underdelivery_Amount'].apply(lambda x: '${:,.0f}'.format(x))\n",
    "\n",
    "WFX_df = WFX_df.reset_index()\n",
    "\n",
    "WFX_df['Advertiser-Current_Month_UD'] = WFX_df['Advertiser'] +\"- \"+ WFX_df['Current_Month_Estimated_Underdelivery_Amount'].map(str)\n",
    "\n",
    "\n",
    "WFX_df"
   ]
  },
  {
   "cell_type": "code",
   "execution_count": null,
   "metadata": {},
   "outputs": [],
   "source": [
    "#WFX List\n",
    "\n",
    "list_WFX = []\n",
    "\n",
    "for i in WFX_df['Advertiser-Current_Month_UD']:\n",
    "    list_WFX.append(i)\n",
    "\n",
    "if list_WFX == []:\n",
    "    print('WFX lines are at $0 UD')\n",
    "else:\n",
    "    print(list_WFX)"
   ]
  },
  {
   "cell_type": "code",
   "execution_count": null,
   "metadata": {},
   "outputs": [],
   "source": [
    "#AFX List to Word Format Manipulation\n",
    "df2 = df[~df['Product_Name'].str.contains('Preroll', na = False)]\\\n",
    "                              [df['Ad_Type'].str.contains('STANDARD|HOUSE|AD_EXCHANGE', na = False)]\\\n",
    "                              .where((df['Ad_Status']=='active')&(df['Product_Category']=='AUDIENCEFX')&(df['Current_Month_Estimated_Underdelivery_Amount']!=0))\n",
    "\n",
    "\n",
    "AFX_df = df2[['Current_Month_Estimated_Underdelivery_Amount','Advertiser']]\n",
    "\n",
    "AFX_df = AFX_df.groupby(['Advertiser']).sum()\n",
    "\n",
    "AFX_df['Current_Month_Estimated_Underdelivery_Amount'] = AFX_df['Current_Month_Estimated_Underdelivery_Amount'].apply(lambda x: '${:,.0f}'.format(x))\n",
    "\n",
    "AFX_df = AFX_df.reset_index()\n",
    "\n",
    "AFX_df['Advertiser-Current_Month_UD'] = AFX_df['Advertiser'] +\"- \"+ AFX_df['Current_Month_Estimated_Underdelivery_Amount'].map(str)\n",
    "\n",
    "\n",
    "AFX_df"
   ]
  },
  {
   "cell_type": "code",
   "execution_count": null,
   "metadata": {},
   "outputs": [],
   "source": [
    "#AFX List\n",
    "\n",
    "list_AFX = []\n",
    "\n",
    "for i in AFX_df['Advertiser-Current_Month_UD']:\n",
    "    list_AFX.append(i)\n",
    "\n",
    "if list_AFX == []:\n",
    "    print('WFX lines are at $0 UD')\n",
    "else:\n",
    "    print(list_AFX)"
   ]
  },
  {
   "cell_type": "code",
   "execution_count": null,
   "metadata": {},
   "outputs": [],
   "source": [
    "#JFX List to Word Format Manipulation\n",
    "df3 = df[~df['Product_Name'].str.contains('Preroll', na = False)]\\\n",
    "                              [df['Ad_Type'].str.contains('STANDARD|HOUSE|AD_EXCHANGE', na = False)]\\\n",
    "                              .where((df['Ad_Status']=='active')&(df['Product_Category']=='JFX')&(df['Current_Month_Estimated_Underdelivery_Amount']!=0))\n",
    "\n",
    "\n",
    "JFX_df = df3[['Current_Month_Estimated_Underdelivery_Amount','Advertiser']]\n",
    "\n",
    "JFX_df = JFX_df.groupby(['Advertiser']).sum()\n",
    "\n",
    "JFX_df['Current_Month_Estimated_Underdelivery_Amount'] = JFX_df['Current_Month_Estimated_Underdelivery_Amount'].apply(lambda x: '${:,.0f}'.format(x))\n",
    "\n",
    "JFX_df = JFX_df.reset_index()\n",
    "\n",
    "JFX_df['Advertiser-Current_Month_UD'] = JFX_df['Advertiser'] +\"- \"+ JFX_df['Current_Month_Estimated_Underdelivery_Amount'].map(str)\n",
    "\n",
    "\n",
    "JFX_df"
   ]
  },
  {
   "cell_type": "code",
   "execution_count": null,
   "metadata": {},
   "outputs": [],
   "source": [
    "#JFX List\n",
    "\n",
    "list_JFX = []\n",
    "\n",
    "for i in JFX_df['Advertiser-Current_Month_UD']:\n",
    "    list_JFX.append(i)\n",
    "\n",
    "if list_JFX == []:\n",
    "    print('JFX lines are at $0 UD')\n",
    "else:\n",
    "    print(list_JFX)"
   ]
  },
  {
   "cell_type": "code",
   "execution_count": null,
   "metadata": {},
   "outputs": [],
   "source": [
    "#Preroll List to Word Format Manipulation\n",
    "\n",
    "df4 = df[df['Product_Name'].str.contains('Preroll', na = False)]\\\n",
    "                              [df['Ad_Type'].str.contains('STANDARD|HOUSE|AD_EXCHANGE', na = False)]\\\n",
    "                              .where((df['Ad_Status']=='active')&(df['Current_Month_Estimated_Underdelivery_Amount']!=0))\n",
    "\n",
    "\n",
    "Preroll_df = df4[['Current_Month_Estimated_Underdelivery_Amount','Advertiser']]\n",
    "\n",
    "Preroll_df = Preroll_df.groupby(['Advertiser']).sum()\n",
    "\n",
    "Preroll_df['Current_Month_Estimated_Underdelivery_Amount'] = Preroll_df['Current_Month_Estimated_Underdelivery_Amount'].apply(lambda x: '${:,.0f}'.format(x))\n",
    "\n",
    "Preroll_df = Preroll_df.reset_index()\n",
    "\n",
    "Preroll_df['Advertiser-Current_Month_UD'] = Preroll_df['Advertiser'] +\"- \"+ Preroll_df['Current_Month_Estimated_Underdelivery_Amount'].map(str)\n",
    "\n",
    "\n",
    "Preroll_df\n",
    "\n"
   ]
  },
  {
   "cell_type": "code",
   "execution_count": null,
   "metadata": {},
   "outputs": [],
   "source": [
    "#Preroll List\n",
    "\n",
    "list_Preroll = []\n",
    "\n",
    "for i in Preroll_df['Advertiser-Current_Month_UD']:\n",
    "    list_Preroll.append(i)\n",
    "\n",
    "if list_Preroll == []:\n",
    "    print('Preroll lines are at $0 UD')\n",
    "else:\n",
    "    print(list_Preroll)"
   ]
  },
  {
   "cell_type": "code",
   "execution_count": null,
   "metadata": {},
   "outputs": [],
   "source": [
    "#Sponsorship List to Word Format Manipulation\n",
    "\n",
    "df5 = df.where((df['Ad_Status']=='active')&(df['Ad_Type']=='SPONSORSHIP')&(df['Current_Month_Estimated_Underdelivery_Amount']!=0))\n",
    "\n",
    "\n",
    "Spon_df = df5[['Current_Month_Estimated_Underdelivery_Amount','Advertiser']]\n",
    "\n",
    "Spon_df = Spon_df.groupby(['Advertiser']).sum()\n",
    "\n",
    "Spon_df['Current_Month_Estimated_Underdelivery_Amount'] = Spon_df['Current_Month_Estimated_Underdelivery_Amount'].apply(lambda x: '${:,.0f}'.format(x))\n",
    "\n",
    "Spon_df = Spon_df.reset_index()\n",
    "\n",
    "Spon_df['Advertiser-Current_Month_UD'] = Spon_df['Advertiser'] +\"- \"+ Spon_df['Current_Month_Estimated_Underdelivery_Amount'].map(str)\n",
    "\n",
    "\n",
    "Spon_df"
   ]
  },
  {
   "cell_type": "code",
   "execution_count": null,
   "metadata": {},
   "outputs": [],
   "source": [
    "#Sponsorship List\n",
    "\n",
    "list_Spon = []\n",
    "\n",
    "for i in Spon_df['Advertiser-Current_Month_UD']:\n",
    "    list_Spon.append(i)\n",
    "\n",
    "if list_Spon == []:\n",
    "    print('Sponsorship lines are at $0 UD')\n",
    "else:\n",
    "    print(list_Spon)"
   ]
  },
  {
   "cell_type": "code",
   "execution_count": null,
   "metadata": {},
   "outputs": [],
   "source": [
    "#Exporting Data to Word Doc\n",
    "doc = docx.Document()\n",
    "\n",
    "paraObject = doc.add_paragraph(current_month_year_text + \" Revenue at Risk (Under-Delivery+Late Creative) \" + Total_Underdelivery_str)\n",
    "\n",
    "doc.add_paragraph(\"Active (Live) - \" + Active_Revenue_At_Risk_str + \" (\" + Percentage_Change_Active_Revenue_At_Risk_str + \")\")\n",
    "\n",
    "doc.add_paragraph('         *Active under-delivering campaigns')\n",
    "\n",
    "doc.save('Pacing Report Word.docx')"
   ]
  },
  {
   "cell_type": "code",
   "execution_count": null,
   "metadata": {},
   "outputs": [],
   "source": [
    "#All Formatted Lines\n",
    "line1 = current_month_year_text + \" Revenue at Risk (Under-Delivery+Late Creative) \" + Total_Underdelivery_str\n",
    "line2 = \"Active (Live) - \" + Active_Revenue_At_Risk_str + \" (\" + Percentage_Change_Active_Revenue_At_Risk_str + \")\"\n",
    "line3 = \"Not Live - \" + Not_Live_str + \" (\" + Percentage_Active_Not_Live_str + \")\"\n",
    " \n",
    "#Doc Object\n",
    "\n",
    "doc = docx.Document()\n",
    "\n",
    "#Line 1 Formatted Bold\n",
    "p = doc.add_paragraph()\n",
    "\n",
    "runner = p.add_run(line1)\n",
    "runner.bold = True\n",
    "\n",
    "#Extra Space\n",
    "doc.add_paragraph()\n",
    "\n",
    "#Line 2 Formatted Bold\n",
    "p1 = doc.add_paragraph()\n",
    "\n",
    "runner2 = p1.add_run(line2)\n",
    "runner2.bold = True\n",
    "\n",
    "#Line 3\n",
    "doc.add_paragraph('         * Active under-delivering campaigns')\n",
    "\n",
    "#Line 4 Formatted Bold\n",
    "p2 = doc.add_paragraph()\n",
    "\n",
    "runner3 = p2.add_run(line3)\n",
    "runner3.bold = True\n",
    "\n",
    "#Line 5  \n",
    "doc.add_paragraph('         * Suspended- ' + Suspended_str)\n",
    "\n",
    "#Line 6\n",
    "doc.add_paragraph('         * Completed- ' + Completed_str)\n",
    "\n",
    "#Line 7\n",
    "doc.add_paragraph('         * Late Creative- ' + Late_Creative_Rev_Impact_str)\n",
    "\n",
    "\n",
    "\n",
    "doc.save(time.strftime('Pacing Report Word %m-%d-%Y.docx'))"
   ]
  },
  {
   "cell_type": "code",
   "execution_count": null,
   "metadata": {},
   "outputs": [],
   "source": [
    "\"\"\"Email Section\"\"\""
   ]
  },
  {
   "cell_type": "code",
   "execution_count": null,
   "metadata": {},
   "outputs": [],
   "source": [
    "#Creating Email Variables\n",
    "email_user = 'Insert_Email_Here@gmail.com'\n",
    "email_password = 'Enter_Password_Here'\n",
    "email_send_to = 'Enter_Recipient_Email_Addresses_Here'\n",
    "email_subject = time.strftime('Pacing_Report Materials %m-%d-%Y')"
   ]
  },
  {
   "cell_type": "code",
   "execution_count": null,
   "metadata": {},
   "outputs": [],
   "source": [
    "#Email Object and Details"
   ]
  },
  {
   "cell_type": "code",
   "execution_count": null,
   "metadata": {},
   "outputs": [],
   "source": [
    "msg = MIMEMultipart()"
   ]
  },
  {
   "cell_type": "code",
   "execution_count": null,
   "metadata": {},
   "outputs": [],
   "source": [
    "msg['From'] = email_user"
   ]
  },
  {
   "cell_type": "code",
   "execution_count": null,
   "metadata": {},
   "outputs": [],
   "source": [
    "msg['To'] = email_send_to"
   ]
  },
  {
   "cell_type": "code",
   "execution_count": null,
   "metadata": {},
   "outputs": [],
   "source": [
    "msg['Subject'] = email_subject"
   ]
  },
  {
   "cell_type": "code",
   "execution_count": null,
   "metadata": {},
   "outputs": [],
   "source": [
    "#Email Body > Attach body to Message Object "
   ]
  },
  {
   "cell_type": "code",
   "execution_count": null,
   "metadata": {},
   "outputs": [],
   "source": [
    "body = 'Please see the attaced pacing materials below. Have a great day!'"
   ]
  },
  {
   "cell_type": "code",
   "execution_count": null,
   "metadata": {},
   "outputs": [],
   "source": [
    "msg.attach(MIMEText(body,'plain'))"
   ]
  },
  {
   "cell_type": "code",
   "execution_count": null,
   "metadata": {},
   "outputs": [],
   "source": [
    "#File Attachment Document variables, octet-streams and base64 encoding"
   ]
  },
  {
   "cell_type": "code",
   "execution_count": null,
   "metadata": {},
   "outputs": [],
   "source": [
    "filename1 = time.strftime('Pacing Report Word %m-%d-%Y.docx')"
   ]
  },
  {
   "cell_type": "code",
   "execution_count": null,
   "metadata": {},
   "outputs": [],
   "source": [
    "filename2 = time.strftime('Pacing_Report %m-%d-%Y.xlsx')"
   ]
  },
  {
   "cell_type": "code",
   "execution_count": null,
   "metadata": {},
   "outputs": [],
   "source": [
    "attachment1 = open(filename1, 'rb')"
   ]
  },
  {
   "cell_type": "code",
   "execution_count": null,
   "metadata": {},
   "outputs": [],
   "source": [
    "attachment2 = open(filename2, 'rb')"
   ]
  },
  {
   "cell_type": "code",
   "execution_count": null,
   "metadata": {},
   "outputs": [],
   "source": [
    "part1 = MIMEBase('application','octet-stream')"
   ]
  },
  {
   "cell_type": "code",
   "execution_count": null,
   "metadata": {},
   "outputs": [],
   "source": [
    "part2 = MIMEBase('application','octet-stream')"
   ]
  },
  {
   "cell_type": "code",
   "execution_count": null,
   "metadata": {},
   "outputs": [],
   "source": [
    "part1.set_payload((attachment1).read())"
   ]
  },
  {
   "cell_type": "code",
   "execution_count": null,
   "metadata": {},
   "outputs": [],
   "source": [
    "part2.set_payload((attachment2).read())"
   ]
  },
  {
   "cell_type": "code",
   "execution_count": null,
   "metadata": {},
   "outputs": [],
   "source": [
    "encoders.encode_base64(part1)"
   ]
  },
  {
   "cell_type": "code",
   "execution_count": null,
   "metadata": {},
   "outputs": [],
   "source": [
    "encoders.encode_base64(part2)"
   ]
  },
  {
   "cell_type": "code",
   "execution_count": null,
   "metadata": {},
   "outputs": [],
   "source": [
    "part1.add_header('Content-Disposition', \"attachment; filename= \" + filename1)"
   ]
  },
  {
   "cell_type": "code",
   "execution_count": null,
   "metadata": {},
   "outputs": [],
   "source": [
    "part2.add_header('Content-Disposition', \"attachment; filename= \" + filename2)"
   ]
  },
  {
   "cell_type": "code",
   "execution_count": null,
   "metadata": {},
   "outputs": [],
   "source": [
    "#Converting all of the Email Message as plain text"
   ]
  },
  {
   "cell_type": "code",
   "execution_count": null,
   "metadata": {},
   "outputs": [],
   "source": [
    "msg.attach(part1)"
   ]
  },
  {
   "cell_type": "code",
   "execution_count": null,
   "metadata": {},
   "outputs": [],
   "source": [
    "msg.attach(part2)"
   ]
  },
  {
   "cell_type": "code",
   "execution_count": null,
   "metadata": {},
   "outputs": [],
   "source": [
    "text = msg.as_string()"
   ]
  },
  {
   "cell_type": "code",
   "execution_count": null,
   "metadata": {},
   "outputs": [],
   "source": [
    "#Establishing SMTP Connection and tls encryption"
   ]
  },
  {
   "cell_type": "code",
   "execution_count": null,
   "metadata": {},
   "outputs": [],
   "source": [
    "conn = smtplib.SMTP('smtp.gmail.com',587)\n",
    "type(conn)"
   ]
  },
  {
   "cell_type": "code",
   "execution_count": null,
   "metadata": {},
   "outputs": [],
   "source": [
    "conn"
   ]
  },
  {
   "cell_type": "code",
   "execution_count": null,
   "metadata": {},
   "outputs": [],
   "source": [
    "conn.ehlo()"
   ]
  },
  {
   "cell_type": "code",
   "execution_count": null,
   "metadata": {},
   "outputs": [],
   "source": [
    "conn.starttls()"
   ]
  },
  {
   "cell_type": "code",
   "execution_count": null,
   "metadata": {},
   "outputs": [],
   "source": [
    "conn.login(email_user, email_password)"
   ]
  },
  {
   "cell_type": "code",
   "execution_count": null,
   "metadata": {},
   "outputs": [],
   "source": [
    "conn.sendmail(email_user,email_send_to, text)"
   ]
  },
  {
   "cell_type": "code",
   "execution_count": null,
   "metadata": {},
   "outputs": [],
   "source": [
    "conn.quit()"
   ]
  },
  {
   "cell_type": "code",
   "execution_count": null,
   "metadata": {},
   "outputs": [],
   "source": [
    "#Google Sheets API Connection for Account Executive to update Notes on campaign delivery"
   ]
  },
  {
   "cell_type": "code",
   "execution_count": null,
   "metadata": {},
   "outputs": [],
   "source": [
    "os.chdir('/Users/Jeffrey.Lu@ibm.com/Desktop')"
   ]
  },
  {
   "cell_type": "code",
   "execution_count": null,
   "metadata": {},
   "outputs": [],
   "source": [
    "scope = ['https://spreadsheets.google.com/feeds', 'https://www.googleapis.com/auth/drive']"
   ]
  },
  {
   "cell_type": "code",
   "execution_count": null,
   "metadata": {},
   "outputs": [],
   "source": [
    "creds = ServiceAccountCredentials.from_json_keyfile_name('client_credentials.json', scope)"
   ]
  },
  {
   "cell_type": "code",
   "execution_count": null,
   "metadata": {},
   "outputs": [],
   "source": [
    "client = gspread.authorize(creds)"
   ]
  },
  {
   "cell_type": "code",
   "execution_count": null,
   "metadata": {},
   "outputs": [],
   "source": [
    "# Opening up the Google Sheets doc and inserting new sheet"
   ]
  },
  {
   "cell_type": "code",
   "execution_count": null,
   "metadata": {},
   "outputs": [],
   "source": [
    "sheet = client.open('Late Creative Doc')"
   ]
  },
  {
   "cell_type": "code",
   "execution_count": null,
   "metadata": {},
   "outputs": [],
   "source": [
    "sheet.add_worksheet(title= time.strftime('Late Creative %m-%d-%Y'), rows=\"100\", cols=\"20\") "
   ]
  },
  {
   "cell_type": "code",
   "execution_count": null,
   "metadata": {},
   "outputs": [],
   "source": [
    "wks = sheet.worksheet(time.strftime('Late Creative %m-%d-%Y'))"
   ]
  },
  {
   "cell_type": "code",
   "execution_count": null,
   "metadata": {},
   "outputs": [],
   "source": [
    "#Google Sheets doesn't have insert column command so we need the pivot data laid out as rows, thus the list of variables below"
   ]
  },
  {
   "cell_type": "code",
   "execution_count": null,
   "metadata": {},
   "outputs": [],
   "source": [
    "late_creative_pivot_final_ae = list(late_creative_pivot_final['Account_Executive'])"
   ]
  },
  {
   "cell_type": "code",
   "execution_count": null,
   "metadata": {},
   "outputs": [],
   "source": [
    "late_creative_pivot_final_adv= list(late_creative_pivot_final['Advertiser'])"
   ]
  },
  {
   "cell_type": "code",
   "execution_count": null,
   "metadata": {},
   "outputs": [],
   "source": [
    "late_creative_pivot_final_name= list(late_creative_pivot_final['Name'])"
   ]
  },
  {
   "cell_type": "code",
   "execution_count": null,
   "metadata": {},
   "outputs": [],
   "source": [
    "late_creative_pivot_final_pend = list(late_creative_pivot_final['Pending '+ current_month_text +\" Revenue\"])"
   ]
  },
  {
   "cell_type": "code",
   "execution_count": null,
   "metadata": {},
   "outputs": [],
   "source": [
    "late_creative_pivot_final_imp = list(late_creative_pivot_final['Est. Revenue Impact'])"
   ]
  },
  {
   "cell_type": "code",
   "execution_count": null,
   "metadata": {},
   "outputs": [],
   "source": [
    "late_creative_pivot_final_headers = ['Account_Executive','Advertiser','Name','Pending September Revenue', 'Est. Revenue Impact', 'Notes']"
   ]
  },
  {
   "cell_type": "code",
   "execution_count": null,
   "metadata": {},
   "outputs": [],
   "source": [
    "late_creative_pivot_final"
   ]
  },
  {
   "cell_type": "code",
   "execution_count": null,
   "metadata": {},
   "outputs": [],
   "source": [
    "#Figuring out corresponding transpose formula alphabet letter "
   ]
  },
  {
   "cell_type": "code",
   "execution_count": null,
   "metadata": {},
   "outputs": [],
   "source": [
    "late_creative_pivot_len = len(late_creative_pivot_final['Account_Executive'])"
   ]
  },
  {
   "cell_type": "code",
   "execution_count": null,
   "metadata": {},
   "outputs": [],
   "source": [
    "alphabet_list = ['a','b','c','d','e','f','g','h','i','j','k','l',\n",
    "               'm','n','o','p','q','r','s','t','u','v','w','x','y','z']"
   ]
  },
  {
   "cell_type": "code",
   "execution_count": null,
   "metadata": {},
   "outputs": [],
   "source": [
    "alphabet_number=late_creative_pivot_len-1"
   ]
  },
  {
   "cell_type": "code",
   "execution_count": null,
   "metadata": {},
   "outputs": [],
   "source": [
    "alphabet_number"
   ]
  },
  {
   "cell_type": "code",
   "execution_count": null,
   "metadata": {},
   "outputs": [],
   "source": [
    "alphabet_var = alphabet_list[alphabet_number]\n",
    "alphabet_var"
   ]
  },
  {
   "cell_type": "code",
   "execution_count": null,
   "metadata": {},
   "outputs": [],
   "source": [
    "#Writing Late Creative materials to Google Sheets"
   ]
  },
  {
   "cell_type": "code",
   "execution_count": null,
   "metadata": {},
   "outputs": [],
   "source": [
    "row1 = late_creative_pivot_final_ae\n",
    "index1 = 1\n",
    "wks.insert_row(row1, index1)"
   ]
  },
  {
   "cell_type": "code",
   "execution_count": null,
   "metadata": {},
   "outputs": [],
   "source": [
    "row2 = late_creative_pivot_final_adv\n",
    "index2 = 2\n",
    "wks.insert_row(row2, index2)"
   ]
  },
  {
   "cell_type": "code",
   "execution_count": null,
   "metadata": {},
   "outputs": [],
   "source": [
    "row3 = late_creative_pivot_final_name\n",
    "index3 = 3\n",
    "wks.insert_row(row3, index3)"
   ]
  },
  {
   "cell_type": "code",
   "execution_count": null,
   "metadata": {},
   "outputs": [],
   "source": [
    "row4 = late_creative_pivot_final_pend\n",
    "index4 = 4\n",
    "wks.insert_row(row4, index4)"
   ]
  },
  {
   "cell_type": "code",
   "execution_count": null,
   "metadata": {},
   "outputs": [],
   "source": [
    "row5 = late_creative_pivot_final_imp\n",
    "index5 = 5\n",
    "wks.insert_row(row5, index5)"
   ]
  },
  {
   "cell_type": "code",
   "execution_count": null,
   "metadata": {},
   "outputs": [],
   "source": [
    "row9 = late_creative_pivot_final_headers\n",
    "index9 = 9\n",
    "wks.insert_row(row9, index9)"
   ]
  },
  {
   "cell_type": "code",
   "execution_count": null,
   "metadata": {},
   "outputs": [],
   "source": [
    "wks.update_cell(10,1, '=TRANSPOSE(A1:'+alphabet_var+'5)')"
   ]
  },
  {
   "cell_type": "code",
   "execution_count": null,
   "metadata": {},
   "outputs": [],
   "source": [
    "\"\"\"\n",
    "Cron Job Established in Terminal: \n",
    "0 11 * * 1,4 /anaconda3/bin/python /Users/Jeffrey.Lu@ibm.com/Desktop/Pacing_Automation.py\n",
    "\n",
    "Future Improvement List\n",
    "#1.) Automatic data importing process via pyodbc or selenium.\n",
    "#2.) Better report formatting could be written. Write python code that will insert VBA script (PC only) into the excel/Google Sheets.\n",
    "\n",
    "#Adjustments that need to be made for when this script is inherited\n",
    "1.)Script is customized for this mac computer. If changed, we need to change current work directory for Pacing Peport retrival.\n",
    "2.)1st time script will run, it will use the current excel output as the current output and the previous output until\n",
    "the program is run a second time for the next report where it can then use the last outputted report as the previous report\n",
    "for week-over-week calculations.\n",
    "3.) Email SMPT credentials username and password will need to be changed.\n",
    "4.) Cron Job script will need to be entered and the variables will need to change.\n",
    "5.) Google Spreadsheet and Drive API Credentails need to change.\n",
    "6.) Google API Access to Drive and Sheets will need to be granted.\n",
    "\"\"\""
   ]
  }
 ],
 "metadata": {
  "kernelspec": {
   "display_name": "Python 3",
   "language": "python",
   "name": "python3"
  },
  "language_info": {
   "codemirror_mode": {
    "name": "ipython",
    "version": 3
   },
   "file_extension": ".py",
   "mimetype": "text/x-python",
   "name": "python",
   "nbconvert_exporter": "python",
   "pygments_lexer": "ipython3",
   "version": "3.7.3"
  }
 },
 "nbformat": 4,
 "nbformat_minor": 2
}
