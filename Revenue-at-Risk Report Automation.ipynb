{
 "cells": [
  {
   "cell_type": "code",
   "execution_count": 3,
   "metadata": {},
   "outputs": [],
   "source": [
    "#import packages\n",
    "import smtplib\n",
    "import glob\n",
    "import docx\n",
    "import pyodbc\n",
    "import os \n",
    "import pandas as pd\n",
    "import openpyxl as op\n",
    "import re\n",
    "import numpy as np\n",
    "import seaborn as sns\n",
    "import sys\n",
    "import time\n",
    "from datetime import datetime\n",
    "from email.mime.text import MIMEText\n",
    "from email.mime.multipart import MIMEMultipart\n",
    "from email.mime.base import MIMEBase\n",
    "from email.encoders import encode_base64\n",
    "from email import encoders\n",
    "import gspread\n",
    "import pprint\n",
    "from oauth2client.service_account import ServiceAccountCredentials\n"
   ]
  },
  {
   "cell_type": "code",
   "execution_count": 4,
   "metadata": {},
   "outputs": [
    {
     "data": {
      "text/plain": [
       "'September'"
      ]
     },
     "execution_count": 4,
     "metadata": {},
     "output_type": "execute_result"
    }
   ],
   "source": [
    "#Current Month Variable for Pivot Column Name Change\n",
    "current_month_text = datetime.now().strftime('%B')\n",
    "current_month_text"
   ]
  },
  {
   "cell_type": "code",
   "execution_count": 5,
   "metadata": {},
   "outputs": [
    {
     "data": {
      "text/plain": [
       "'September 2019'"
      ]
     },
     "execution_count": 5,
     "metadata": {},
     "output_type": "execute_result"
    }
   ],
   "source": [
    "#Current Month Variable for Pivot Word Doc labels\n",
    "current_month_year_text = datetime.now().strftime('%B %Y')\n",
    "current_month_year_text"
   ]
  },
  {
   "cell_type": "code",
   "execution_count": 6,
   "metadata": {},
   "outputs": [],
   "source": [
    "#Use current path were import file is stored\n",
    "os.chdir(\"/Users/Jeffrey.Lu@ibm.com/Desktop/\")"
   ]
  },
  {
   "cell_type": "code",
   "execution_count": 7,
   "metadata": {},
   "outputs": [],
   "source": [
    "# When importing data, save the file to your cwd with the below formatted titel\n",
    "df=pd.read_csv(time.strftime('Pacing Report %m-%d-%Y'))"
   ]
  },
  {
   "cell_type": "code",
   "execution_count": 8,
   "metadata": {},
   "outputs": [],
   "source": [
    "#Removing Unnecessary Columns\n",
    "df.drop(['Ad_Computed_Status', 'Month_Goal_Amount','Month_Captured_Amount',\\\n",
    "        'Total_Captured_Amount','Current_Month_Overdelivery_Amount','Total_Overdelivery_Amount'],\\\n",
    "       axis = 1, inplace = True)"
   ]
  },
  {
   "cell_type": "code",
   "execution_count": 9,
   "metadata": {},
   "outputs": [],
   "source": [
    "#Convert UD Column DType to float\n",
    "df['Current_Month_Estimated_Underdelivery_Amount'] = \\\n",
    "df['Current_Month_Estimated_Underdelivery_Amount'].str.replace(',','').astype(float)\n",
    "\n",
    "df['Estimated_Underdelivery_Amount'] = \\\n",
    "df['Estimated_Underdelivery_Amount'].str.replace(',','').astype(float)\n"
   ]
  },
  {
   "cell_type": "code",
   "execution_count": 10,
   "metadata": {},
   "outputs": [
    {
     "name": "stdout",
     "output_type": "stream",
     "text": [
      "0    The following lines have been dropped: 2001090...\n",
      "1    The following lines have been dropped: 2001110...\n",
      "Name: Ad_Name, dtype: object\n"
     ]
    }
   ],
   "source": [
    "# Printing and Dropping Bad AV lines\n",
    "\n",
    "Bad_AV_Lines = df['Ad_Name'][(df['Ad_Name'].str.contains('_AV', regex = True))&\\\n",
    "              (df['Current_Month_Estimated_Underdelivery_Amount']!= 0)]\n",
    "\n",
    "if df['Ad_Name'][(df['Ad_Name'].str.contains('_AV', regex = True))&\\\n",
    "              (df['Current_Month_Estimated_Underdelivery_Amount']!= 0)].count() > 0:\n",
    "    Bad_AV_IndexNames = Bad_AV_Lines.index\n",
    "    df.drop(Bad_AV_IndexNames , inplace=True)\n",
    "    print('The following lines have been dropped: ' + Bad_AV_Lines)\n",
    "else: \n",
    "    print('_AV lines are good, none show underdelivery')\n",
    "    "
   ]
  },
  {
   "cell_type": "code",
   "execution_count": 11,
   "metadata": {},
   "outputs": [
    {
     "name": "stdout",
     "output_type": "stream",
     "text": [
      "2    The following lines have been dropped: 2001110...\n",
      "Name: Ad_Name, dtype: object\n"
     ]
    }
   ],
   "source": [
    "# Priting and Dropping Bad MG lines\n",
    "\n",
    "Bad_MG_Lines = df['Ad_Name'][(df['Ad_Name'].str.contains('_MG', regex = True))&\\\n",
    "              (df['Current_Month_Estimated_Underdelivery_Amount']!= 0)]\n",
    "\n",
    "if df['Ad_Name'][(df['Ad_Name'].str.contains('_MG', regex = True))&\\\n",
    "              (df['Current_Month_Estimated_Underdelivery_Amount']!= 0)].count() > 0:\n",
    "    Bad_MG_IndexNames = Bad_MG_Lines.index\n",
    "    df.drop(Bad_MG_IndexNames , inplace=True)\n",
    "    print('The following lines have been dropped: ' + Bad_MG_Lines)\n",
    "else: \n",
    "    print('_MG lines are good, none show underdelivery')"
   ]
  },
  {
   "cell_type": "code",
   "execution_count": 12,
   "metadata": {},
   "outputs": [
    {
     "data": {
      "text/html": [
       "<div>\n",
       "<style scoped>\n",
       "    .dataframe tbody tr th:only-of-type {\n",
       "        vertical-align: middle;\n",
       "    }\n",
       "\n",
       "    .dataframe tbody tr th {\n",
       "        vertical-align: top;\n",
       "    }\n",
       "\n",
       "    .dataframe thead th {\n",
       "        text-align: right;\n",
       "    }\n",
       "</style>\n",
       "<table border=\"1\" class=\"dataframe\">\n",
       "  <thead>\n",
       "    <tr style=\"text-align: right;\">\n",
       "      <th></th>\n",
       "      <th>Current_Month_Estimated_Underdelivery_Amount</th>\n",
       "    </tr>\n",
       "    <tr>\n",
       "      <th>Advertiser</th>\n",
       "      <th></th>\n",
       "    </tr>\n",
       "  </thead>\n",
       "  <tbody>\n",
       "    <tr>\n",
       "      <th>Nature Made</th>\n",
       "      <td>71891.60</td>\n",
       "    </tr>\n",
       "    <tr>\n",
       "      <th>Novartis</th>\n",
       "      <td>19660.73</td>\n",
       "    </tr>\n",
       "    <tr>\n",
       "      <th>Nestle Waters</th>\n",
       "      <td>668.67</td>\n",
       "    </tr>\n",
       "  </tbody>\n",
       "</table>\n",
       "</div>"
      ],
      "text/plain": [
       "               Current_Month_Estimated_Underdelivery_Amount\n",
       "Advertiser                                                 \n",
       "Nature Made                                        71891.60\n",
       "Novartis                                           19660.73\n",
       "Nestle Waters                                        668.67"
      ]
     },
     "execution_count": 12,
     "metadata": {},
     "output_type": "execute_result"
    }
   ],
   "source": [
    "#Monday Report Pivot Table Total\n",
    "#No try/except or if statement on this line. We want the program to crash if pivot_total is 0 or empty\n",
    "df_pivot_total= pd.pivot_table(df, index= 'Advertiser', values= 'Current_Month_Estimated_Underdelivery_Amount', aggfunc= np.sum)\n",
    "df_pivot_total= df_pivot_total[df_pivot_total.values != 0].sort_values('Current_Month_Estimated_Underdelivery_Amount', ascending = False)\n",
    "df_pivot_total\n",
    "\n"
   ]
  },
  {
   "cell_type": "code",
   "execution_count": 13,
   "metadata": {},
   "outputs": [
    {
     "name": "stdout",
     "output_type": "stream",
     "text": [
      "Empty DataFrame\n",
      "Columns: [Current_Month_Estimated_Underdelivery_Amount]\n",
      "Index: []\n",
      "$0 Completed Lines\n"
     ]
    }
   ],
   "source": [
    "#Completed Pivot; The try/except is to adjust for pivots that don't have values as the 7th line will error out\n",
    "#if statement is to account for zero-contained lines that were taken out of the pivot, leaving an empty DF object. \n",
    "df_pivot_complete = pd.pivot_table(df.where(df['Ad_Status']=='complete'), index= 'Advertiser', values = 'Current_Month_Estimated_Underdelivery_Amount', aggfunc=np.sum)\n",
    "\n",
    "try:\n",
    "    df_pivot_complete= df_pivot_complete[df_pivot_complete.values != 0].sort_values('Current_Month_Estimated_Underdelivery_Amount', ascending = False)\n",
    "    print(df_pivot_complete)\n",
    "except:\n",
    "    df_pivot_complete = '$0 Completed Lines'\n",
    "    print(df_pivot_complete)\n",
    "    \n",
    "#Regex Objects    \n",
    "ZeroRegex=re.compile(r'\\$0')\n",
    "moComplete=ZeroRegex.findall(str(df_pivot_complete))\n",
    "moComplete\n",
    "\n",
    "#Forces empty dataframes to take on string of $0 lines if it did not take on already. reason: empty frames won't take on '$0'.\n",
    "\n",
    "try:\n",
    "    if (type(df_pivot_complete) != str) & (df_pivot_complete.empty == True):\n",
    "        df_pivot_complete = '$0 Completed Lines'\n",
    "        print(df_pivot_complete)\n",
    "    elif (moComplete == ['$0']) & (df_pivot_complete != '$0 Completed Lines'):\n",
    "        df_pivot_complete = '$0 Completed Lines'\n",
    "        print(df_pivot_complete)\n",
    "    elif (type(df_pivot_complete) == str) & (df_pivot_complete != '$0 Completed Lines'):\n",
    "        df_pivot_suspended = '$0 Completed Lines'\n",
    "        print(df_pivot_suspended)\n",
    "except:\n",
    "    print(df_pivot_complete)"
   ]
  },
  {
   "cell_type": "code",
   "execution_count": 14,
   "metadata": {},
   "outputs": [],
   "source": [
    "Completed = df['Current_Month_Estimated_Underdelivery_Amount'].where(df['Ad_Status']=='complete').fillna(0).sum()"
   ]
  },
  {
   "cell_type": "code",
   "execution_count": 15,
   "metadata": {},
   "outputs": [
    {
     "data": {
      "text/plain": [
       "0.0"
      ]
     },
     "execution_count": 15,
     "metadata": {},
     "output_type": "execute_result"
    }
   ],
   "source": [
    "Completed"
   ]
  },
  {
   "cell_type": "code",
   "execution_count": 16,
   "metadata": {},
   "outputs": [
    {
     "name": "stdout",
     "output_type": "stream",
     "text": [
      "             Current_Month_Estimated_Underdelivery_Amount\n",
      "Advertiser                                               \n",
      "Nature Made                                       71891.6\n",
      "             Current_Month_Estimated_Underdelivery_Amount\n",
      "Advertiser                                               \n",
      "Nature Made                                       71891.6\n"
     ]
    },
    {
     "name": "stderr",
     "output_type": "stream",
     "text": [
      "/anaconda3/lib/python3.7/site-packages/pandas/core/ops.py:1649: FutureWarning: elementwise comparison failed; returning scalar instead, but in the future will perform elementwise comparison\n",
      "  result = method(y)\n"
     ]
    }
   ],
   "source": [
    "#Suspended Pivot\n",
    "df_pivot_suspended = pd.pivot_table(df.where(df['Ad_Status']=='suspended'), index= 'Advertiser', values = 'Current_Month_Estimated_Underdelivery_Amount', aggfunc=np.sum)\n",
    "\n",
    "try:\n",
    "    df_pivot_suspended= df_pivot_suspended[df_pivot_suspended.values != 0].sort_values('Current_Month_Estimated_Underdelivery_Amount', ascending = False)\n",
    "    print(df_pivot_suspended)\n",
    "except:\n",
    "    df_pivot_suspended = '$0 Suspended Lines'\n",
    "    print(df_pivot_suspended)\n",
    "\n",
    "#REGEX OBJECTS\n",
    "ZeroRegex=re.compile(r'\\$0')\n",
    "moSuspended=ZeroRegex.findall(str(df_pivot_suspended))\n",
    "moSuspended\n",
    "\n",
    "#Forces empty dataframes to take on string of $0 lines if it did not take on already. reason: empty frames won't take on '$0'.\n",
    "try:\n",
    "    if (type(df_pivot_suspended) != str) & (df_pivot_suspended.empty == True):\n",
    "        df_pivot_suspended = '$0 Suspended Lines'\n",
    "        print(df_pivot_suspended)\n",
    "    elif (moSuspended == ['$0']) & (df_pivot_suspended != '$0 Suspended Lines'):\n",
    "        df_pivot_suspended = '$0 Suspended Lines'\n",
    "        print(df_pivot_suspended)\n",
    "    elif (type(df_pivot_suspended) == str) & (df_pivot_suspended != '$0 Suspended Lines'):\n",
    "        df_pivot_suspended = '$0 Suspended Lines'\n",
    "        print(df_pivot_suspended)\n",
    "\n",
    "except:\n",
    "    print(df_pivot_suspended)\n",
    "\n",
    "###Elementwise comparison failure warning needs python 3.73 to be resolved. Make sure to use correct version of python."
   ]
  },
  {
   "cell_type": "code",
   "execution_count": 17,
   "metadata": {},
   "outputs": [],
   "source": [
    "#Converting Pivot Table Results to calculatable variable\n",
    "Suspended = df['Current_Month_Estimated_Underdelivery_Amount'].where(df['Ad_Status']=='suspended').fillna(0).sum()"
   ]
  },
  {
   "cell_type": "code",
   "execution_count": 18,
   "metadata": {},
   "outputs": [
    {
     "data": {
      "text/plain": [
       "71891.6"
      ]
     },
     "execution_count": 18,
     "metadata": {},
     "output_type": "execute_result"
    }
   ],
   "source": [
    "Suspended"
   ]
  },
  {
   "cell_type": "code",
   "execution_count": 19,
   "metadata": {},
   "outputs": [
    {
     "name": "stdout",
     "output_type": "stream",
     "text": [
      "$0 Sponsorship Lines\n",
      "$0 Sponsorship Lines\n"
     ]
    }
   ],
   "source": [
    "#Sponsorship Pivot\n",
    "df_pivot_sponsorship = pd.pivot_table(df.where((df['Ad_Status']=='active')&(df['Ad_Type']=='SPONSORSHIP')), index= 'Advertiser', values = 'Current_Month_Estimated_Underdelivery_Amount', aggfunc=np.sum)\n",
    "\n",
    "try:\n",
    "    df_pivot_sponsorship= df_pivot_sponsorship[df_pivot_sponsorship.values != 0].sort_values('Current_Month_Estimated_Underdelivery_Amount', ascending = False)\n",
    "    print(df_pivot_sponsorship)\n",
    "except:\n",
    "    df_pivot_sponsorship='$0 Sponsorship Lines'\n",
    "    print(df_pivot_sponsorship)\n",
    "\n",
    "#REGEX OBJECTS  \n",
    "ZeroRegex=re.compile(r'\\$0')\n",
    "moSponsorship=ZeroRegex.findall(str(df_pivot_sponsorship))\n",
    "moSponsorship\n",
    "\n",
    "#Forces empty dataframes to take on string of $0 lines\n",
    "\n",
    "try:\n",
    "    if (type(df_pivot_sponsorship) != str) & (df_pivot_sponsorship.empty == True):\n",
    "        df_pivot_sponsorship = '$0 Sponsorship Lines'\n",
    "        print(df_pivot_sponsorship)\n",
    "    elif (moSponsorship == ['$0']) & (df_pivot_sponsorship != '$0 Sponsorship Lines'):\n",
    "        df_pivot_sponsorship = '$0 Sponsorship Lines'\n",
    "        print(df_pivot_sponsorship)\n",
    "    elif (type(df_pivot_sponsorship) == str) & (df_pivot_sponsorship != '$0 Sponsorship Lines'):\n",
    "        df_pivot_sponsorship = '$0 Sponsorship Lines'\n",
    "        print(df_pivot_sponsorship)\n",
    "\n",
    "except:\n",
    "    print(df_pivot_sponsorship)"
   ]
  },
  {
   "cell_type": "code",
   "execution_count": 20,
   "metadata": {},
   "outputs": [
    {
     "name": "stdout",
     "output_type": "stream",
     "text": [
      "$0 WFX Lines\n",
      "$0 WFX Lines\n"
     ]
    }
   ],
   "source": [
    "#WFX Pivot\n",
    "df_pivot_WFX = pd.pivot_table(df[~df['Product_Name'].str.contains('Preroll', na = False)]\\\n",
    "                              [df['Ad_Type'].str.contains('STANDARD|HOUSE|AD_EXCHANGE', na = False)]\\\n",
    "                              .where((df['Ad_Status']=='active')&(df['Product_Category']=='WEATHRFX')),\\\n",
    "                              index= 'Advertiser',values = 'Current_Month_Estimated_Underdelivery_Amount',\\\n",
    "                              aggfunc=np.sum)\n",
    "\n",
    "try:\n",
    "    df_pivot_WFX= df_pivot_WFX[df_pivot_WFX.values != 0].sort_values('Current_Month_Estimated_Underdelivery_Amount', ascending = False)\n",
    "    print(df_pivot_WFX)\n",
    "except:\n",
    "    df_pivot_WFX='$0 WFX Lines'\n",
    "    print(df_pivot_WFX)\n",
    "    \n",
    "#REGEX OBJECTS  \n",
    "ZeroRegex=re.compile(r'\\$0')\n",
    "moWFX=ZeroRegex.findall(str(df_pivot_WFX))\n",
    "moWFX\n",
    "\n",
    "#Forces empty dataframes to take on string of $0 lines\n",
    "\n",
    "try:\n",
    "    if (type(df_pivot_WFX) != str) & (df_pivot_WFX.empty == True):\n",
    "        df_pivot_WFX = '$0 WFX Lines'\n",
    "        print(df_pivot_WFX)\n",
    "    elif (moWFX == ['$0']) & (df_pivot_WFX != '$0 WFX Lines'):\n",
    "        df_pivot_WFX = '$0 WFX Lines'\n",
    "        print(df_pivot_WFX)\n",
    "    elif (type(df_pivot_WFX) == str) & (df_pivot_WFX != '$0 WFX Lines'):\n",
    "        df_pivot_sponsorship = '$0 WFX Lines'\n",
    "        print(df_pivot_WFX)\n",
    "except:\n",
    "    print(df_pivot_WFX)"
   ]
  },
  {
   "cell_type": "code",
   "execution_count": 21,
   "metadata": {},
   "outputs": [
    {
     "name": "stdout",
     "output_type": "stream",
     "text": [
      "            Current_Month_Estimated_Underdelivery_Amount\n",
      "Advertiser                                              \n",
      "Novartis                                          387.22\n",
      "            Current_Month_Estimated_Underdelivery_Amount\n",
      "Advertiser                                              \n",
      "Novartis                                          387.22\n"
     ]
    },
    {
     "name": "stderr",
     "output_type": "stream",
     "text": [
      "/anaconda3/lib/python3.7/site-packages/pandas/core/ops.py:1649: FutureWarning: elementwise comparison failed; returning scalar instead, but in the future will perform elementwise comparison\n",
      "  result = method(y)\n"
     ]
    }
   ],
   "source": [
    "#AFX Pivot\n",
    "df_pivot_AFX = pd.pivot_table(df[~df['Product_Name'].str.contains('Preroll', na = False)]\\\n",
    "                              [df['Ad_Type'].str.contains('STANDARD|HOUSE|AD_EXCHANGE', na = False)]\\\n",
    "                              .where((df['Ad_Status']=='active')&(df['Product_Category']=='AUDIENCEFX')),\\\n",
    "                              index= 'Advertiser',values = 'Current_Month_Estimated_Underdelivery_Amount',\\\n",
    "                              aggfunc=np.sum)\n",
    "\n",
    "try:\n",
    "    df_pivot_AFX= df_pivot_AFX[df_pivot_AFX.values != 0].sort_values('Current_Month_Estimated_Underdelivery_Amount', ascending = False)\n",
    "    print(df_pivot_AFX)\n",
    "except:\n",
    "    df_pivot_WFX='$0 AFX Lines'\n",
    "    print(df_pivot_AFX)\n",
    "    \n",
    "#REGEX OBJECTS  \n",
    "ZeroRegex=re.compile(r'\\$0')\n",
    "moAFX=ZeroRegex.findall(str(df_pivot_AFX))\n",
    "moAFX\n",
    "\n",
    "#Forces empty dataframes to take on string of $0 lines\n",
    "\n",
    "try:\n",
    "    if (type(df_pivot_AFX) != str) & (df_pivot_AFX.empty == True):\n",
    "        df_pivot_AFX = '$0 AFX Lines'\n",
    "        print(df_pivot_AFX)\n",
    "    elif (moAFX == ['$0']) & (df_pivot_AFX != '$0 AFX Lines'):\n",
    "        df_pivot_AFX = '$0 AFX Lines'\n",
    "        print(df_pivot_AFX)\n",
    "    elif (type(df_pivot_AFX) == str) & (df_pivot_AFX != '$0 AFX Lines'):\n",
    "        df_pivot_sponsorship = '$0 AFX Lines'\n",
    "        print(df_pivot_AFX)\n",
    "except:\n",
    "    print(df_pivot_AFX)              \n",
    "                                                                       "
   ]
  },
  {
   "cell_type": "code",
   "execution_count": 22,
   "metadata": {},
   "outputs": [
    {
     "name": "stdout",
     "output_type": "stream",
     "text": [
      "$0 JFX Lines\n",
      "$0 JFX Lines\n"
     ]
    }
   ],
   "source": [
    "#JFX Pivot\n",
    "df_pivot_JFX = pd.pivot_table(df[~df['Product_Name'].str.contains('Preroll', na = False)]\\\n",
    "                              [df['Ad_Type'].str.contains('STANDARD|HOUSE|AD_EXCHANGE', na = False)]\\\n",
    "                              .where((df['Ad_Status']=='active')&(df['Product_Category']=='JFX')),\\\n",
    "                              index= 'Advertiser',values = 'Current_Month_Estimated_Underdelivery_Amount',\\\n",
    "                              aggfunc=np.sum)\n",
    "\n",
    "try:\n",
    "    df_pivot_JFX= df_pivot_JFX[df_pivot_AFX.values != 0].sort_values('Current_Month_Estimated_Underdelivery_Amount', ascending = False)\n",
    "    print(df_pivot_JFX)\n",
    "except:\n",
    "    df_pivot_JFX='$0 JFX Lines'\n",
    "    print(df_pivot_JFX)\n",
    "    \n",
    "#REGEX OBJECTS  \n",
    "ZeroRegex=re.compile(r'\\$0')\n",
    "moJFX=ZeroRegex.findall(str(df_pivot_JFX))\n",
    "moJFX\n",
    "\n",
    "#Forces empty dataframes to take on string of $0 lines\n",
    "\n",
    "try:\n",
    "    if (type(df_pivot_JFX) != str) & (df_pivot_JFX.empty == True):\n",
    "        df_pivot_JFX = '$0 JFX Lines'\n",
    "        print(df_pivot_JFX)\n",
    "    elif (moJFX == ['$0']) & (df_pivot_JFX != '$0 JFX Lines'):\n",
    "        df_pivot_JFX = '$0 JFX Lines'\n",
    "        print(df_pivot_JFX)\n",
    "    elif (type(df_pivot_JFX) == str) & (df_pivot_JFX != '$0 JFX Lines'):\n",
    "        df_pivot_sponsorship = '$0 JFX Lines'\n",
    "        print(df_pivot_JFX)\n",
    "except:\n",
    "    print(df_pivot_JFX)   "
   ]
  },
  {
   "cell_type": "code",
   "execution_count": 23,
   "metadata": {},
   "outputs": [
    {
     "name": "stdout",
     "output_type": "stream",
     "text": [
      "$0 Preroll Lines\n",
      "$0 Preroll Lines\n"
     ]
    },
    {
     "name": "stderr",
     "output_type": "stream",
     "text": [
      "/anaconda3/lib/python3.7/site-packages/ipykernel_launcher.py:4: UserWarning: Boolean Series key will be reindexed to match DataFrame index.\n",
      "  after removing the cwd from sys.path.\n"
     ]
    }
   ],
   "source": [
    "#Preroll Pivot\n",
    "df_pivot_preroll = pd.pivot_table(df[df['Product_Name'].str.contains('Preroll', na = False)]\\\n",
    "                              [df['Ad_Type'].str.contains('STANDARD|HOUSE|AD_EXCHANGE', na = False)]\\\n",
    "                              .where((df['Ad_Status']=='active')),\\\n",
    "                              index= 'Advertiser',values = 'Current_Month_Estimated_Underdelivery_Amount',\\\n",
    "                              aggfunc=np.sum)\n",
    "\n",
    "try:\n",
    "    df_pivot_preroll= df_pivot_preroll[df_pivot_preroll.values != 0].sort_values('Current_Month_Estimated_Underdelivery_Amount', ascending = False)\n",
    "    print(df_pivot_preroll)\n",
    "except:\n",
    "    df_pivot_preroll='$0 Preroll Lines'\n",
    "    print(df_pivot_preroll)\n",
    "    \n",
    "    \n",
    "#REGEX OBJECTS  \n",
    "ZeroRegex=re.compile(r'\\$0')\n",
    "moPreroll=ZeroRegex.findall(str(df_pivot_preroll))\n",
    "moPreroll\n",
    "\n",
    "#Forces empty dataframes to take on string of $0 lines\n",
    "\n",
    "try:\n",
    "    if (type(df_pivot_preroll) != str) & (df_pivot_preroll.empty == True):\n",
    "        df_pivot_preroll = '$0 Preroll Lines'\n",
    "        print(df_pivot_preroll)\n",
    "    elif (moPreroll == ['$0']) & (df_pivot_preroll != '$0 Preroll Lines'):\n",
    "        df_pivot_preroll = '$0 Preroll Lines'\n",
    "        print(df_pivot_preroll)\n",
    "    elif (type(df_pivot_preroll) == str) & (df_pivot_preroll != '$0 Preroll Lines'):\n",
    "        df_pivot_preroll = '$0 Preroll Lines'\n",
    "        print(df_pivot_preroll)\n",
    "\n",
    "except:\n",
    "    print(df_pivot_preroll)    \n",
    "\n",
    "\n",
    "    \n",
    "#This warning is based off the differences in opinions between developers. If methodology changes in the future, code may need to be rewritten"
   ]
  },
  {
   "cell_type": "code",
   "execution_count": 24,
   "metadata": {},
   "outputs": [
    {
     "data": {
      "text/html": [
       "<div>\n",
       "<style scoped>\n",
       "    .dataframe tbody tr th:only-of-type {\n",
       "        vertical-align: middle;\n",
       "    }\n",
       "\n",
       "    .dataframe tbody tr th {\n",
       "        vertical-align: top;\n",
       "    }\n",
       "\n",
       "    .dataframe thead th {\n",
       "        text-align: right;\n",
       "    }\n",
       "</style>\n",
       "<table border=\"1\" class=\"dataframe\">\n",
       "  <thead>\n",
       "    <tr style=\"text-align: right;\">\n",
       "      <th></th>\n",
       "      <th>September Risk</th>\n",
       "      <th>Total Risk</th>\n",
       "      <th>Notes for Campaigns with $10k + Risk for the Current Month</th>\n",
       "    </tr>\n",
       "    <tr>\n",
       "      <th>Advertiser</th>\n",
       "      <th></th>\n",
       "      <th></th>\n",
       "      <th></th>\n",
       "    </tr>\n",
       "  </thead>\n",
       "  <tbody>\n",
       "    <tr>\n",
       "      <th>Nature Made</th>\n",
       "      <td>71891.60</td>\n",
       "      <td>71891.60</td>\n",
       "      <td></td>\n",
       "    </tr>\n",
       "    <tr>\n",
       "      <th>Novartis</th>\n",
       "      <td>19660.73</td>\n",
       "      <td>33960.96</td>\n",
       "      <td></td>\n",
       "    </tr>\n",
       "    <tr>\n",
       "      <th>Nestle Waters</th>\n",
       "      <td>668.67</td>\n",
       "      <td>668.67</td>\n",
       "      <td></td>\n",
       "    </tr>\n",
       "    <tr>\n",
       "      <th>The Lego Group</th>\n",
       "      <td>0.00</td>\n",
       "      <td>12068.63</td>\n",
       "      <td></td>\n",
       "    </tr>\n",
       "  </tbody>\n",
       "</table>\n",
       "</div>"
      ],
      "text/plain": [
       "                September Risk  Total Risk  \\\n",
       "Advertiser                                   \n",
       "Nature Made           71891.60    71891.60   \n",
       "Novartis              19660.73    33960.96   \n",
       "Nestle Waters           668.67      668.67   \n",
       "The Lego Group            0.00    12068.63   \n",
       "\n",
       "               Notes for Campaigns with $10k + Risk for the Current Month  \n",
       "Advertiser                                                                 \n",
       "Nature Made                                                                \n",
       "Novartis                                                                   \n",
       "Nestle Waters                                                              \n",
       "The Lego Group                                                             "
      ]
     },
     "execution_count": 24,
     "metadata": {},
     "output_type": "execute_result"
    }
   ],
   "source": [
    "#Advertiser Pivot\n",
    "df_pivot_advertiser= pd.pivot_table(df, index= 'Advertiser', values= ['Current_Month_Estimated_Underdelivery_Amount','Estimated_Underdelivery_Amount'], aggfunc= np.sum)\n",
    "df_pivot_advertiser= df_pivot_advertiser[df_pivot_advertiser.values != [0,0]].sort_values('Current_Month_Estimated_Underdelivery_Amount', ascending = False)\n",
    "df_pivot_advertiser = df_pivot_advertiser.drop_duplicates()\n",
    "df_pivot_advertiser['Notes for Campaigns with $10k + Risk for the Current Month']=(\"\")\n",
    "df_pivot_advertiser.rename(columns={'Current_Month_Estimated_Underdelivery_Amount': current_month_text +' Risk'}, inplace=True)\n",
    "df_pivot_advertiser.rename(columns={'Estimated_Underdelivery_Amount': 'Total Risk'}, inplace=True)\n",
    "\n",
    "\n",
    "df_pivot_advertiser"
   ]
  },
  {
   "cell_type": "code",
   "execution_count": 25,
   "metadata": {},
   "outputs": [],
   "source": [
    "#Changing Pivot column title to have dynamic month label\n",
    "df_pivot_advertiser[current_month_text + ' Risk']=df_pivot_advertiser[current_month_text + ' Risk'].apply(lambda x: '${:,.2f}'.format(x))"
   ]
  },
  {
   "cell_type": "code",
   "execution_count": 26,
   "metadata": {},
   "outputs": [],
   "source": [
    "#Incorporating currency formatting\n",
    "df_pivot_advertiser['Total Risk']=df_pivot_advertiser['Total Risk'].apply(lambda x: '${:,.2f}'.format(x))"
   ]
  },
  {
   "cell_type": "code",
   "execution_count": 27,
   "metadata": {},
   "outputs": [
    {
     "data": {
      "text/html": [
       "<div>\n",
       "<style scoped>\n",
       "    .dataframe tbody tr th:only-of-type {\n",
       "        vertical-align: middle;\n",
       "    }\n",
       "\n",
       "    .dataframe tbody tr th {\n",
       "        vertical-align: top;\n",
       "    }\n",
       "\n",
       "    .dataframe thead th {\n",
       "        text-align: right;\n",
       "    }\n",
       "</style>\n",
       "<table border=\"1\" class=\"dataframe\">\n",
       "  <thead>\n",
       "    <tr style=\"text-align: right;\">\n",
       "      <th></th>\n",
       "      <th>September Risk</th>\n",
       "      <th>Total Risk</th>\n",
       "      <th>Notes for Campaigns with $10k + Risk for the Current Month</th>\n",
       "    </tr>\n",
       "    <tr>\n",
       "      <th>Advertiser</th>\n",
       "      <th></th>\n",
       "      <th></th>\n",
       "      <th></th>\n",
       "    </tr>\n",
       "  </thead>\n",
       "  <tbody>\n",
       "    <tr>\n",
       "      <th>Nature Made</th>\n",
       "      <td>$71,891.60</td>\n",
       "      <td>$71,891.60</td>\n",
       "      <td></td>\n",
       "    </tr>\n",
       "    <tr>\n",
       "      <th>Novartis</th>\n",
       "      <td>$19,660.73</td>\n",
       "      <td>$33,960.96</td>\n",
       "      <td></td>\n",
       "    </tr>\n",
       "    <tr>\n",
       "      <th>Nestle Waters</th>\n",
       "      <td>$668.67</td>\n",
       "      <td>$668.67</td>\n",
       "      <td></td>\n",
       "    </tr>\n",
       "    <tr>\n",
       "      <th>The Lego Group</th>\n",
       "      <td>$0.00</td>\n",
       "      <td>$12,068.63</td>\n",
       "      <td></td>\n",
       "    </tr>\n",
       "  </tbody>\n",
       "</table>\n",
       "</div>"
      ],
      "text/plain": [
       "               September Risk  Total Risk  \\\n",
       "Advertiser                                  \n",
       "Nature Made        $71,891.60  $71,891.60   \n",
       "Novartis           $19,660.73  $33,960.96   \n",
       "Nestle Waters         $668.67     $668.67   \n",
       "The Lego Group          $0.00  $12,068.63   \n",
       "\n",
       "               Notes for Campaigns with $10k + Risk for the Current Month  \n",
       "Advertiser                                                                 \n",
       "Nature Made                                                                \n",
       "Novartis                                                                   \n",
       "Nestle Waters                                                              \n",
       "The Lego Group                                                             "
      ]
     },
     "execution_count": 27,
     "metadata": {},
     "output_type": "execute_result"
    }
   ],
   "source": [
    "df_pivot_advertiser"
   ]
  },
  {
   "cell_type": "code",
   "execution_count": 28,
   "metadata": {},
   "outputs": [],
   "source": [
    "##### Late Creative Section #####"
   ]
  },
  {
   "cell_type": "code",
   "execution_count": 29,
   "metadata": {},
   "outputs": [],
   "source": [
    "#Late Creative file should be saved to cwd with the below formatting structure\n",
    "df2=pd.read_csv(time.strftime('Late Creative %m-%d-%Y'), skipinitialspace=True)"
   ]
  },
  {
   "cell_type": "code",
   "execution_count": 30,
   "metadata": {},
   "outputs": [
    {
     "data": {
      "text/html": [
       "<div>\n",
       "<style scoped>\n",
       "    .dataframe tbody tr th:only-of-type {\n",
       "        vertical-align: middle;\n",
       "    }\n",
       "\n",
       "    .dataframe tbody tr th {\n",
       "        vertical-align: top;\n",
       "    }\n",
       "\n",
       "    .dataframe thead th {\n",
       "        text-align: right;\n",
       "    }\n",
       "</style>\n",
       "<table border=\"1\" class=\"dataframe\">\n",
       "  <thead>\n",
       "    <tr style=\"text-align: right;\">\n",
       "      <th></th>\n",
       "      <th>AD_ID</th>\n",
       "      <th>Order_ID</th>\n",
       "      <th>Proposal ID</th>\n",
       "      <th>Order/Ticket</th>\n",
       "      <th>Name</th>\n",
       "      <th>Ad_Status</th>\n",
       "      <th>Start_Date</th>\n",
       "      <th>End_Date</th>\n",
       "      <th>Value</th>\n",
       "      <th>Total_Month_Dollars</th>\n",
       "      <th>Revenue_Impact</th>\n",
       "      <th>Region</th>\n",
       "      <th>Account_Executive</th>\n",
       "      <th>Advertiser</th>\n",
       "      <th>Order_Status</th>\n",
       "    </tr>\n",
       "  </thead>\n",
       "  <tbody>\n",
       "    <tr>\n",
       "      <th>0</th>\n",
       "      <td>5051902707</td>\n",
       "      <td>113448</td>\n",
       "      <td>PROP176191</td>\n",
       "      <td>113448_Novartis - Systane Complete - 1_DFP</td>\n",
       "      <td>2001101922-40__1_RON_Leaderboard_PLT(TWC)_GEO-...</td>\n",
       "      <td>INACTIVE</td>\n",
       "      <td>7/1/19</td>\n",
       "      <td>9/30/19</td>\n",
       "      <td>$359.63</td>\n",
       "      <td>$121.18</td>\n",
       "      <td>$2.71</td>\n",
       "      <td>UK</td>\n",
       "      <td>Michael Szymanski</td>\n",
       "      <td>Novartis</td>\n",
       "      <td>active_order</td>\n",
       "    </tr>\n",
       "    <tr>\n",
       "      <th>1</th>\n",
       "      <td>5051902056</td>\n",
       "      <td>113448</td>\n",
       "      <td>PROP176191</td>\n",
       "      <td>113448_Novartis - Systane Complete - 1_DFP</td>\n",
       "      <td>2001101922-40__2_RON_Leaderboard_PLT(TWC)_GEO-...</td>\n",
       "      <td>INACTIVE</td>\n",
       "      <td>7/1/19</td>\n",
       "      <td>9/30/19</td>\n",
       "      <td>$359.62</td>\n",
       "      <td>$121.18</td>\n",
       "      <td>$2.71</td>\n",
       "      <td>United Kingdom</td>\n",
       "      <td>Michael Szymanski</td>\n",
       "      <td>Novartis</td>\n",
       "      <td>active_order</td>\n",
       "    </tr>\n",
       "    <tr>\n",
       "      <th>2</th>\n",
       "      <td>5051902221</td>\n",
       "      <td>113448</td>\n",
       "      <td>PROP176191</td>\n",
       "      <td>113448_Novartis - Systane Complete - 1_DFP</td>\n",
       "      <td>2001101922-40__3_RON_Leaderboard_PLT(TWC)_GEO-...</td>\n",
       "      <td>INACTIVE</td>\n",
       "      <td>7/1/19</td>\n",
       "      <td>9/30/19</td>\n",
       "      <td>$359.62</td>\n",
       "      <td>$121.18</td>\n",
       "      <td>$2.71</td>\n",
       "      <td>New York</td>\n",
       "      <td>Michael Szymanski</td>\n",
       "      <td>Novartis</td>\n",
       "      <td>active_order</td>\n",
       "    </tr>\n",
       "    <tr>\n",
       "      <th>3</th>\n",
       "      <td>5051902242</td>\n",
       "      <td>113448</td>\n",
       "      <td>PROP176191</td>\n",
       "      <td>113448_Novartis - Systane Complete - 1_DFP</td>\n",
       "      <td>2001101922-40__4_RON_Leaderboard_PLT(TWC)_GEO-...</td>\n",
       "      <td>INACTIVE</td>\n",
       "      <td>7/1/19</td>\n",
       "      <td>9/30/19</td>\n",
       "      <td>$359.62</td>\n",
       "      <td>$121.18</td>\n",
       "      <td>$2.71</td>\n",
       "      <td>New York</td>\n",
       "      <td>Michael Szymanski</td>\n",
       "      <td>Novartis</td>\n",
       "      <td>active_order</td>\n",
       "    </tr>\n",
       "    <tr>\n",
       "      <th>4</th>\n",
       "      <td>5108167627</td>\n",
       "      <td>113449</td>\n",
       "      <td>PROP177485</td>\n",
       "      <td>113449_Eli Lilly and Company-Taltz 2019 PsO_Go...</td>\n",
       "      <td>2001135769-67_RON_Med Rect_PLT(TWC Android Pho...</td>\n",
       "      <td>INACTIVE</td>\n",
       "      <td>7/3/19</td>\n",
       "      <td>9/30/19</td>\n",
       "      <td>$7,874.99</td>\n",
       "      <td>$2,712.50</td>\n",
       "      <td>$118.38</td>\n",
       "      <td>New York</td>\n",
       "      <td>Patrick Gipson</td>\n",
       "      <td>Eli Lilly and Company</td>\n",
       "      <td>active_order</td>\n",
       "    </tr>\n",
       "  </tbody>\n",
       "</table>\n",
       "</div>"
      ],
      "text/plain": [
       "        AD_ID  Order_ID Proposal ID  \\\n",
       "0  5051902707    113448  PROP176191   \n",
       "1  5051902056    113448  PROP176191   \n",
       "2  5051902221    113448  PROP176191   \n",
       "3  5051902242    113448  PROP176191   \n",
       "4  5108167627    113449  PROP177485   \n",
       "\n",
       "                                        Order/Ticket  \\\n",
       "0         113448_Novartis - Systane Complete - 1_DFP   \n",
       "1         113448_Novartis - Systane Complete - 1_DFP   \n",
       "2         113448_Novartis - Systane Complete - 1_DFP   \n",
       "3         113448_Novartis - Systane Complete - 1_DFP   \n",
       "4  113449_Eli Lilly and Company-Taltz 2019 PsO_Go...   \n",
       "\n",
       "                                                Name Ad_Status Start_Date  \\\n",
       "0  2001101922-40__1_RON_Leaderboard_PLT(TWC)_GEO-...  INACTIVE     7/1/19   \n",
       "1  2001101922-40__2_RON_Leaderboard_PLT(TWC)_GEO-...  INACTIVE     7/1/19   \n",
       "2  2001101922-40__3_RON_Leaderboard_PLT(TWC)_GEO-...  INACTIVE     7/1/19   \n",
       "3  2001101922-40__4_RON_Leaderboard_PLT(TWC)_GEO-...  INACTIVE     7/1/19   \n",
       "4  2001135769-67_RON_Med Rect_PLT(TWC Android Pho...  INACTIVE     7/3/19   \n",
       "\n",
       "  End_Date       Value Total_Month_Dollars Revenue_Impact          Region  \\\n",
       "0  9/30/19    $359.63             $121.18          $2.71               UK   \n",
       "1  9/30/19    $359.62             $121.18          $2.71   United Kingdom   \n",
       "2  9/30/19    $359.62             $121.18          $2.71         New York   \n",
       "3  9/30/19    $359.62             $121.18          $2.71         New York   \n",
       "4  9/30/19  $7,874.99           $2,712.50        $118.38         New York   \n",
       "\n",
       "   Account_Executive             Advertiser  Order_Status  \n",
       "0  Michael Szymanski               Novartis  active_order  \n",
       "1  Michael Szymanski               Novartis  active_order  \n",
       "2  Michael Szymanski               Novartis  active_order  \n",
       "3  Michael Szymanski               Novartis  active_order  \n",
       "4     Patrick Gipson  Eli Lilly and Company  active_order  "
      ]
     },
     "execution_count": 30,
     "metadata": {},
     "output_type": "execute_result"
    }
   ],
   "source": [
    "df2.head()"
   ]
  },
  {
   "cell_type": "code",
   "execution_count": 31,
   "metadata": {},
   "outputs": [],
   "source": [
    "#Deleting UK Lines\n",
    "df2= df2[~df2.Region.isin(['UK', 'United Kingdom', '-'])]"
   ]
  },
  {
   "cell_type": "code",
   "execution_count": 32,
   "metadata": {},
   "outputs": [],
   "source": [
    "#Deleting Bidopt Lines\n",
    "df2= df2[~df2.Name.str.contains('bidopt')]"
   ]
  },
  {
   "cell_type": "code",
   "execution_count": 33,
   "metadata": {},
   "outputs": [],
   "source": [
    "df2.reset_index(inplace = True)"
   ]
  },
  {
   "cell_type": "code",
   "execution_count": 34,
   "metadata": {},
   "outputs": [],
   "source": [
    "#Stripping CSV whitespace in column\n",
    "df2['Revenue_Impact']=df2['Revenue_Impact'].str.strip()\n"
   ]
  },
  {
   "cell_type": "code",
   "execution_count": 35,
   "metadata": {},
   "outputs": [],
   "source": [
    "# Converting Money series to float series\n",
    "df2['Revenue_Impact'] = df2['Revenue_Impact'].replace( '[\\$,)]','', regex=True ).astype(float)"
   ]
  },
  {
   "cell_type": "code",
   "execution_count": 36,
   "metadata": {},
   "outputs": [],
   "source": [
    "#Stripping CSV whitespace in column\n",
    "df2['Total_Month_Dollars']=df2['Total_Month_Dollars'].str.strip()\n",
    "df2['Total_Month_Dollars'] = df2['Total_Month_Dollars'].replace( '[\\$,)]','', regex=True ).astype(float)"
   ]
  },
  {
   "cell_type": "code",
   "execution_count": 38,
   "metadata": {},
   "outputs": [
    {
     "data": {
      "text/plain": [
       "121.18"
      ]
     },
     "execution_count": 38,
     "metadata": {},
     "output_type": "execute_result"
    }
   ],
   "source": [
    "df2['Total_Month_Dollars'][0]"
   ]
  },
  {
   "cell_type": "code",
   "execution_count": 39,
   "metadata": {},
   "outputs": [],
   "source": [
    "#Late Creative Pivot\n",
    "late_creative_pivot = pd.pivot_table(df2, index= ['Account_Executive', 'Advertiser'],values = ['Name','Total_Month_Dollars','Revenue_Impact'],aggfunc = {'Name': pd.Series.nunique, 'Total_Month_Dollars': np.sum, 'Revenue_Impact':np.sum}, margins = True)\n",
    "late_creative_pivot"
   ]
  },
  {
   "cell_type": "code",
   "execution_count": 41,
   "metadata": {},
   "outputs": [],
   "source": [
    "#Adding in currency formatting to revenue_impact column\n",
    "late_creative_pivot['Revenue_Impact'] = late_creative_pivot['Revenue_Impact'].apply(lambda x: '${:,.2f}'.format(x))"
   ]
  },
  {
   "cell_type": "code",
   "execution_count": 42,
   "metadata": {},
   "outputs": [],
   "source": [
    "#Adding in subtotal formatting for the Account_Executive column\n",
    "late_creative_pivot_final = df2.groupby('Account_Executive').apply(lambda sub: sub.pivot_table(\n",
    "    index=['Account_Executive', 'Advertiser'],\n",
    "    values=['Name','Revenue_Impact','Total_Month_Dollars'],\n",
    "    aggfunc={'Name': pd.Series.nunique, 'Total_Month_Dollars': np.sum, 'Revenue_Impact':np.sum},\n",
    "    margins=True,\n",
    "    margins_name= 'SubTotal',\n",
    "))"
   ]
  },
  {
   "cell_type": "code",
   "execution_count": 43,
   "metadata": {},
   "outputs": [
    {
     "data": {
      "text/html": [
       "<div>\n",
       "<style scoped>\n",
       "    .dataframe tbody tr th:only-of-type {\n",
       "        vertical-align: middle;\n",
       "    }\n",
       "\n",
       "    .dataframe tbody tr th {\n",
       "        vertical-align: top;\n",
       "    }\n",
       "\n",
       "    .dataframe thead th {\n",
       "        text-align: right;\n",
       "    }\n",
       "</style>\n",
       "<table border=\"1\" class=\"dataframe\">\n",
       "  <thead>\n",
       "    <tr style=\"text-align: right;\">\n",
       "      <th></th>\n",
       "      <th></th>\n",
       "      <th></th>\n",
       "      <th>Name</th>\n",
       "      <th>Revenue_Impact</th>\n",
       "      <th>Total_Month_Dollars</th>\n",
       "    </tr>\n",
       "    <tr>\n",
       "      <th>Account_Executive</th>\n",
       "      <th>Account_Executive</th>\n",
       "      <th>Advertiser</th>\n",
       "      <th></th>\n",
       "      <th></th>\n",
       "      <th></th>\n",
       "    </tr>\n",
       "  </thead>\n",
       "  <tbody>\n",
       "    <tr>\n",
       "      <th rowspan=\"2\" valign=\"top\">Caitlin Jennings</th>\n",
       "      <th>Caitlin Jennings</th>\n",
       "      <th>Universal Orlando</th>\n",
       "      <td>1</td>\n",
       "      <td>2677.28</td>\n",
       "      <td>8845.11</td>\n",
       "    </tr>\n",
       "    <tr>\n",
       "      <th>SubTotal</th>\n",
       "      <th></th>\n",
       "      <td>1</td>\n",
       "      <td>2677.28</td>\n",
       "      <td>8845.11</td>\n",
       "    </tr>\n",
       "    <tr>\n",
       "      <th rowspan=\"2\" valign=\"top\">Julia Duffy</th>\n",
       "      <th>Julia Duffy</th>\n",
       "      <th>McDonald's</th>\n",
       "      <td>2</td>\n",
       "      <td>0.00</td>\n",
       "      <td>0.02</td>\n",
       "    </tr>\n",
       "    <tr>\n",
       "      <th>SubTotal</th>\n",
       "      <th></th>\n",
       "      <td>2</td>\n",
       "      <td>0.00</td>\n",
       "      <td>0.02</td>\n",
       "    </tr>\n",
       "    <tr>\n",
       "      <th rowspan=\"2\" valign=\"top\">Matthew Daly</th>\n",
       "      <th>Matthew Daly</th>\n",
       "      <th>Verizon Communications, Inc</th>\n",
       "      <td>26</td>\n",
       "      <td>11787.63</td>\n",
       "      <td>50699.44</td>\n",
       "    </tr>\n",
       "    <tr>\n",
       "      <th>SubTotal</th>\n",
       "      <th></th>\n",
       "      <td>26</td>\n",
       "      <td>11787.63</td>\n",
       "      <td>50699.44</td>\n",
       "    </tr>\n",
       "    <tr>\n",
       "      <th rowspan=\"2\" valign=\"top\">Michael Szymanski</th>\n",
       "      <th>Michael Szymanski</th>\n",
       "      <th>Novartis</th>\n",
       "      <td>2</td>\n",
       "      <td>5.42</td>\n",
       "      <td>242.36</td>\n",
       "    </tr>\n",
       "    <tr>\n",
       "      <th>SubTotal</th>\n",
       "      <th></th>\n",
       "      <td>2</td>\n",
       "      <td>5.42</td>\n",
       "      <td>242.36</td>\n",
       "    </tr>\n",
       "    <tr>\n",
       "      <th rowspan=\"3\" valign=\"top\">Patrick Gipson</th>\n",
       "      <th rowspan=\"2\" valign=\"top\">Patrick Gipson</th>\n",
       "      <th>Abbott Laboratories</th>\n",
       "      <td>9</td>\n",
       "      <td>0.00</td>\n",
       "      <td>0.09</td>\n",
       "    </tr>\n",
       "    <tr>\n",
       "      <th>Eli Lilly and Company</th>\n",
       "      <td>4</td>\n",
       "      <td>473.52</td>\n",
       "      <td>10850.00</td>\n",
       "    </tr>\n",
       "    <tr>\n",
       "      <th>SubTotal</th>\n",
       "      <th></th>\n",
       "      <td>13</td>\n",
       "      <td>473.52</td>\n",
       "      <td>10850.09</td>\n",
       "    </tr>\n",
       "  </tbody>\n",
       "</table>\n",
       "</div>"
      ],
      "text/plain": [
       "                                                                 Name  \\\n",
       "Account_Executive Account_Executive Advertiser                          \n",
       "Caitlin Jennings  Caitlin Jennings  Universal Orlando               1   \n",
       "                  SubTotal                                          1   \n",
       "Julia Duffy       Julia Duffy       McDonald's                      2   \n",
       "                  SubTotal                                          2   \n",
       "Matthew Daly      Matthew Daly      Verizon Communications, Inc    26   \n",
       "                  SubTotal                                         26   \n",
       "Michael Szymanski Michael Szymanski Novartis                        2   \n",
       "                  SubTotal                                          2   \n",
       "Patrick Gipson    Patrick Gipson    Abbott Laboratories             9   \n",
       "                                    Eli Lilly and Company           4   \n",
       "                  SubTotal                                         13   \n",
       "\n",
       "                                                                 Revenue_Impact  \\\n",
       "Account_Executive Account_Executive Advertiser                                    \n",
       "Caitlin Jennings  Caitlin Jennings  Universal Orlando                   2677.28   \n",
       "                  SubTotal                                              2677.28   \n",
       "Julia Duffy       Julia Duffy       McDonald's                             0.00   \n",
       "                  SubTotal                                                 0.00   \n",
       "Matthew Daly      Matthew Daly      Verizon Communications, Inc        11787.63   \n",
       "                  SubTotal                                             11787.63   \n",
       "Michael Szymanski Michael Szymanski Novartis                               5.42   \n",
       "                  SubTotal                                                 5.42   \n",
       "Patrick Gipson    Patrick Gipson    Abbott Laboratories                    0.00   \n",
       "                                    Eli Lilly and Company                473.52   \n",
       "                  SubTotal                                               473.52   \n",
       "\n",
       "                                                                 Total_Month_Dollars  \n",
       "Account_Executive Account_Executive Advertiser                                        \n",
       "Caitlin Jennings  Caitlin Jennings  Universal Orlando                        8845.11  \n",
       "                  SubTotal                                                   8845.11  \n",
       "Julia Duffy       Julia Duffy       McDonald's                                  0.02  \n",
       "                  SubTotal                                                      0.02  \n",
       "Matthew Daly      Matthew Daly      Verizon Communications, Inc             50699.44  \n",
       "                  SubTotal                                                  50699.44  \n",
       "Michael Szymanski Michael Szymanski Novartis                                  242.36  \n",
       "                  SubTotal                                                    242.36  \n",
       "Patrick Gipson    Patrick Gipson    Abbott Laboratories                         0.09  \n",
       "                                    Eli Lilly and Company                   10850.00  \n",
       "                  SubTotal                                                  10850.09  "
      ]
     },
     "execution_count": 43,
     "metadata": {},
     "output_type": "execute_result"
    }
   ],
   "source": [
    "late_creative_pivot_final"
   ]
  },
  {
   "cell_type": "code",
   "execution_count": 44,
   "metadata": {},
   "outputs": [],
   "source": [
    "late_creative_pivot_final.loc[('', 'Total', '')] = late_creative_pivot_final.sum()"
   ]
  },
  {
   "cell_type": "code",
   "execution_count": 45,
   "metadata": {},
   "outputs": [],
   "source": [
    "#Removing duplicate Account_Executive column\n",
    "late_creative_pivot_final.index = late_creative_pivot_final.index.droplevel(0)"
   ]
  },
  {
   "cell_type": "code",
   "execution_count": 46,
   "metadata": {},
   "outputs": [
    {
     "data": {
      "text/html": [
       "<div>\n",
       "<style scoped>\n",
       "    .dataframe tbody tr th:only-of-type {\n",
       "        vertical-align: middle;\n",
       "    }\n",
       "\n",
       "    .dataframe tbody tr th {\n",
       "        vertical-align: top;\n",
       "    }\n",
       "\n",
       "    .dataframe thead th {\n",
       "        text-align: right;\n",
       "    }\n",
       "</style>\n",
       "<table border=\"1\" class=\"dataframe\">\n",
       "  <thead>\n",
       "    <tr style=\"text-align: right;\">\n",
       "      <th></th>\n",
       "      <th></th>\n",
       "      <th>Name</th>\n",
       "      <th>Revenue_Impact</th>\n",
       "      <th>Total_Month_Dollars</th>\n",
       "    </tr>\n",
       "    <tr>\n",
       "      <th>Account_Executive</th>\n",
       "      <th>Advertiser</th>\n",
       "      <th></th>\n",
       "      <th></th>\n",
       "      <th></th>\n",
       "    </tr>\n",
       "  </thead>\n",
       "  <tbody>\n",
       "    <tr>\n",
       "      <th>Caitlin Jennings</th>\n",
       "      <th>Universal Orlando</th>\n",
       "      <td>1.0</td>\n",
       "      <td>2677.28</td>\n",
       "      <td>8845.11</td>\n",
       "    </tr>\n",
       "    <tr>\n",
       "      <th>SubTotal</th>\n",
       "      <th></th>\n",
       "      <td>1.0</td>\n",
       "      <td>2677.28</td>\n",
       "      <td>8845.11</td>\n",
       "    </tr>\n",
       "    <tr>\n",
       "      <th>Julia Duffy</th>\n",
       "      <th>McDonald's</th>\n",
       "      <td>2.0</td>\n",
       "      <td>0.00</td>\n",
       "      <td>0.02</td>\n",
       "    </tr>\n",
       "    <tr>\n",
       "      <th>SubTotal</th>\n",
       "      <th></th>\n",
       "      <td>2.0</td>\n",
       "      <td>0.00</td>\n",
       "      <td>0.02</td>\n",
       "    </tr>\n",
       "    <tr>\n",
       "      <th>Matthew Daly</th>\n",
       "      <th>Verizon Communications, Inc</th>\n",
       "      <td>26.0</td>\n",
       "      <td>11787.63</td>\n",
       "      <td>50699.44</td>\n",
       "    </tr>\n",
       "    <tr>\n",
       "      <th>SubTotal</th>\n",
       "      <th></th>\n",
       "      <td>26.0</td>\n",
       "      <td>11787.63</td>\n",
       "      <td>50699.44</td>\n",
       "    </tr>\n",
       "    <tr>\n",
       "      <th>Michael Szymanski</th>\n",
       "      <th>Novartis</th>\n",
       "      <td>2.0</td>\n",
       "      <td>5.42</td>\n",
       "      <td>242.36</td>\n",
       "    </tr>\n",
       "    <tr>\n",
       "      <th>SubTotal</th>\n",
       "      <th></th>\n",
       "      <td>2.0</td>\n",
       "      <td>5.42</td>\n",
       "      <td>242.36</td>\n",
       "    </tr>\n",
       "    <tr>\n",
       "      <th rowspan=\"2\" valign=\"top\">Patrick Gipson</th>\n",
       "      <th>Abbott Laboratories</th>\n",
       "      <td>9.0</td>\n",
       "      <td>0.00</td>\n",
       "      <td>0.09</td>\n",
       "    </tr>\n",
       "    <tr>\n",
       "      <th>Eli Lilly and Company</th>\n",
       "      <td>4.0</td>\n",
       "      <td>473.52</td>\n",
       "      <td>10850.00</td>\n",
       "    </tr>\n",
       "    <tr>\n",
       "      <th>SubTotal</th>\n",
       "      <th></th>\n",
       "      <td>13.0</td>\n",
       "      <td>473.52</td>\n",
       "      <td>10850.09</td>\n",
       "    </tr>\n",
       "    <tr>\n",
       "      <th>Total</th>\n",
       "      <th></th>\n",
       "      <td>88.0</td>\n",
       "      <td>29887.70</td>\n",
       "      <td>141274.04</td>\n",
       "    </tr>\n",
       "  </tbody>\n",
       "</table>\n",
       "</div>"
      ],
      "text/plain": [
       "                                               Name  Revenue_Impact  \\\n",
       "Account_Executive Advertiser                                          \n",
       "Caitlin Jennings  Universal Orlando             1.0         2677.28   \n",
       "SubTotal                                        1.0         2677.28   \n",
       "Julia Duffy       McDonald's                    2.0            0.00   \n",
       "SubTotal                                        2.0            0.00   \n",
       "Matthew Daly      Verizon Communications, Inc  26.0        11787.63   \n",
       "SubTotal                                       26.0        11787.63   \n",
       "Michael Szymanski Novartis                      2.0            5.42   \n",
       "SubTotal                                        2.0            5.42   \n",
       "Patrick Gipson    Abbott Laboratories           9.0            0.00   \n",
       "                  Eli Lilly and Company         4.0          473.52   \n",
       "SubTotal                                       13.0          473.52   \n",
       "Total                                          88.0        29887.70   \n",
       "\n",
       "                                               Total_Month_Dollars  \n",
       "Account_Executive Advertiser                                        \n",
       "Caitlin Jennings  Universal Orlando                        8845.11  \n",
       "SubTotal                                                   8845.11  \n",
       "Julia Duffy       McDonald's                                  0.02  \n",
       "SubTotal                                                      0.02  \n",
       "Matthew Daly      Verizon Communications, Inc             50699.44  \n",
       "SubTotal                                                  50699.44  \n",
       "Michael Szymanski Novartis                                  242.36  \n",
       "SubTotal                                                    242.36  \n",
       "Patrick Gipson    Abbott Laboratories                         0.09  \n",
       "                  Eli Lilly and Company                   10850.00  \n",
       "SubTotal                                                  10850.09  \n",
       "Total                                                    141274.04  "
      ]
     },
     "execution_count": 46,
     "metadata": {},
     "output_type": "execute_result"
    }
   ],
   "source": [
    "late_creative_pivot_final"
   ]
  },
  {
   "cell_type": "code",
   "execution_count": 47,
   "metadata": {},
   "outputs": [],
   "source": [
    "#Formatting\n",
    "late_creative_pivot_final['Total_Month_Dollars']=late_creative_pivot_final['Total_Month_Dollars'].apply(lambda x: '${:,.2f}'.format(x))"
   ]
  },
  {
   "cell_type": "code",
   "execution_count": 48,
   "metadata": {},
   "outputs": [],
   "source": [
    "late_creative_pivot_final['Revenue_Impact']=late_creative_pivot_final['Revenue_Impact'].apply(lambda x: '${:,.2f}'.format(x))"
   ]
  },
  {
   "cell_type": "code",
   "execution_count": 49,
   "metadata": {},
   "outputs": [],
   "source": [
    "late_creative_pivot_final['Name']=late_creative_pivot_final['Name'].apply(lambda x: '{0:.3g}'.format(x))"
   ]
  },
  {
   "cell_type": "code",
   "execution_count": 50,
   "metadata": {},
   "outputs": [],
   "source": [
    "#Adding in notes column \n",
    "late_creative_pivot_final['Notes']=\"\""
   ]
  },
  {
   "cell_type": "code",
   "execution_count": 51,
   "metadata": {},
   "outputs": [],
   "source": [
    "late_creative_pivot_final.rename(columns={'Revenue_Impact': 'Pending '+ current_month_text +\" Revenue\"}, inplace=True)"
   ]
  },
  {
   "cell_type": "code",
   "execution_count": 52,
   "metadata": {},
   "outputs": [],
   "source": [
    "late_creative_pivot_final.rename(columns={'Total_Month_Dollars': 'Est. Revenue Impact'}, inplace=True)\n"
   ]
  },
  {
   "cell_type": "code",
   "execution_count": 53,
   "metadata": {},
   "outputs": [],
   "source": [
    "late_creative_pivot_final=late_creative_pivot_final.reset_index()"
   ]
  },
  {
   "cell_type": "code",
   "execution_count": 54,
   "metadata": {},
   "outputs": [
    {
     "data": {
      "text/html": [
       "<div>\n",
       "<style scoped>\n",
       "    .dataframe tbody tr th:only-of-type {\n",
       "        vertical-align: middle;\n",
       "    }\n",
       "\n",
       "    .dataframe tbody tr th {\n",
       "        vertical-align: top;\n",
       "    }\n",
       "\n",
       "    .dataframe thead th {\n",
       "        text-align: right;\n",
       "    }\n",
       "</style>\n",
       "<table border=\"1\" class=\"dataframe\">\n",
       "  <thead>\n",
       "    <tr style=\"text-align: right;\">\n",
       "      <th></th>\n",
       "      <th>Account_Executive</th>\n",
       "      <th>Advertiser</th>\n",
       "      <th>Name</th>\n",
       "      <th>Pending September Revenue</th>\n",
       "      <th>Est. Revenue Impact</th>\n",
       "      <th>Notes</th>\n",
       "    </tr>\n",
       "  </thead>\n",
       "  <tbody>\n",
       "    <tr>\n",
       "      <th>0</th>\n",
       "      <td>Caitlin Jennings</td>\n",
       "      <td>Universal Orlando</td>\n",
       "      <td>1</td>\n",
       "      <td>$2,677.28</td>\n",
       "      <td>$8,845.11</td>\n",
       "      <td></td>\n",
       "    </tr>\n",
       "    <tr>\n",
       "      <th>1</th>\n",
       "      <td>SubTotal</td>\n",
       "      <td></td>\n",
       "      <td>1</td>\n",
       "      <td>$2,677.28</td>\n",
       "      <td>$8,845.11</td>\n",
       "      <td></td>\n",
       "    </tr>\n",
       "    <tr>\n",
       "      <th>2</th>\n",
       "      <td>Julia Duffy</td>\n",
       "      <td>McDonald's</td>\n",
       "      <td>2</td>\n",
       "      <td>$0.00</td>\n",
       "      <td>$0.02</td>\n",
       "      <td></td>\n",
       "    </tr>\n",
       "    <tr>\n",
       "      <th>3</th>\n",
       "      <td>SubTotal</td>\n",
       "      <td></td>\n",
       "      <td>2</td>\n",
       "      <td>$0.00</td>\n",
       "      <td>$0.02</td>\n",
       "      <td></td>\n",
       "    </tr>\n",
       "    <tr>\n",
       "      <th>4</th>\n",
       "      <td>Matthew Daly</td>\n",
       "      <td>Verizon Communications, Inc</td>\n",
       "      <td>26</td>\n",
       "      <td>$11,787.63</td>\n",
       "      <td>$50,699.44</td>\n",
       "      <td></td>\n",
       "    </tr>\n",
       "    <tr>\n",
       "      <th>5</th>\n",
       "      <td>SubTotal</td>\n",
       "      <td></td>\n",
       "      <td>26</td>\n",
       "      <td>$11,787.63</td>\n",
       "      <td>$50,699.44</td>\n",
       "      <td></td>\n",
       "    </tr>\n",
       "    <tr>\n",
       "      <th>6</th>\n",
       "      <td>Michael Szymanski</td>\n",
       "      <td>Novartis</td>\n",
       "      <td>2</td>\n",
       "      <td>$5.42</td>\n",
       "      <td>$242.36</td>\n",
       "      <td></td>\n",
       "    </tr>\n",
       "    <tr>\n",
       "      <th>7</th>\n",
       "      <td>SubTotal</td>\n",
       "      <td></td>\n",
       "      <td>2</td>\n",
       "      <td>$5.42</td>\n",
       "      <td>$242.36</td>\n",
       "      <td></td>\n",
       "    </tr>\n",
       "    <tr>\n",
       "      <th>8</th>\n",
       "      <td>Patrick Gipson</td>\n",
       "      <td>Abbott Laboratories</td>\n",
       "      <td>9</td>\n",
       "      <td>$0.00</td>\n",
       "      <td>$0.09</td>\n",
       "      <td></td>\n",
       "    </tr>\n",
       "    <tr>\n",
       "      <th>9</th>\n",
       "      <td>Patrick Gipson</td>\n",
       "      <td>Eli Lilly and Company</td>\n",
       "      <td>4</td>\n",
       "      <td>$473.52</td>\n",
       "      <td>$10,850.00</td>\n",
       "      <td></td>\n",
       "    </tr>\n",
       "    <tr>\n",
       "      <th>10</th>\n",
       "      <td>SubTotal</td>\n",
       "      <td></td>\n",
       "      <td>13</td>\n",
       "      <td>$473.52</td>\n",
       "      <td>$10,850.09</td>\n",
       "      <td></td>\n",
       "    </tr>\n",
       "    <tr>\n",
       "      <th>11</th>\n",
       "      <td>Total</td>\n",
       "      <td></td>\n",
       "      <td>88</td>\n",
       "      <td>$29,887.70</td>\n",
       "      <td>$141,274.04</td>\n",
       "      <td></td>\n",
       "    </tr>\n",
       "  </tbody>\n",
       "</table>\n",
       "</div>"
      ],
      "text/plain": [
       "    Account_Executive                   Advertiser Name  \\\n",
       "0    Caitlin Jennings            Universal Orlando    1   \n",
       "1            SubTotal                                 1   \n",
       "2         Julia Duffy                   McDonald's    2   \n",
       "3            SubTotal                                 2   \n",
       "4        Matthew Daly  Verizon Communications, Inc   26   \n",
       "5            SubTotal                                26   \n",
       "6   Michael Szymanski                     Novartis    2   \n",
       "7            SubTotal                                 2   \n",
       "8      Patrick Gipson          Abbott Laboratories    9   \n",
       "9      Patrick Gipson        Eli Lilly and Company    4   \n",
       "10           SubTotal                                13   \n",
       "11              Total                                88   \n",
       "\n",
       "   Pending September Revenue Est. Revenue Impact Notes  \n",
       "0                  $2,677.28           $8,845.11        \n",
       "1                  $2,677.28           $8,845.11        \n",
       "2                      $0.00               $0.02        \n",
       "3                      $0.00               $0.02        \n",
       "4                 $11,787.63          $50,699.44        \n",
       "5                 $11,787.63          $50,699.44        \n",
       "6                      $5.42             $242.36        \n",
       "7                      $5.42             $242.36        \n",
       "8                      $0.00               $0.09        \n",
       "9                    $473.52          $10,850.00        \n",
       "10                   $473.52          $10,850.09        \n",
       "11                $29,887.70         $141,274.04        "
      ]
     },
     "execution_count": 54,
     "metadata": {},
     "output_type": "execute_result"
    }
   ],
   "source": [
    "late_creative_pivot_final"
   ]
  },
  {
   "cell_type": "code",
   "execution_count": 55,
   "metadata": {},
   "outputs": [],
   "source": [
    "#Creating list of account executives; We need to append account executive names to their respective subtotal\n",
    "list1= list(late_creative_pivot_final['Account_Executive'])\n",
    "list1"
   ]
  },
  {
   "cell_type": "code",
   "execution_count": 57,
   "metadata": {},
   "outputs": [],
   "source": [
    "#Creating function that extracts all \"subtotal\" strings from list1\n",
    "def list_duplicates_of(seq,item):\n",
    "    start_at = -1\n",
    "    locs = []\n",
    "    while True:\n",
    "        try:\n",
    "            loc = seq.index(item,start_at+1)\n",
    "        except ValueError:\n",
    "            break\n",
    "        else:\n",
    "            locs.append(loc)\n",
    "            start_at = loc\n",
    "    return locs\n",
    "\n",
    "source = list1\n",
    "index_subtotal = list_duplicates_of(source, 'SubTotal')"
   ]
  },
  {
   "cell_type": "code",
   "execution_count": 58,
   "metadata": {},
   "outputs": [],
   "source": [
    "#Concatenates subtotal string to the above account executive\n",
    "for i in index_subtotal:\n",
    "    list1[i]=list1[i-1]+\" \" +list1[i]"
   ]
  },
  {
   "cell_type": "code",
   "execution_count": 59,
   "metadata": {},
   "outputs": [
    {
     "data": {
      "text/plain": [
       "['Caitlin Jennings',\n",
       " 'Caitlin Jennings SubTotal',\n",
       " 'Julia Duffy',\n",
       " 'Julia Duffy SubTotal',\n",
       " 'Matthew Daly',\n",
       " 'Matthew Daly SubTotal',\n",
       " 'Michael Szymanski',\n",
       " 'Michael Szymanski SubTotal',\n",
       " 'Patrick Gipson',\n",
       " 'Patrick Gipson',\n",
       " 'Patrick Gipson SubTotal',\n",
       " 'Total']"
      ]
     },
     "execution_count": 59,
     "metadata": {},
     "output_type": "execute_result"
    }
   ],
   "source": [
    "list1"
   ]
  },
  {
   "cell_type": "code",
   "execution_count": 60,
   "metadata": {},
   "outputs": [],
   "source": [
    "late_creative_pivot_final['Account_Executive'] = list1"
   ]
  },
  {
   "cell_type": "code",
   "execution_count": 61,
   "metadata": {},
   "outputs": [
    {
     "data": {
      "text/html": [
       "<div>\n",
       "<style scoped>\n",
       "    .dataframe tbody tr th:only-of-type {\n",
       "        vertical-align: middle;\n",
       "    }\n",
       "\n",
       "    .dataframe tbody tr th {\n",
       "        vertical-align: top;\n",
       "    }\n",
       "\n",
       "    .dataframe thead th {\n",
       "        text-align: right;\n",
       "    }\n",
       "</style>\n",
       "<table border=\"1\" class=\"dataframe\">\n",
       "  <thead>\n",
       "    <tr style=\"text-align: right;\">\n",
       "      <th></th>\n",
       "      <th>Account_Executive</th>\n",
       "      <th>Advertiser</th>\n",
       "      <th>Name</th>\n",
       "      <th>Pending September Revenue</th>\n",
       "      <th>Est. Revenue Impact</th>\n",
       "      <th>Notes</th>\n",
       "    </tr>\n",
       "  </thead>\n",
       "  <tbody>\n",
       "    <tr>\n",
       "      <th>0</th>\n",
       "      <td>Caitlin Jennings</td>\n",
       "      <td>Universal Orlando</td>\n",
       "      <td>1</td>\n",
       "      <td>$2,677.28</td>\n",
       "      <td>$8,845.11</td>\n",
       "      <td></td>\n",
       "    </tr>\n",
       "    <tr>\n",
       "      <th>1</th>\n",
       "      <td>Caitlin Jennings SubTotal</td>\n",
       "      <td></td>\n",
       "      <td>1</td>\n",
       "      <td>$2,677.28</td>\n",
       "      <td>$8,845.11</td>\n",
       "      <td></td>\n",
       "    </tr>\n",
       "    <tr>\n",
       "      <th>2</th>\n",
       "      <td>Julia Duffy</td>\n",
       "      <td>McDonald's</td>\n",
       "      <td>2</td>\n",
       "      <td>$0.00</td>\n",
       "      <td>$0.02</td>\n",
       "      <td></td>\n",
       "    </tr>\n",
       "    <tr>\n",
       "      <th>3</th>\n",
       "      <td>Julia Duffy SubTotal</td>\n",
       "      <td></td>\n",
       "      <td>2</td>\n",
       "      <td>$0.00</td>\n",
       "      <td>$0.02</td>\n",
       "      <td></td>\n",
       "    </tr>\n",
       "    <tr>\n",
       "      <th>4</th>\n",
       "      <td>Matthew Daly</td>\n",
       "      <td>Verizon Communications, Inc</td>\n",
       "      <td>26</td>\n",
       "      <td>$11,787.63</td>\n",
       "      <td>$50,699.44</td>\n",
       "      <td></td>\n",
       "    </tr>\n",
       "    <tr>\n",
       "      <th>5</th>\n",
       "      <td>Matthew Daly SubTotal</td>\n",
       "      <td></td>\n",
       "      <td>26</td>\n",
       "      <td>$11,787.63</td>\n",
       "      <td>$50,699.44</td>\n",
       "      <td></td>\n",
       "    </tr>\n",
       "    <tr>\n",
       "      <th>6</th>\n",
       "      <td>Michael Szymanski</td>\n",
       "      <td>Novartis</td>\n",
       "      <td>2</td>\n",
       "      <td>$5.42</td>\n",
       "      <td>$242.36</td>\n",
       "      <td></td>\n",
       "    </tr>\n",
       "    <tr>\n",
       "      <th>7</th>\n",
       "      <td>Michael Szymanski SubTotal</td>\n",
       "      <td></td>\n",
       "      <td>2</td>\n",
       "      <td>$5.42</td>\n",
       "      <td>$242.36</td>\n",
       "      <td></td>\n",
       "    </tr>\n",
       "    <tr>\n",
       "      <th>8</th>\n",
       "      <td>Patrick Gipson</td>\n",
       "      <td>Abbott Laboratories</td>\n",
       "      <td>9</td>\n",
       "      <td>$0.00</td>\n",
       "      <td>$0.09</td>\n",
       "      <td></td>\n",
       "    </tr>\n",
       "    <tr>\n",
       "      <th>9</th>\n",
       "      <td>Patrick Gipson</td>\n",
       "      <td>Eli Lilly and Company</td>\n",
       "      <td>4</td>\n",
       "      <td>$473.52</td>\n",
       "      <td>$10,850.00</td>\n",
       "      <td></td>\n",
       "    </tr>\n",
       "    <tr>\n",
       "      <th>10</th>\n",
       "      <td>Patrick Gipson SubTotal</td>\n",
       "      <td></td>\n",
       "      <td>13</td>\n",
       "      <td>$473.52</td>\n",
       "      <td>$10,850.09</td>\n",
       "      <td></td>\n",
       "    </tr>\n",
       "    <tr>\n",
       "      <th>11</th>\n",
       "      <td>Total</td>\n",
       "      <td></td>\n",
       "      <td>88</td>\n",
       "      <td>$29,887.70</td>\n",
       "      <td>$141,274.04</td>\n",
       "      <td></td>\n",
       "    </tr>\n",
       "  </tbody>\n",
       "</table>\n",
       "</div>"
      ],
      "text/plain": [
       "             Account_Executive                   Advertiser Name  \\\n",
       "0             Caitlin Jennings            Universal Orlando    1   \n",
       "1    Caitlin Jennings SubTotal                                 1   \n",
       "2                  Julia Duffy                   McDonald's    2   \n",
       "3         Julia Duffy SubTotal                                 2   \n",
       "4                 Matthew Daly  Verizon Communications, Inc   26   \n",
       "5        Matthew Daly SubTotal                                26   \n",
       "6            Michael Szymanski                     Novartis    2   \n",
       "7   Michael Szymanski SubTotal                                 2   \n",
       "8               Patrick Gipson          Abbott Laboratories    9   \n",
       "9               Patrick Gipson        Eli Lilly and Company    4   \n",
       "10     Patrick Gipson SubTotal                                13   \n",
       "11                       Total                                88   \n",
       "\n",
       "   Pending September Revenue Est. Revenue Impact Notes  \n",
       "0                  $2,677.28           $8,845.11        \n",
       "1                  $2,677.28           $8,845.11        \n",
       "2                      $0.00               $0.02        \n",
       "3                      $0.00               $0.02        \n",
       "4                 $11,787.63          $50,699.44        \n",
       "5                 $11,787.63          $50,699.44        \n",
       "6                      $5.42             $242.36        \n",
       "7                      $5.42             $242.36        \n",
       "8                      $0.00               $0.09        \n",
       "9                    $473.52          $10,850.00        \n",
       "10                   $473.52          $10,850.09        \n",
       "11                $29,887.70         $141,274.04        "
      ]
     },
     "execution_count": 61,
     "metadata": {},
     "output_type": "execute_result"
    }
   ],
   "source": [
    "late_creative_pivot_final"
   ]
  },
  {
   "cell_type": "code",
   "execution_count": 62,
   "metadata": {},
   "outputs": [],
   "source": [
    "#Variable currency conversions"
   ]
  },
  {
   "cell_type": "code",
   "execution_count": 63,
   "metadata": {},
   "outputs": [
    {
     "data": {
      "text/plain": [
       "14943.85"
      ]
     },
     "execution_count": 63,
     "metadata": {},
     "output_type": "execute_result"
    }
   ],
   "source": [
    "Late_Creative = df2['Revenue_Impact'].sum()\n",
    "Late_Creative"
   ]
  },
  {
   "cell_type": "code",
   "execution_count": 64,
   "metadata": {},
   "outputs": [
    {
     "data": {
      "text/plain": [
       "'$14,944'"
      ]
     },
     "execution_count": 64,
     "metadata": {},
     "output_type": "execute_result"
    }
   ],
   "source": [
    "Late_Creative_str = '${:,.0f}'.format(Late_Creative)\n",
    "Late_Creative_str"
   ]
  },
  {
   "cell_type": "code",
   "execution_count": 65,
   "metadata": {},
   "outputs": [],
   "source": [
    "##Calculating Total Underdelivery and formatting into currency"
   ]
  },
  {
   "cell_type": "code",
   "execution_count": 66,
   "metadata": {},
   "outputs": [
    {
     "data": {
      "text/plain": [
       "92221.0"
      ]
     },
     "execution_count": 66,
     "metadata": {},
     "output_type": "execute_result"
    }
   ],
   "source": [
    "Current_Month_Estimated_UD = df['Current_Month_Estimated_Underdelivery_Amount'].sum()\n",
    "Current_Month_Estimated_UD"
   ]
  },
  {
   "cell_type": "code",
   "execution_count": 67,
   "metadata": {},
   "outputs": [
    {
     "data": {
      "text/plain": [
       "'$92,221'"
      ]
     },
     "execution_count": 67,
     "metadata": {},
     "output_type": "execute_result"
    }
   ],
   "source": [
    "Current_Month_Estimated_UD_str = '${:,.0f}'.format(Current_Month_Estimated_UD)\n",
    "Current_Month_Estimated_UD_str"
   ]
  },
  {
   "cell_type": "code",
   "execution_count": 68,
   "metadata": {},
   "outputs": [
    {
     "data": {
      "text/plain": [
       "14943.85"
      ]
     },
     "execution_count": 68,
     "metadata": {},
     "output_type": "execute_result"
    }
   ],
   "source": [
    "Late_Creative_Rev_Impact=df2['Revenue_Impact'].sum()\n",
    "Late_Creative_Rev_Impact"
   ]
  },
  {
   "cell_type": "code",
   "execution_count": 69,
   "metadata": {},
   "outputs": [
    {
     "data": {
      "text/plain": [
       "'$14,944'"
      ]
     },
     "execution_count": 69,
     "metadata": {},
     "output_type": "execute_result"
    }
   ],
   "source": [
    "Late_Creative_Rev_Impact_str = '${:,.0f}'.format(Late_Creative_Rev_Impact)\n",
    "Late_Creative_Rev_Impact_str"
   ]
  },
  {
   "cell_type": "code",
   "execution_count": 70,
   "metadata": {},
   "outputs": [
    {
     "data": {
      "text/plain": [
       "107164.85"
      ]
     },
     "execution_count": 70,
     "metadata": {},
     "output_type": "execute_result"
    }
   ],
   "source": [
    "Total_Underdelivery = Current_Month_Estimated_UD + Late_Creative_Rev_Impact\n",
    "Total_Underdelivery"
   ]
  },
  {
   "cell_type": "code",
   "execution_count": 71,
   "metadata": {},
   "outputs": [
    {
     "data": {
      "text/plain": [
       "'$107,165'"
      ]
     },
     "execution_count": 71,
     "metadata": {},
     "output_type": "execute_result"
    }
   ],
   "source": [
    "Total_Underdelivery_str = '${:,.0f}'.format(Total_Underdelivery)\n",
    "Total_Underdelivery_str"
   ]
  },
  {
   "cell_type": "code",
   "execution_count": 72,
   "metadata": {},
   "outputs": [
    {
     "data": {
      "text/plain": [
       "20329.399999999998"
      ]
     },
     "execution_count": 72,
     "metadata": {},
     "output_type": "execute_result"
    }
   ],
   "source": [
    "Active_Revenue_At_Risk=df['Current_Month_Estimated_Underdelivery_Amount'].where((df['Ad_Status']=='active')).sum()\n",
    "Active_Revenue_At_Risk"
   ]
  },
  {
   "cell_type": "code",
   "execution_count": 73,
   "metadata": {},
   "outputs": [
    {
     "data": {
      "text/plain": [
       "'$20,329'"
      ]
     },
     "execution_count": 73,
     "metadata": {},
     "output_type": "execute_result"
    }
   ],
   "source": [
    "Active_Revenue_At_Risk_str = '${:,.0f}'.format(Active_Revenue_At_Risk)\n",
    "Active_Revenue_At_Risk_str"
   ]
  },
  {
   "cell_type": "code",
   "execution_count": 74,
   "metadata": {},
   "outputs": [],
   "source": [
    "###Creating week-over-week calculations###\n",
    "#Step 1: Create formatted aggregate variables"
   ]
  },
  {
   "cell_type": "code",
   "execution_count": 75,
   "metadata": {},
   "outputs": [
    {
     "data": {
      "text/plain": [
       "86835.45000000001"
      ]
     },
     "execution_count": 75,
     "metadata": {},
     "output_type": "execute_result"
    }
   ],
   "source": [
    "Not_Live = Suspended + Completed + Late_Creative\n",
    "Not_Live"
   ]
  },
  {
   "cell_type": "code",
   "execution_count": 76,
   "metadata": {},
   "outputs": [
    {
     "data": {
      "text/plain": [
       "'$86,835'"
      ]
     },
     "execution_count": 76,
     "metadata": {},
     "output_type": "execute_result"
    }
   ],
   "source": [
    "Not_Live_str = '${:,.0f}'.format(Not_Live)\n",
    "Not_Live_str"
   ]
  },
  {
   "cell_type": "code",
   "execution_count": 77,
   "metadata": {},
   "outputs": [
    {
     "data": {
      "text/plain": [
       "'$71,892'"
      ]
     },
     "execution_count": 77,
     "metadata": {},
     "output_type": "execute_result"
    }
   ],
   "source": [
    "Suspended_str = '${:,.0f}'.format(Suspended)\n",
    "Suspended_str"
   ]
  },
  {
   "cell_type": "code",
   "execution_count": 78,
   "metadata": {},
   "outputs": [
    {
     "data": {
      "text/plain": [
       "'$0'"
      ]
     },
     "execution_count": 78,
     "metadata": {},
     "output_type": "execute_result"
    }
   ],
   "source": [
    "Completed_str = '${:,.0f}'.format(Completed)\n",
    "Completed_str"
   ]
  },
  {
   "cell_type": "code",
   "execution_count": 79,
   "metadata": {},
   "outputs": [
    {
     "name": "stdout",
     "output_type": "stream",
     "text": [
      "/Users/Jeffrey.Lu@ibm.com/Desktop/Pacing_Reports/Pacing_Report 09-07-2019.xlsx\n"
     ]
    }
   ],
   "source": [
    "#Printing Last File\n",
    "\n",
    "list_of_files = glob.iglob('/Users/Jeffrey.Lu@ibm.com/Desktop/Pacing_Reports/*.xlsx')\n",
    "latest_file = max(list_of_files, key=os.path.getctime)\n",
    "print(latest_file)"
   ]
  },
  {
   "cell_type": "code",
   "execution_count": 80,
   "metadata": {},
   "outputs": [],
   "source": [
    "#Importing files from previous Pacing Report and going into calculations summary (May need to change directory)"
   ]
  },
  {
   "cell_type": "code",
   "execution_count": 81,
   "metadata": {},
   "outputs": [],
   "source": [
    "os.chdir('/Users/Jeffrey.Lu@ibm.com/Desktop/Pacing_Reports')"
   ]
  },
  {
   "cell_type": "code",
   "execution_count": 82,
   "metadata": {},
   "outputs": [],
   "source": [
    "df3=pd.read_excel(latest_file, sheet_name ='Calculations Summary')"
   ]
  },
  {
   "cell_type": "code",
   "execution_count": 83,
   "metadata": {
    "scrolled": true
   },
   "outputs": [
    {
     "data": {
      "text/html": [
       "<div>\n",
       "<style scoped>\n",
       "    .dataframe tbody tr th:only-of-type {\n",
       "        vertical-align: middle;\n",
       "    }\n",
       "\n",
       "    .dataframe tbody tr th {\n",
       "        vertical-align: top;\n",
       "    }\n",
       "\n",
       "    .dataframe thead th {\n",
       "        text-align: right;\n",
       "    }\n",
       "</style>\n",
       "<table border=\"1\" class=\"dataframe\">\n",
       "  <thead>\n",
       "    <tr style=\"text-align: right;\">\n",
       "      <th></th>\n",
       "      <th>Unnamed: 0</th>\n",
       "      <th>Underdelivery Breakout</th>\n",
       "      <th>Underdelivery Amount</th>\n",
       "    </tr>\n",
       "  </thead>\n",
       "  <tbody>\n",
       "    <tr>\n",
       "      <th>0</th>\n",
       "      <td>0</td>\n",
       "      <td>Current: Active_Revenue_At_Risk</td>\n",
       "      <td>20329.40</td>\n",
       "    </tr>\n",
       "    <tr>\n",
       "      <th>1</th>\n",
       "      <td>1</td>\n",
       "      <td>Current: Active_Not_Live</td>\n",
       "      <td>86835.45</td>\n",
       "    </tr>\n",
       "    <tr>\n",
       "      <th>2</th>\n",
       "      <td>2</td>\n",
       "      <td>Current: Suspended</td>\n",
       "      <td>71891.60</td>\n",
       "    </tr>\n",
       "    <tr>\n",
       "      <th>3</th>\n",
       "      <td>3</td>\n",
       "      <td>Current: Completed</td>\n",
       "      <td>0.00</td>\n",
       "    </tr>\n",
       "    <tr>\n",
       "      <th>4</th>\n",
       "      <td>4</td>\n",
       "      <td>Current: Late Creative</td>\n",
       "      <td>14943.85</td>\n",
       "    </tr>\n",
       "  </tbody>\n",
       "</table>\n",
       "</div>"
      ],
      "text/plain": [
       "   Unnamed: 0           Underdelivery Breakout  Underdelivery Amount\n",
       "0           0  Current: Active_Revenue_At_Risk              20329.40\n",
       "1           1         Current: Active_Not_Live              86835.45\n",
       "2           2               Current: Suspended              71891.60\n",
       "3           3               Current: Completed                  0.00\n",
       "4           4           Current: Late Creative              14943.85"
      ]
     },
     "execution_count": 83,
     "metadata": {},
     "output_type": "execute_result"
    }
   ],
   "source": [
    "df3.head()"
   ]
  },
  {
   "cell_type": "code",
   "execution_count": 84,
   "metadata": {},
   "outputs": [],
   "source": [
    "#Create Calculation for the Previous Pacing Report:\n",
    "\n",
    "prev_Active_Revenue_At_Risk = df3['Underdelivery Amount'][0]\n",
    "\n",
    "prev_Active_Not_Live = df3['Underdelivery Amount'][1]\n",
    "\n",
    "prev_Suspended = df3['Underdelivery Amount'][2]\n",
    "\n",
    "prev_Completed = df3['Underdelivery Amount'][3]\n",
    "\n",
    "prev_Late_Creative = df3['Underdelivery Amount'][4]\n"
   ]
  },
  {
   "cell_type": "code",
   "execution_count": 85,
   "metadata": {},
   "outputs": [],
   "source": [
    "#Create a calculations sheet for the current report:\n",
    "\n",
    "d = {'Underdelivery Breakout': ['Current: Active_Revenue_At_Risk','Current: Active_Not_Live','Current: Suspended',\\\n",
    "                                'Current: Completed','Current: Late Creative'],'Underdelivery Amount':\\\n",
    "     [Active_Revenue_At_Risk, Not_Live, Suspended, Completed,Late_Creative_Rev_Impact]}\n",
    "df_calculations_sheet = pd.DataFrame(data = d)"
   ]
  },
  {
   "cell_type": "code",
   "execution_count": 86,
   "metadata": {},
   "outputs": [
    {
     "data": {
      "text/html": [
       "<div>\n",
       "<style scoped>\n",
       "    .dataframe tbody tr th:only-of-type {\n",
       "        vertical-align: middle;\n",
       "    }\n",
       "\n",
       "    .dataframe tbody tr th {\n",
       "        vertical-align: top;\n",
       "    }\n",
       "\n",
       "    .dataframe thead th {\n",
       "        text-align: right;\n",
       "    }\n",
       "</style>\n",
       "<table border=\"1\" class=\"dataframe\">\n",
       "  <thead>\n",
       "    <tr style=\"text-align: right;\">\n",
       "      <th></th>\n",
       "      <th>Underdelivery Breakout</th>\n",
       "      <th>Underdelivery Amount</th>\n",
       "    </tr>\n",
       "  </thead>\n",
       "  <tbody>\n",
       "    <tr>\n",
       "      <th>0</th>\n",
       "      <td>Current: Active_Revenue_At_Risk</td>\n",
       "      <td>20329.40</td>\n",
       "    </tr>\n",
       "    <tr>\n",
       "      <th>1</th>\n",
       "      <td>Current: Active_Not_Live</td>\n",
       "      <td>86835.45</td>\n",
       "    </tr>\n",
       "    <tr>\n",
       "      <th>2</th>\n",
       "      <td>Current: Suspended</td>\n",
       "      <td>71891.60</td>\n",
       "    </tr>\n",
       "    <tr>\n",
       "      <th>3</th>\n",
       "      <td>Current: Completed</td>\n",
       "      <td>0.00</td>\n",
       "    </tr>\n",
       "    <tr>\n",
       "      <th>4</th>\n",
       "      <td>Current: Late Creative</td>\n",
       "      <td>14943.85</td>\n",
       "    </tr>\n",
       "  </tbody>\n",
       "</table>\n",
       "</div>"
      ],
      "text/plain": [
       "            Underdelivery Breakout  Underdelivery Amount\n",
       "0  Current: Active_Revenue_At_Risk              20329.40\n",
       "1         Current: Active_Not_Live              86835.45\n",
       "2               Current: Suspended              71891.60\n",
       "3               Current: Completed                  0.00\n",
       "4           Current: Late Creative              14943.85"
      ]
     },
     "execution_count": 86,
     "metadata": {},
     "output_type": "execute_result"
    }
   ],
   "source": [
    "df_calculations_sheet"
   ]
  },
  {
   "cell_type": "code",
   "execution_count": 87,
   "metadata": {},
   "outputs": [
    {
     "data": {
      "text/plain": [
       "'-100%'"
      ]
     },
     "execution_count": 87,
     "metadata": {},
     "output_type": "execute_result"
    }
   ],
   "source": [
    "#Percentage Change Variable Calculations\n",
    "\n",
    "Percentage_Change_Active_Revenue_At_Risk = ((Active_Revenue_At_Risk - prev_Active_Revenue_At_Risk)-1)*100\n",
    "Percentage_Change_Active_Revenue_At_Risk_str = str((int(Percentage_Change_Active_Revenue_At_Risk))) + '%'\n",
    "Percentage_Change_Active_Revenue_At_Risk_str"
   ]
  },
  {
   "cell_type": "code",
   "execution_count": 88,
   "metadata": {},
   "outputs": [
    {
     "data": {
      "text/plain": [
       "'-100%'"
      ]
     },
     "execution_count": 88,
     "metadata": {},
     "output_type": "execute_result"
    }
   ],
   "source": [
    "Percentage_Active_Not_Live = ((Not_Live - prev_Active_Not_Live)-1)*100\n",
    "Percentage_Active_Not_Live_str = str((int(Percentage_Change_Active_Revenue_At_Risk))) + '%'\n",
    "Percentage_Active_Not_Live_str"
   ]
  },
  {
   "cell_type": "code",
   "execution_count": 89,
   "metadata": {},
   "outputs": [],
   "source": [
    "#Exporting Dataframes, Pivots, and Calculation Sheets to Excel Report\n",
    "\n",
    "writer = pd.ExcelWriter(time.strftime('Pacing_Report %m-%d-%Y.xlsx'))\n",
    "\n",
    "df.to_excel(writer,sheet_name='Pacing')\n",
    "df_pivot_advertiser.to_excel(writer,sheet_name='Advertiser Breakout')\n",
    "df2.to_excel(writer,sheet_name='Late Creative')\n",
    "late_creative_pivot_final.to_excel(writer,sheet_name='LC Pivot')\n",
    "df_calculations_sheet.to_excel(writer, sheet_name = 'Calculations Summary')\n",
    "\n",
    "\n",
    "writer.save()"
   ]
  },
  {
   "cell_type": "code",
   "execution_count": 90,
   "metadata": {},
   "outputs": [
    {
     "data": {
      "text/html": [
       "<div>\n",
       "<style scoped>\n",
       "    .dataframe tbody tr th:only-of-type {\n",
       "        vertical-align: middle;\n",
       "    }\n",
       "\n",
       "    .dataframe tbody tr th {\n",
       "        vertical-align: top;\n",
       "    }\n",
       "\n",
       "    .dataframe thead th {\n",
       "        text-align: right;\n",
       "    }\n",
       "</style>\n",
       "<table border=\"1\" class=\"dataframe\">\n",
       "  <thead>\n",
       "    <tr style=\"text-align: right;\">\n",
       "      <th></th>\n",
       "      <th>Advertiser</th>\n",
       "      <th>Current_Month_Estimated_Underdelivery_Amount</th>\n",
       "      <th>Advertiser-Current_Month_UD</th>\n",
       "    </tr>\n",
       "  </thead>\n",
       "  <tbody>\n",
       "  </tbody>\n",
       "</table>\n",
       "</div>"
      ],
      "text/plain": [
       "Empty DataFrame\n",
       "Columns: [Advertiser, Current_Month_Estimated_Underdelivery_Amount, Advertiser-Current_Month_UD]\n",
       "Index: []"
      ]
     },
     "execution_count": 90,
     "metadata": {},
     "output_type": "execute_result"
    }
   ],
   "source": [
    "#Completed List to Word Format Manipulation\n",
    "\n",
    "Completed_df = df[['Current_Month_Estimated_Underdelivery_Amount','Advertiser']].where((df['Ad_Status']=='complete')&(df['Current_Month_Estimated_Underdelivery_Amount']!=0))\n",
    "\n",
    "Completed_df = Completed_df.groupby(['Advertiser']).sum()\n",
    "\n",
    "Completed_df['Current_Month_Estimated_Underdelivery_Amount'] = Completed_df['Current_Month_Estimated_Underdelivery_Amount'].apply(lambda x: '${:,.0f}'.format(x))\n",
    "\n",
    "Completed_df = Completed_df.reset_index()\n",
    "\n",
    "Completed_df['Advertiser-Current_Month_UD'] = Completed_df['Advertiser'] +\"- \"+ Completed_df['Current_Month_Estimated_Underdelivery_Amount'].map(str)\n",
    "\n",
    "Completed_df\n"
   ]
  },
  {
   "cell_type": "code",
   "execution_count": 91,
   "metadata": {},
   "outputs": [
    {
     "name": "stdout",
     "output_type": "stream",
     "text": [
      "Completed lines are at $0 UD\n"
     ]
    }
   ],
   "source": [
    "#Completed List\n",
    "\n",
    "list_Completed = []\n",
    "\n",
    "for i in Completed_df['Advertiser-Current_Month_UD']:\n",
    "    list_Completed.append(i)\n",
    "\n",
    "if list_Completed == []:\n",
    "    print('Completed lines are at $0 UD')\n",
    "else:\n",
    "    print(list_Completed)"
   ]
  },
  {
   "cell_type": "code",
   "execution_count": 92,
   "metadata": {},
   "outputs": [
    {
     "data": {
      "text/html": [
       "<div>\n",
       "<style scoped>\n",
       "    .dataframe tbody tr th:only-of-type {\n",
       "        vertical-align: middle;\n",
       "    }\n",
       "\n",
       "    .dataframe tbody tr th {\n",
       "        vertical-align: top;\n",
       "    }\n",
       "\n",
       "    .dataframe thead th {\n",
       "        text-align: right;\n",
       "    }\n",
       "</style>\n",
       "<table border=\"1\" class=\"dataframe\">\n",
       "  <thead>\n",
       "    <tr style=\"text-align: right;\">\n",
       "      <th></th>\n",
       "      <th>Advertiser</th>\n",
       "      <th>Current_Month_Estimated_Underdelivery_Amount</th>\n",
       "      <th>Advertiser-Current_Month_UD</th>\n",
       "    </tr>\n",
       "  </thead>\n",
       "  <tbody>\n",
       "    <tr>\n",
       "      <th>0</th>\n",
       "      <td>Nature Made</td>\n",
       "      <td>$71,892</td>\n",
       "      <td>Nature Made- $71,892</td>\n",
       "    </tr>\n",
       "  </tbody>\n",
       "</table>\n",
       "</div>"
      ],
      "text/plain": [
       "    Advertiser Current_Month_Estimated_Underdelivery_Amount  \\\n",
       "0  Nature Made                                      $71,892   \n",
       "\n",
       "  Advertiser-Current_Month_UD  \n",
       "0        Nature Made- $71,892  "
      ]
     },
     "execution_count": 92,
     "metadata": {},
     "output_type": "execute_result"
    }
   ],
   "source": [
    "#Suspended List to Word Format Manipulation\n",
    "\n",
    "Suspended_df = df[['Current_Month_Estimated_Underdelivery_Amount','Advertiser']].where((df['Ad_Status']=='suspended')&(df['Current_Month_Estimated_Underdelivery_Amount']!=0))\n",
    "\n",
    "Suspended_df = Suspended_df.groupby(['Advertiser']).sum()\n",
    "\n",
    "Suspended_df['Current_Month_Estimated_Underdelivery_Amount'] = Suspended_df['Current_Month_Estimated_Underdelivery_Amount'].apply(lambda x: '${:,.0f}'.format(x))\n",
    "\n",
    "Suspended_df = Suspended_df.reset_index()\n",
    "\n",
    "Suspended_df['Advertiser-Current_Month_UD'] = Suspended_df['Advertiser'] +\"- \"+ Suspended_df['Current_Month_Estimated_Underdelivery_Amount'].map(str)\n",
    "\n",
    "Suspended_df\n",
    "\n",
    "\n",
    "\n"
   ]
  },
  {
   "cell_type": "code",
   "execution_count": 93,
   "metadata": {},
   "outputs": [
    {
     "name": "stdout",
     "output_type": "stream",
     "text": [
      "['Nature Made- $71,892']\n"
     ]
    }
   ],
   "source": [
    "#Suspended List\n",
    "\n",
    "list_Suspended = []\n",
    "\n",
    "for i in Suspended_df['Advertiser-Current_Month_UD']:\n",
    "    list_Suspended.append(i)\n",
    "\n",
    "if list_Suspended == []:\n",
    "    print('Suspended lines are at $0 UD')\n",
    "else:\n",
    "    print(list_Suspended)"
   ]
  },
  {
   "cell_type": "code",
   "execution_count": 94,
   "metadata": {},
   "outputs": [
    {
     "data": {
      "text/html": [
       "<div>\n",
       "<style scoped>\n",
       "    .dataframe tbody tr th:only-of-type {\n",
       "        vertical-align: middle;\n",
       "    }\n",
       "\n",
       "    .dataframe tbody tr th {\n",
       "        vertical-align: top;\n",
       "    }\n",
       "\n",
       "    .dataframe thead th {\n",
       "        text-align: right;\n",
       "    }\n",
       "</style>\n",
       "<table border=\"1\" class=\"dataframe\">\n",
       "  <thead>\n",
       "    <tr style=\"text-align: right;\">\n",
       "      <th></th>\n",
       "      <th>Advertiser</th>\n",
       "      <th>Current_Month_Estimated_Underdelivery_Amount</th>\n",
       "      <th>Advertiser-Current_Month_UD</th>\n",
       "    </tr>\n",
       "  </thead>\n",
       "  <tbody>\n",
       "  </tbody>\n",
       "</table>\n",
       "</div>"
      ],
      "text/plain": [
       "Empty DataFrame\n",
       "Columns: [Advertiser, Current_Month_Estimated_Underdelivery_Amount, Advertiser-Current_Month_UD]\n",
       "Index: []"
      ]
     },
     "execution_count": 94,
     "metadata": {},
     "output_type": "execute_result"
    }
   ],
   "source": [
    "#WFX List to Word Format Manipulation\n",
    "df1 = df[~df['Product_Name'].str.contains('Preroll', na = False)]\\\n",
    "                              [df['Ad_Type'].str.contains('STANDARD|HOUSE|AD_EXCHANGE', na = False)]\\\n",
    "                              .where((df['Ad_Status']=='active')&(df['Product_Category']=='WEATHRFX')&(df['Current_Month_Estimated_Underdelivery_Amount']!=0))\n",
    "\n",
    "\n",
    "WFX_df = df1[['Current_Month_Estimated_Underdelivery_Amount','Advertiser']]\n",
    "\n",
    "WFX_df = WFX_df.groupby(['Advertiser']).sum()\n",
    "\n",
    "WFX_df['Current_Month_Estimated_Underdelivery_Amount'] = WFX_df['Current_Month_Estimated_Underdelivery_Amount'].apply(lambda x: '${:,.0f}'.format(x))\n",
    "\n",
    "WFX_df = WFX_df.reset_index()\n",
    "\n",
    "WFX_df['Advertiser-Current_Month_UD'] = WFX_df['Advertiser'] +\"- \"+ WFX_df['Current_Month_Estimated_Underdelivery_Amount'].map(str)\n",
    "\n",
    "\n",
    "WFX_df"
   ]
  },
  {
   "cell_type": "code",
   "execution_count": 95,
   "metadata": {},
   "outputs": [
    {
     "name": "stdout",
     "output_type": "stream",
     "text": [
      "WFX lines are at $0 UD\n"
     ]
    }
   ],
   "source": [
    "#WFX List\n",
    "\n",
    "list_WFX = []\n",
    "\n",
    "for i in WFX_df['Advertiser-Current_Month_UD']:\n",
    "    list_WFX.append(i)\n",
    "\n",
    "if list_WFX == []:\n",
    "    print('WFX lines are at $0 UD')\n",
    "else:\n",
    "    print(list_WFX)"
   ]
  },
  {
   "cell_type": "code",
   "execution_count": 96,
   "metadata": {},
   "outputs": [
    {
     "data": {
      "text/html": [
       "<div>\n",
       "<style scoped>\n",
       "    .dataframe tbody tr th:only-of-type {\n",
       "        vertical-align: middle;\n",
       "    }\n",
       "\n",
       "    .dataframe tbody tr th {\n",
       "        vertical-align: top;\n",
       "    }\n",
       "\n",
       "    .dataframe thead th {\n",
       "        text-align: right;\n",
       "    }\n",
       "</style>\n",
       "<table border=\"1\" class=\"dataframe\">\n",
       "  <thead>\n",
       "    <tr style=\"text-align: right;\">\n",
       "      <th></th>\n",
       "      <th>Advertiser</th>\n",
       "      <th>Current_Month_Estimated_Underdelivery_Amount</th>\n",
       "      <th>Advertiser-Current_Month_UD</th>\n",
       "    </tr>\n",
       "  </thead>\n",
       "  <tbody>\n",
       "    <tr>\n",
       "      <th>0</th>\n",
       "      <td>Novartis</td>\n",
       "      <td>$387</td>\n",
       "      <td>Novartis- $387</td>\n",
       "    </tr>\n",
       "  </tbody>\n",
       "</table>\n",
       "</div>"
      ],
      "text/plain": [
       "  Advertiser Current_Month_Estimated_Underdelivery_Amount  \\\n",
       "0   Novartis                                         $387   \n",
       "\n",
       "  Advertiser-Current_Month_UD  \n",
       "0              Novartis- $387  "
      ]
     },
     "execution_count": 96,
     "metadata": {},
     "output_type": "execute_result"
    }
   ],
   "source": [
    "#AFX List to Word Format Manipulation\n",
    "df2 = df[~df['Product_Name'].str.contains('Preroll', na = False)]\\\n",
    "                              [df['Ad_Type'].str.contains('STANDARD|HOUSE|AD_EXCHANGE', na = False)]\\\n",
    "                              .where((df['Ad_Status']=='active')&(df['Product_Category']=='AUDIENCEFX')&(df['Current_Month_Estimated_Underdelivery_Amount']!=0))\n",
    "\n",
    "\n",
    "AFX_df = df2[['Current_Month_Estimated_Underdelivery_Amount','Advertiser']]\n",
    "\n",
    "AFX_df = AFX_df.groupby(['Advertiser']).sum()\n",
    "\n",
    "AFX_df['Current_Month_Estimated_Underdelivery_Amount'] = AFX_df['Current_Month_Estimated_Underdelivery_Amount'].apply(lambda x: '${:,.0f}'.format(x))\n",
    "\n",
    "AFX_df = AFX_df.reset_index()\n",
    "\n",
    "AFX_df['Advertiser-Current_Month_UD'] = AFX_df['Advertiser'] +\"- \"+ AFX_df['Current_Month_Estimated_Underdelivery_Amount'].map(str)\n",
    "\n",
    "\n",
    "AFX_df"
   ]
  },
  {
   "cell_type": "code",
   "execution_count": 97,
   "metadata": {},
   "outputs": [
    {
     "name": "stdout",
     "output_type": "stream",
     "text": [
      "['Novartis- $387']\n"
     ]
    }
   ],
   "source": [
    "#AFX List\n",
    "\n",
    "list_AFX = []\n",
    "\n",
    "for i in AFX_df['Advertiser-Current_Month_UD']:\n",
    "    list_AFX.append(i)\n",
    "\n",
    "if list_AFX == []:\n",
    "    print('WFX lines are at $0 UD')\n",
    "else:\n",
    "    print(list_AFX)"
   ]
  },
  {
   "cell_type": "code",
   "execution_count": 98,
   "metadata": {},
   "outputs": [
    {
     "data": {
      "text/html": [
       "<div>\n",
       "<style scoped>\n",
       "    .dataframe tbody tr th:only-of-type {\n",
       "        vertical-align: middle;\n",
       "    }\n",
       "\n",
       "    .dataframe tbody tr th {\n",
       "        vertical-align: top;\n",
       "    }\n",
       "\n",
       "    .dataframe thead th {\n",
       "        text-align: right;\n",
       "    }\n",
       "</style>\n",
       "<table border=\"1\" class=\"dataframe\">\n",
       "  <thead>\n",
       "    <tr style=\"text-align: right;\">\n",
       "      <th></th>\n",
       "      <th>Advertiser</th>\n",
       "      <th>Current_Month_Estimated_Underdelivery_Amount</th>\n",
       "      <th>Advertiser-Current_Month_UD</th>\n",
       "    </tr>\n",
       "  </thead>\n",
       "  <tbody>\n",
       "  </tbody>\n",
       "</table>\n",
       "</div>"
      ],
      "text/plain": [
       "Empty DataFrame\n",
       "Columns: [Advertiser, Current_Month_Estimated_Underdelivery_Amount, Advertiser-Current_Month_UD]\n",
       "Index: []"
      ]
     },
     "execution_count": 98,
     "metadata": {},
     "output_type": "execute_result"
    }
   ],
   "source": [
    "#JFX List to Word Format Manipulation\n",
    "df3 = df[~df['Product_Name'].str.contains('Preroll', na = False)]\\\n",
    "                              [df['Ad_Type'].str.contains('STANDARD|HOUSE|AD_EXCHANGE', na = False)]\\\n",
    "                              .where((df['Ad_Status']=='active')&(df['Product_Category']=='JFX')&(df['Current_Month_Estimated_Underdelivery_Amount']!=0))\n",
    "\n",
    "\n",
    "JFX_df = df3[['Current_Month_Estimated_Underdelivery_Amount','Advertiser']]\n",
    "\n",
    "JFX_df = JFX_df.groupby(['Advertiser']).sum()\n",
    "\n",
    "JFX_df['Current_Month_Estimated_Underdelivery_Amount'] = JFX_df['Current_Month_Estimated_Underdelivery_Amount'].apply(lambda x: '${:,.0f}'.format(x))\n",
    "\n",
    "JFX_df = JFX_df.reset_index()\n",
    "\n",
    "JFX_df['Advertiser-Current_Month_UD'] = JFX_df['Advertiser'] +\"- \"+ JFX_df['Current_Month_Estimated_Underdelivery_Amount'].map(str)\n",
    "\n",
    "\n",
    "JFX_df"
   ]
  },
  {
   "cell_type": "code",
   "execution_count": 99,
   "metadata": {},
   "outputs": [
    {
     "name": "stdout",
     "output_type": "stream",
     "text": [
      "JFX lines are at $0 UD\n"
     ]
    }
   ],
   "source": [
    "#JFX List\n",
    "\n",
    "list_JFX = []\n",
    "\n",
    "for i in JFX_df['Advertiser-Current_Month_UD']:\n",
    "    list_JFX.append(i)\n",
    "\n",
    "if list_JFX == []:\n",
    "    print('JFX lines are at $0 UD')\n",
    "else:\n",
    "    print(list_JFX)"
   ]
  },
  {
   "cell_type": "code",
   "execution_count": 100,
   "metadata": {},
   "outputs": [
    {
     "name": "stderr",
     "output_type": "stream",
     "text": [
      "/anaconda3/lib/python3.7/site-packages/ipykernel_launcher.py:4: UserWarning: Boolean Series key will be reindexed to match DataFrame index.\n",
      "  after removing the cwd from sys.path.\n"
     ]
    },
    {
     "data": {
      "text/html": [
       "<div>\n",
       "<style scoped>\n",
       "    .dataframe tbody tr th:only-of-type {\n",
       "        vertical-align: middle;\n",
       "    }\n",
       "\n",
       "    .dataframe tbody tr th {\n",
       "        vertical-align: top;\n",
       "    }\n",
       "\n",
       "    .dataframe thead th {\n",
       "        text-align: right;\n",
       "    }\n",
       "</style>\n",
       "<table border=\"1\" class=\"dataframe\">\n",
       "  <thead>\n",
       "    <tr style=\"text-align: right;\">\n",
       "      <th></th>\n",
       "      <th>Advertiser</th>\n",
       "      <th>Current_Month_Estimated_Underdelivery_Amount</th>\n",
       "      <th>Advertiser-Current_Month_UD</th>\n",
       "    </tr>\n",
       "  </thead>\n",
       "  <tbody>\n",
       "  </tbody>\n",
       "</table>\n",
       "</div>"
      ],
      "text/plain": [
       "Empty DataFrame\n",
       "Columns: [Advertiser, Current_Month_Estimated_Underdelivery_Amount, Advertiser-Current_Month_UD]\n",
       "Index: []"
      ]
     },
     "execution_count": 100,
     "metadata": {},
     "output_type": "execute_result"
    }
   ],
   "source": [
    "#Preroll List to Word Format Manipulation\n",
    "\n",
    "df4 = df[df['Product_Name'].str.contains('Preroll', na = False)]\\\n",
    "                              [df['Ad_Type'].str.contains('STANDARD|HOUSE|AD_EXCHANGE', na = False)]\\\n",
    "                              .where((df['Ad_Status']=='active')&(df['Current_Month_Estimated_Underdelivery_Amount']!=0))\n",
    "\n",
    "\n",
    "Preroll_df = df4[['Current_Month_Estimated_Underdelivery_Amount','Advertiser']]\n",
    "\n",
    "Preroll_df = Preroll_df.groupby(['Advertiser']).sum()\n",
    "\n",
    "Preroll_df['Current_Month_Estimated_Underdelivery_Amount'] = Preroll_df['Current_Month_Estimated_Underdelivery_Amount'].apply(lambda x: '${:,.0f}'.format(x))\n",
    "\n",
    "Preroll_df = Preroll_df.reset_index()\n",
    "\n",
    "Preroll_df['Advertiser-Current_Month_UD'] = Preroll_df['Advertiser'] +\"- \"+ Preroll_df['Current_Month_Estimated_Underdelivery_Amount'].map(str)\n",
    "\n",
    "\n",
    "Preroll_df\n",
    "\n"
   ]
  },
  {
   "cell_type": "code",
   "execution_count": 101,
   "metadata": {},
   "outputs": [
    {
     "name": "stdout",
     "output_type": "stream",
     "text": [
      "Preroll lines are at $0 UD\n"
     ]
    }
   ],
   "source": [
    "#Preroll List\n",
    "\n",
    "list_Preroll = []\n",
    "\n",
    "for i in Preroll_df['Advertiser-Current_Month_UD']:\n",
    "    list_Preroll.append(i)\n",
    "\n",
    "if list_Preroll == []:\n",
    "    print('Preroll lines are at $0 UD')\n",
    "else:\n",
    "    print(list_Preroll)"
   ]
  },
  {
   "cell_type": "code",
   "execution_count": 102,
   "metadata": {},
   "outputs": [
    {
     "data": {
      "text/html": [
       "<div>\n",
       "<style scoped>\n",
       "    .dataframe tbody tr th:only-of-type {\n",
       "        vertical-align: middle;\n",
       "    }\n",
       "\n",
       "    .dataframe tbody tr th {\n",
       "        vertical-align: top;\n",
       "    }\n",
       "\n",
       "    .dataframe thead th {\n",
       "        text-align: right;\n",
       "    }\n",
       "</style>\n",
       "<table border=\"1\" class=\"dataframe\">\n",
       "  <thead>\n",
       "    <tr style=\"text-align: right;\">\n",
       "      <th></th>\n",
       "      <th>Advertiser</th>\n",
       "      <th>Current_Month_Estimated_Underdelivery_Amount</th>\n",
       "      <th>Advertiser-Current_Month_UD</th>\n",
       "    </tr>\n",
       "  </thead>\n",
       "  <tbody>\n",
       "  </tbody>\n",
       "</table>\n",
       "</div>"
      ],
      "text/plain": [
       "Empty DataFrame\n",
       "Columns: [Advertiser, Current_Month_Estimated_Underdelivery_Amount, Advertiser-Current_Month_UD]\n",
       "Index: []"
      ]
     },
     "execution_count": 102,
     "metadata": {},
     "output_type": "execute_result"
    }
   ],
   "source": [
    "#Sponsorship List to Word Format Manipulation\n",
    "\n",
    "df5 = df.where((df['Ad_Status']=='active')&(df['Ad_Type']=='SPONSORSHIP')&(df['Current_Month_Estimated_Underdelivery_Amount']!=0))\n",
    "\n",
    "\n",
    "Spon_df = df5[['Current_Month_Estimated_Underdelivery_Amount','Advertiser']]\n",
    "\n",
    "Spon_df = Spon_df.groupby(['Advertiser']).sum()\n",
    "\n",
    "Spon_df['Current_Month_Estimated_Underdelivery_Amount'] = Spon_df['Current_Month_Estimated_Underdelivery_Amount'].apply(lambda x: '${:,.0f}'.format(x))\n",
    "\n",
    "Spon_df = Spon_df.reset_index()\n",
    "\n",
    "Spon_df['Advertiser-Current_Month_UD'] = Spon_df['Advertiser'] +\"- \"+ Spon_df['Current_Month_Estimated_Underdelivery_Amount'].map(str)\n",
    "\n",
    "\n",
    "Spon_df"
   ]
  },
  {
   "cell_type": "code",
   "execution_count": 103,
   "metadata": {},
   "outputs": [
    {
     "name": "stdout",
     "output_type": "stream",
     "text": [
      "Sponsorship lines are at $0 UD\n"
     ]
    }
   ],
   "source": [
    "#Sponsorship List\n",
    "\n",
    "list_Spon = []\n",
    "\n",
    "for i in Spon_df['Advertiser-Current_Month_UD']:\n",
    "    list_Spon.append(i)\n",
    "\n",
    "if list_Spon == []:\n",
    "    print('Sponsorship lines are at $0 UD')\n",
    "else:\n",
    "    print(list_Spon)"
   ]
  },
  {
   "cell_type": "code",
   "execution_count": 104,
   "metadata": {},
   "outputs": [],
   "source": [
    "#Exporting Data to Word Doc"
   ]
  },
  {
   "cell_type": "code",
   "execution_count": 105,
   "metadata": {},
   "outputs": [],
   "source": [
    "doc = docx.Document()\n",
    "\n",
    "paraObject = doc.add_paragraph(current_month_year_text + \" Revenue at Risk (Under-Delivery+Late Creative) \" + Total_Underdelivery_str)\n",
    "\n",
    "doc.add_paragraph(\"Active (Live) - \" + Active_Revenue_At_Risk_str + \" (\" + Percentage_Change_Active_Revenue_At_Risk_str + \")\")\n",
    "\n",
    "doc.add_paragraph('         *Active under-delivering campaigns')\n",
    "\n",
    "doc.save('Pacing Report Word.docx')"
   ]
  },
  {
   "cell_type": "code",
   "execution_count": 106,
   "metadata": {},
   "outputs": [],
   "source": [
    "#All Formatted Lines\n",
    "line1 = current_month_year_text + \" Revenue at Risk (Under-Delivery+Late Creative) \" + Total_Underdelivery_str\n",
    "line2 = \"Active (Live) - \" + Active_Revenue_At_Risk_str + \" (\" + Percentage_Change_Active_Revenue_At_Risk_str + \")\"\n",
    "line3 = \"Not Live - \" + Not_Live_str + \" (\" + Percentage_Active_Not_Live_str + \")\"\n",
    " \n",
    "#Doc Object\n",
    "\n",
    "doc = docx.Document()\n",
    "\n",
    "#Line 1 Formatted Bold\n",
    "p = doc.add_paragraph()\n",
    "\n",
    "runner = p.add_run(line1)\n",
    "runner.bold = True\n",
    "\n",
    "#Extra Space\n",
    "doc.add_paragraph()\n",
    "\n",
    "#Line 2 Formatted Bold\n",
    "p1 = doc.add_paragraph()\n",
    "\n",
    "runner2 = p1.add_run(line2)\n",
    "runner2.bold = True\n",
    "\n",
    "#Line 3\n",
    "doc.add_paragraph('         * Active under-delivering campaigns')\n",
    "\n",
    "#Line 4 Formatted Bold\n",
    "p2 = doc.add_paragraph()\n",
    "\n",
    "runner3 = p2.add_run(line3)\n",
    "runner3.bold = True\n",
    "\n",
    "#Line 5  \n",
    "doc.add_paragraph('         * Suspended- ' + Suspended_str)\n",
    "\n",
    "#Line 6\n",
    "doc.add_paragraph('         * Completed- ' + Completed_str)\n",
    "\n",
    "#Line 7\n",
    "doc.add_paragraph('         * Late Creative- ' + Late_Creative_Rev_Impact_str)\n",
    "\n",
    "\n",
    "\n",
    "doc.save(time.strftime('Pacing Report Word %m-%d-%Y.docx'))"
   ]
  },
  {
   "cell_type": "code",
   "execution_count": 107,
   "metadata": {},
   "outputs": [],
   "source": [
    "#Report Email Section"
   ]
  },
  {
   "cell_type": "code",
   "execution_count": 108,
   "metadata": {},
   "outputs": [],
   "source": [
    "#Creating Email Variables\n",
    "email_user = 'Insert_Email_Here@gmail.com'\n",
    "email_password = 'Enter_Password_Here'\n",
    "email_send_to = 'Enter_Recipient_Email_Addresses_Here'\n",
    "email_subject = time.strftime('Pacing_Report Materials %m-%d-%Y')"
   ]
  },
  {
   "cell_type": "code",
   "execution_count": 112,
   "metadata": {},
   "outputs": [],
   "source": [
    "#Email Object and Details"
   ]
  },
  {
   "cell_type": "code",
   "execution_count": 113,
   "metadata": {},
   "outputs": [],
   "source": [
    "msg = MIMEMultipart()"
   ]
  },
  {
   "cell_type": "code",
   "execution_count": 114,
   "metadata": {},
   "outputs": [],
   "source": [
    "msg['From'] = email_user"
   ]
  },
  {
   "cell_type": "code",
   "execution_count": 115,
   "metadata": {},
   "outputs": [],
   "source": [
    "msg['To'] = email_send_to"
   ]
  },
  {
   "cell_type": "code",
   "execution_count": 116,
   "metadata": {},
   "outputs": [],
   "source": [
    "msg['Subject'] = email_subject"
   ]
  },
  {
   "cell_type": "code",
   "execution_count": 117,
   "metadata": {},
   "outputs": [],
   "source": [
    "#Email Body > Attach body to Message Object "
   ]
  },
  {
   "cell_type": "code",
   "execution_count": 118,
   "metadata": {},
   "outputs": [],
   "source": [
    "body = 'Please see the attaced pacing materials below. Have a great day!'"
   ]
  },
  {
   "cell_type": "code",
   "execution_count": 119,
   "metadata": {},
   "outputs": [],
   "source": [
    "msg.attach(MIMEText(body,'plain'))"
   ]
  },
  {
   "cell_type": "code",
   "execution_count": 121,
   "metadata": {},
   "outputs": [],
   "source": [
    "#File Attachment Document variables, octet-streams and base64 encoding"
   ]
  },
  {
   "cell_type": "code",
   "execution_count": 122,
   "metadata": {},
   "outputs": [],
   "source": [
    "filename1 = time.strftime('Pacing Report Word %m-%d-%Y.docx')"
   ]
  },
  {
   "cell_type": "code",
   "execution_count": 123,
   "metadata": {},
   "outputs": [],
   "source": [
    "filename2 = time.strftime('Pacing_Report %m-%d-%Y.xlsx')"
   ]
  },
  {
   "cell_type": "code",
   "execution_count": 124,
   "metadata": {},
   "outputs": [],
   "source": [
    "attachment1 = open(filename1, 'rb')"
   ]
  },
  {
   "cell_type": "code",
   "execution_count": 125,
   "metadata": {},
   "outputs": [],
   "source": [
    "attachment2 = open(filename2, 'rb')"
   ]
  },
  {
   "cell_type": "code",
   "execution_count": 127,
   "metadata": {},
   "outputs": [],
   "source": [
    "part1 = MIMEBase('application','octet-stream')"
   ]
  },
  {
   "cell_type": "code",
   "execution_count": 128,
   "metadata": {},
   "outputs": [],
   "source": [
    "part2 = MIMEBase('application','octet-stream')"
   ]
  },
  {
   "cell_type": "code",
   "execution_count": 129,
   "metadata": {},
   "outputs": [],
   "source": [
    "part1.set_payload((attachment1).read())"
   ]
  },
  {
   "cell_type": "code",
   "execution_count": 130,
   "metadata": {},
   "outputs": [],
   "source": [
    "part2.set_payload((attachment2).read())"
   ]
  },
  {
   "cell_type": "code",
   "execution_count": 131,
   "metadata": {},
   "outputs": [],
   "source": [
    "encoders.encode_base64(part1)"
   ]
  },
  {
   "cell_type": "code",
   "execution_count": 132,
   "metadata": {},
   "outputs": [],
   "source": [
    "encoders.encode_base64(part2)"
   ]
  },
  {
   "cell_type": "code",
   "execution_count": 133,
   "metadata": {},
   "outputs": [],
   "source": [
    "part1.add_header('Content-Disposition', \"attachment; filename= \" + filename1)"
   ]
  },
  {
   "cell_type": "code",
   "execution_count": 134,
   "metadata": {},
   "outputs": [],
   "source": [
    "part2.add_header('Content-Disposition', \"attachment; filename= \" + filename2)"
   ]
  },
  {
   "cell_type": "code",
   "execution_count": 135,
   "metadata": {},
   "outputs": [],
   "source": [
    "#Converting all of the Message as plain text"
   ]
  },
  {
   "cell_type": "code",
   "execution_count": 136,
   "metadata": {},
   "outputs": [],
   "source": [
    "msg.attach(part1)"
   ]
  },
  {
   "cell_type": "code",
   "execution_count": 137,
   "metadata": {},
   "outputs": [],
   "source": [
    "msg.attach(part2)"
   ]
  },
  {
   "cell_type": "code",
   "execution_count": 138,
   "metadata": {},
   "outputs": [],
   "source": [
    "text = msg.as_string()"
   ]
  },
  {
   "cell_type": "code",
   "execution_count": 139,
   "metadata": {},
   "outputs": [],
   "source": [
    "#Establishing SMTP Connection and tls encryption"
   ]
  },
  {
   "cell_type": "code",
   "execution_count": 140,
   "metadata": {},
   "outputs": [
    {
     "data": {
      "text/plain": [
       "smtplib.SMTP"
      ]
     },
     "execution_count": 140,
     "metadata": {},
     "output_type": "execute_result"
    }
   ],
   "source": [
    "conn = smtplib.SMTP('smtp.gmail.com',587)\n",
    "type(conn)"
   ]
  },
  {
   "cell_type": "code",
   "execution_count": 141,
   "metadata": {},
   "outputs": [
    {
     "data": {
      "text/plain": [
       "<smtplib.SMTP at 0x110836518>"
      ]
     },
     "execution_count": 141,
     "metadata": {},
     "output_type": "execute_result"
    }
   ],
   "source": [
    "conn"
   ]
  },
  {
   "cell_type": "code",
   "execution_count": 142,
   "metadata": {},
   "outputs": [
    {
     "data": {
      "text/plain": [
       "(250,\n",
       " b'smtp.gmail.com at your service, [129.41.87.3]\\nSIZE 35882577\\n8BITMIME\\nSTARTTLS\\nENHANCEDSTATUSCODES\\nPIPELINING\\nCHUNKING\\nSMTPUTF8')"
      ]
     },
     "execution_count": 142,
     "metadata": {},
     "output_type": "execute_result"
    }
   ],
   "source": [
    "conn.ehlo()"
   ]
  },
  {
   "cell_type": "code",
   "execution_count": 143,
   "metadata": {},
   "outputs": [
    {
     "data": {
      "text/plain": [
       "(220, b'2.0.0 Ready to start TLS')"
      ]
     },
     "execution_count": 143,
     "metadata": {},
     "output_type": "execute_result"
    }
   ],
   "source": [
    "conn.starttls()"
   ]
  },
  {
   "cell_type": "code",
   "execution_count": 144,
   "metadata": {},
   "outputs": [
    {
     "data": {
      "text/plain": [
       "(235, b'2.7.0 Accepted')"
      ]
     },
     "execution_count": 144,
     "metadata": {},
     "output_type": "execute_result"
    }
   ],
   "source": [
    "conn.login(email_user, email_password)"
   ]
  },
  {
   "cell_type": "code",
   "execution_count": 145,
   "metadata": {},
   "outputs": [
    {
     "data": {
      "text/plain": [
       "{}"
      ]
     },
     "execution_count": 145,
     "metadata": {},
     "output_type": "execute_result"
    }
   ],
   "source": [
    "conn.sendmail(email_user,email_send_to, text)"
   ]
  },
  {
   "cell_type": "code",
   "execution_count": 146,
   "metadata": {},
   "outputs": [
    {
     "data": {
      "text/plain": [
       "(221, b'2.0.0 closing connection e17sm7424875qkn.61 - gsmtp')"
      ]
     },
     "execution_count": 146,
     "metadata": {},
     "output_type": "execute_result"
    }
   ],
   "source": [
    "conn.quit()"
   ]
  },
  {
   "cell_type": "code",
   "execution_count": 147,
   "metadata": {},
   "outputs": [],
   "source": [
    "###Google Sheets API Connection for AE Update Notes on Campaign Delivery###"
   ]
  },
  {
   "cell_type": "code",
   "execution_count": 151,
   "metadata": {},
   "outputs": [],
   "source": [
    "os.chdir('/Users/Jeffrey.Lu@ibm.com/Desktop')"
   ]
  },
  {
   "cell_type": "code",
   "execution_count": 152,
   "metadata": {},
   "outputs": [],
   "source": [
    "scope = ['https://spreadsheets.google.com/feeds', 'https://www.googleapis.com/auth/drive']"
   ]
  },
  {
   "cell_type": "code",
   "execution_count": 153,
   "metadata": {},
   "outputs": [],
   "source": [
    "creds = ServiceAccountCredentials.from_json_keyfile_name('client_credentials.json', scope)"
   ]
  },
  {
   "cell_type": "code",
   "execution_count": 154,
   "metadata": {},
   "outputs": [],
   "source": [
    "client = gspread.authorize(creds)"
   ]
  },
  {
   "cell_type": "code",
   "execution_count": null,
   "metadata": {},
   "outputs": [],
   "source": [
    "# Opening up the Google Sheets Doc and inserting new sheet"
   ]
  },
  {
   "cell_type": "code",
   "execution_count": 221,
   "metadata": {},
   "outputs": [],
   "source": [
    "sheet = client.open('Late Creative Doc')"
   ]
  },
  {
   "cell_type": "code",
   "execution_count": 222,
   "metadata": {},
   "outputs": [
    {
     "data": {
      "text/plain": [
       "<Worksheet 'Late Creative 09-09-2019' id:156112629>"
      ]
     },
     "execution_count": 222,
     "metadata": {},
     "output_type": "execute_result"
    }
   ],
   "source": [
    "sheet.add_worksheet(title= time.strftime('Late Creative %m-%d-%Y'), rows=\"100\", cols=\"20\") "
   ]
  },
  {
   "cell_type": "code",
   "execution_count": 225,
   "metadata": {},
   "outputs": [],
   "source": [
    "wks = sheet.worksheet(time.strftime('Late Creative %m-%d-%Y'))"
   ]
  },
  {
   "cell_type": "code",
   "execution_count": null,
   "metadata": {},
   "outputs": [],
   "source": [
    "#Google sheets doesn't have insert column command so we need the pivot data laid out as rows, thus the list variables below"
   ]
  },
  {
   "cell_type": "code",
   "execution_count": 188,
   "metadata": {},
   "outputs": [],
   "source": [
    "late_creative_pivot_final_ae = list(late_creative_pivot_final['Account_Executive'])"
   ]
  },
  {
   "cell_type": "code",
   "execution_count": 189,
   "metadata": {},
   "outputs": [],
   "source": [
    "late_creative_pivot_final_adv= list(late_creative_pivot_final['Advertiser'])"
   ]
  },
  {
   "cell_type": "code",
   "execution_count": 190,
   "metadata": {},
   "outputs": [],
   "source": [
    "late_creative_pivot_final_name= list(late_creative_pivot_final['Name'])"
   ]
  },
  {
   "cell_type": "code",
   "execution_count": 235,
   "metadata": {},
   "outputs": [],
   "source": [
    "late_creative_pivot_final_pend = list(late_creative_pivot_final['Pending '+ current_month_text +\" Revenue\"])"
   ]
  },
  {
   "cell_type": "code",
   "execution_count": 192,
   "metadata": {},
   "outputs": [],
   "source": [
    "late_creative_pivot_final_imp = list(late_creative_pivot_final['Est. Revenue Impact'])"
   ]
  },
  {
   "cell_type": "code",
   "execution_count": 193,
   "metadata": {},
   "outputs": [],
   "source": [
    "late_creative_pivot_final_headers = ['Account_Executive','Advertiser','Name','Pending September Revenue', 'Est. Revenue Impact', 'Notes']"
   ]
  },
  {
   "cell_type": "code",
   "execution_count": 194,
   "metadata": {},
   "outputs": [
    {
     "data": {
      "text/html": [
       "<div>\n",
       "<style scoped>\n",
       "    .dataframe tbody tr th:only-of-type {\n",
       "        vertical-align: middle;\n",
       "    }\n",
       "\n",
       "    .dataframe tbody tr th {\n",
       "        vertical-align: top;\n",
       "    }\n",
       "\n",
       "    .dataframe thead th {\n",
       "        text-align: right;\n",
       "    }\n",
       "</style>\n",
       "<table border=\"1\" class=\"dataframe\">\n",
       "  <thead>\n",
       "    <tr style=\"text-align: right;\">\n",
       "      <th></th>\n",
       "      <th>Account_Executive</th>\n",
       "      <th>Advertiser</th>\n",
       "      <th>Name</th>\n",
       "      <th>Pending September Revenue</th>\n",
       "      <th>Est. Revenue Impact</th>\n",
       "      <th>Notes</th>\n",
       "    </tr>\n",
       "  </thead>\n",
       "  <tbody>\n",
       "    <tr>\n",
       "      <th>0</th>\n",
       "      <td>Caitlin Jennings</td>\n",
       "      <td>Universal Orlando</td>\n",
       "      <td>1</td>\n",
       "      <td>$2,677.28</td>\n",
       "      <td>$8,845.11</td>\n",
       "      <td></td>\n",
       "    </tr>\n",
       "    <tr>\n",
       "      <th>1</th>\n",
       "      <td>Caitlin Jennings SubTotal</td>\n",
       "      <td></td>\n",
       "      <td>1</td>\n",
       "      <td>$2,677.28</td>\n",
       "      <td>$8,845.11</td>\n",
       "      <td></td>\n",
       "    </tr>\n",
       "    <tr>\n",
       "      <th>2</th>\n",
       "      <td>Julia Duffy</td>\n",
       "      <td>McDonald's</td>\n",
       "      <td>2</td>\n",
       "      <td>$0.00</td>\n",
       "      <td>$0.02</td>\n",
       "      <td></td>\n",
       "    </tr>\n",
       "    <tr>\n",
       "      <th>3</th>\n",
       "      <td>Julia Duffy SubTotal</td>\n",
       "      <td></td>\n",
       "      <td>2</td>\n",
       "      <td>$0.00</td>\n",
       "      <td>$0.02</td>\n",
       "      <td></td>\n",
       "    </tr>\n",
       "    <tr>\n",
       "      <th>4</th>\n",
       "      <td>Matthew Daly</td>\n",
       "      <td>Verizon Communications, Inc</td>\n",
       "      <td>26</td>\n",
       "      <td>$11,787.63</td>\n",
       "      <td>$50,699.44</td>\n",
       "      <td></td>\n",
       "    </tr>\n",
       "    <tr>\n",
       "      <th>5</th>\n",
       "      <td>Matthew Daly SubTotal</td>\n",
       "      <td></td>\n",
       "      <td>26</td>\n",
       "      <td>$11,787.63</td>\n",
       "      <td>$50,699.44</td>\n",
       "      <td></td>\n",
       "    </tr>\n",
       "    <tr>\n",
       "      <th>6</th>\n",
       "      <td>Michael Szymanski</td>\n",
       "      <td>Novartis</td>\n",
       "      <td>2</td>\n",
       "      <td>$5.42</td>\n",
       "      <td>$242.36</td>\n",
       "      <td></td>\n",
       "    </tr>\n",
       "    <tr>\n",
       "      <th>7</th>\n",
       "      <td>Michael Szymanski SubTotal</td>\n",
       "      <td></td>\n",
       "      <td>2</td>\n",
       "      <td>$5.42</td>\n",
       "      <td>$242.36</td>\n",
       "      <td></td>\n",
       "    </tr>\n",
       "    <tr>\n",
       "      <th>8</th>\n",
       "      <td>Patrick Gipson</td>\n",
       "      <td>Abbott Laboratories</td>\n",
       "      <td>9</td>\n",
       "      <td>$0.00</td>\n",
       "      <td>$0.09</td>\n",
       "      <td></td>\n",
       "    </tr>\n",
       "    <tr>\n",
       "      <th>9</th>\n",
       "      <td>Patrick Gipson</td>\n",
       "      <td>Eli Lilly and Company</td>\n",
       "      <td>4</td>\n",
       "      <td>$473.52</td>\n",
       "      <td>$10,850.00</td>\n",
       "      <td></td>\n",
       "    </tr>\n",
       "    <tr>\n",
       "      <th>10</th>\n",
       "      <td>Patrick Gipson SubTotal</td>\n",
       "      <td></td>\n",
       "      <td>13</td>\n",
       "      <td>$473.52</td>\n",
       "      <td>$10,850.09</td>\n",
       "      <td></td>\n",
       "    </tr>\n",
       "    <tr>\n",
       "      <th>11</th>\n",
       "      <td>Total</td>\n",
       "      <td></td>\n",
       "      <td>88</td>\n",
       "      <td>$29,887.70</td>\n",
       "      <td>$141,274.04</td>\n",
       "      <td></td>\n",
       "    </tr>\n",
       "  </tbody>\n",
       "</table>\n",
       "</div>"
      ],
      "text/plain": [
       "             Account_Executive                   Advertiser Name  \\\n",
       "0             Caitlin Jennings            Universal Orlando    1   \n",
       "1    Caitlin Jennings SubTotal                                 1   \n",
       "2                  Julia Duffy                   McDonald's    2   \n",
       "3         Julia Duffy SubTotal                                 2   \n",
       "4                 Matthew Daly  Verizon Communications, Inc   26   \n",
       "5        Matthew Daly SubTotal                                26   \n",
       "6            Michael Szymanski                     Novartis    2   \n",
       "7   Michael Szymanski SubTotal                                 2   \n",
       "8               Patrick Gipson          Abbott Laboratories    9   \n",
       "9               Patrick Gipson        Eli Lilly and Company    4   \n",
       "10     Patrick Gipson SubTotal                                13   \n",
       "11                       Total                                88   \n",
       "\n",
       "   Pending September Revenue Est. Revenue Impact Notes  \n",
       "0                  $2,677.28           $8,845.11        \n",
       "1                  $2,677.28           $8,845.11        \n",
       "2                      $0.00               $0.02        \n",
       "3                      $0.00               $0.02        \n",
       "4                 $11,787.63          $50,699.44        \n",
       "5                 $11,787.63          $50,699.44        \n",
       "6                      $5.42             $242.36        \n",
       "7                      $5.42             $242.36        \n",
       "8                      $0.00               $0.09        \n",
       "9                    $473.52          $10,850.00        \n",
       "10                   $473.52          $10,850.09        \n",
       "11                $29,887.70         $141,274.04        "
      ]
     },
     "execution_count": 194,
     "metadata": {},
     "output_type": "execute_result"
    }
   ],
   "source": [
    "late_creative_pivot_final"
   ]
  },
  {
   "cell_type": "code",
   "execution_count": 195,
   "metadata": {},
   "outputs": [],
   "source": [
    "#Figuring out corresponsindg Transpose formula alphabet letter "
   ]
  },
  {
   "cell_type": "code",
   "execution_count": 196,
   "metadata": {},
   "outputs": [],
   "source": [
    "late_creative_pivot_len = len(late_creative_pivot_final['Account_Executive'])"
   ]
  },
  {
   "cell_type": "code",
   "execution_count": 197,
   "metadata": {},
   "outputs": [],
   "source": [
    "alphabet_list = ['a','b','c','d','e','f','g','h','i','j','k','l',\n",
    "               'm','n','o','p','q','r','s','t','u','v','w','x','y','z']"
   ]
  },
  {
   "cell_type": "code",
   "execution_count": 198,
   "metadata": {},
   "outputs": [],
   "source": [
    "alphabet_number=late_creative_pivot_len-1"
   ]
  },
  {
   "cell_type": "code",
   "execution_count": 199,
   "metadata": {},
   "outputs": [
    {
     "data": {
      "text/plain": [
       "11"
      ]
     },
     "execution_count": 199,
     "metadata": {},
     "output_type": "execute_result"
    }
   ],
   "source": [
    "alphabet_number"
   ]
  },
  {
   "cell_type": "code",
   "execution_count": 200,
   "metadata": {},
   "outputs": [
    {
     "data": {
      "text/plain": [
       "'l'"
      ]
     },
     "execution_count": 200,
     "metadata": {},
     "output_type": "execute_result"
    }
   ],
   "source": [
    "alphabet_var = alphabet_list[alphabet_number]\n",
    "alphabet_var"
   ]
  },
  {
   "cell_type": "code",
   "execution_count": 201,
   "metadata": {},
   "outputs": [],
   "source": [
    "#Writing Late Creative materials to Google Sheets"
   ]
  },
  {
   "cell_type": "code",
   "execution_count": 226,
   "metadata": {},
   "outputs": [
    {
     "data": {
      "text/plain": [
       "{'spreadsheetId': '1QgNXDUDIbRa6gvNX3OBGlOFQz-2BvKd-xqvj3aHdBZA',\n",
       " 'updatedRange': \"'Late Creative 09-09-2019'!A1:L1\",\n",
       " 'updatedRows': 1,\n",
       " 'updatedColumns': 12,\n",
       " 'updatedCells': 12}"
      ]
     },
     "execution_count": 226,
     "metadata": {},
     "output_type": "execute_result"
    }
   ],
   "source": [
    "row1 = late_creative_pivot_final_ae\n",
    "index1 = 1\n",
    "wks.insert_row(row1, index1)"
   ]
  },
  {
   "cell_type": "code",
   "execution_count": 203,
   "metadata": {},
   "outputs": [
    {
     "data": {
      "text/plain": [
       "{'spreadsheetId': '1QgNXDUDIbRa6gvNX3OBGlOFQz-2BvKd-xqvj3aHdBZA',\n",
       " 'updatedRange': 'Sheet1!A2:L2',\n",
       " 'updatedRows': 1,\n",
       " 'updatedColumns': 12,\n",
       " 'updatedCells': 12}"
      ]
     },
     "execution_count": 203,
     "metadata": {},
     "output_type": "execute_result"
    }
   ],
   "source": [
    "row2 = late_creative_pivot_final_adv\n",
    "index2 = 2\n",
    "wks.insert_row(row2, index2)"
   ]
  },
  {
   "cell_type": "code",
   "execution_count": 204,
   "metadata": {},
   "outputs": [
    {
     "data": {
      "text/plain": [
       "{'spreadsheetId': '1QgNXDUDIbRa6gvNX3OBGlOFQz-2BvKd-xqvj3aHdBZA',\n",
       " 'updatedRange': 'Sheet1!A3:L3',\n",
       " 'updatedRows': 1,\n",
       " 'updatedColumns': 12,\n",
       " 'updatedCells': 12}"
      ]
     },
     "execution_count": 204,
     "metadata": {},
     "output_type": "execute_result"
    }
   ],
   "source": [
    "row3 = late_creative_pivot_final_name\n",
    "index3 = 3\n",
    "wks.insert_row(row3, index3)"
   ]
  },
  {
   "cell_type": "code",
   "execution_count": 205,
   "metadata": {},
   "outputs": [
    {
     "data": {
      "text/plain": [
       "{'spreadsheetId': '1QgNXDUDIbRa6gvNX3OBGlOFQz-2BvKd-xqvj3aHdBZA',\n",
       " 'updatedRange': 'Sheet1!A4:L4',\n",
       " 'updatedRows': 1,\n",
       " 'updatedColumns': 12,\n",
       " 'updatedCells': 12}"
      ]
     },
     "execution_count": 205,
     "metadata": {},
     "output_type": "execute_result"
    }
   ],
   "source": [
    "row4 = late_creative_pivot_final_pend\n",
    "index4 = 4\n",
    "wks.insert_row(row4, index4)"
   ]
  },
  {
   "cell_type": "code",
   "execution_count": 206,
   "metadata": {},
   "outputs": [
    {
     "data": {
      "text/plain": [
       "{'spreadsheetId': '1QgNXDUDIbRa6gvNX3OBGlOFQz-2BvKd-xqvj3aHdBZA',\n",
       " 'updatedRange': 'Sheet1!A5:L5',\n",
       " 'updatedRows': 1,\n",
       " 'updatedColumns': 12,\n",
       " 'updatedCells': 12}"
      ]
     },
     "execution_count": 206,
     "metadata": {},
     "output_type": "execute_result"
    }
   ],
   "source": [
    "row5 = late_creative_pivot_final_imp\n",
    "index5 = 5\n",
    "wks.insert_row(row5, index5)"
   ]
  },
  {
   "cell_type": "code",
   "execution_count": 207,
   "metadata": {},
   "outputs": [
    {
     "data": {
      "text/plain": [
       "{'spreadsheetId': '1QgNXDUDIbRa6gvNX3OBGlOFQz-2BvKd-xqvj3aHdBZA',\n",
       " 'updatedRange': 'Sheet1!A9:F9',\n",
       " 'updatedRows': 1,\n",
       " 'updatedColumns': 6,\n",
       " 'updatedCells': 6}"
      ]
     },
     "execution_count": 207,
     "metadata": {},
     "output_type": "execute_result"
    }
   ],
   "source": [
    "row9 = late_creative_pivot_final_headers\n",
    "index9 = 9\n",
    "wks.insert_row(row9, index9)"
   ]
  },
  {
   "cell_type": "code",
   "execution_count": 208,
   "metadata": {},
   "outputs": [
    {
     "data": {
      "text/plain": [
       "{'spreadsheetId': '1QgNXDUDIbRa6gvNX3OBGlOFQz-2BvKd-xqvj3aHdBZA',\n",
       " 'updatedRange': 'Sheet1!A10',\n",
       " 'updatedRows': 1,\n",
       " 'updatedColumns': 1,\n",
       " 'updatedCells': 1}"
      ]
     },
     "execution_count": 208,
     "metadata": {},
     "output_type": "execute_result"
    }
   ],
   "source": [
    "wks.update_cell(10,1, '=TRANSPOSE(A1:'+alphabet_var+'5)')"
   ]
  },
  {
   "cell_type": "code",
   "execution_count": null,
   "metadata": {},
   "outputs": [],
   "source": [
    "###Cron Job Established in Terminal###\n",
    "# 0 11 * * 1,4 /anaconda3/bin/python /Users/Jeffrey.Lu@ibm.com/Desktop/Pacing_Automation.py"
   ]
  },
  {
   "cell_type": "code",
   "execution_count": null,
   "metadata": {},
   "outputs": [],
   "source": [
    "###Future Improvement List###\n",
    "#1.) Automatic data importing process via pyodbc or selenium.\n",
    "#2.) Better report formatting could be written. Write python code that will insert VBA script into the excel/Google Sheets\n",
    "#    export and run it."
   ]
  },
  {
   "cell_type": "code",
   "execution_count": null,
   "metadata": {},
   "outputs": [],
   "source": [
    "###Modifications that need to be made for when this script is inherited###\n",
    "\n",
    "#1.)Script is customized for this mac computer. If changed, we need to change Current Work Directory for Pacing report retrival\n",
    "\n",
    "#2.)1st time script will run, it will use the current excel output as the current output and the previous output until\n",
    "#  the program is run a second time for the next report where it can then use the last outputted report as the previous report\n",
    "#  for week-over-week calculations\n",
    "\n",
    "#3.) Email SMPT credentials username and password will need to be changed\n",
    "\n",
    "#4.) Cron Job script will need to be entered and the variables will need to change\n",
    "\n",
    "#5.) Google Spreadsheet and Drive API Credentails need to change\n",
    "\n",
    "#6.) Google API Access to Drive and Sheets will need to be granted \n",
    "\n",
    "#7.) All packages will need to be downloaded via pip or sudo pip\n"
   ]
  }
 ],
 "metadata": {
  "kernelspec": {
   "display_name": "Python 3",
   "language": "python",
   "name": "python3"
  },
  "language_info": {
   "codemirror_mode": {
    "name": "ipython",
    "version": 3
   },
   "file_extension": ".py",
   "mimetype": "text/x-python",
   "name": "python",
   "nbconvert_exporter": "python",
   "pygments_lexer": "ipython3",
   "version": "3.7.3"
  }
 },
 "nbformat": 4,
 "nbformat_minor": 2
}
